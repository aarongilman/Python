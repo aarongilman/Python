{
 "cells": [
  {
   "cell_type": "code",
   "execution_count": 1,
   "metadata": {
    "ExecuteTime": {
     "end_time": "2018-05-04T00:22:20.772757Z",
     "start_time": "2018-05-04T00:22:17.641746Z"
    }
   },
   "outputs": [
    {
     "ename": "ModuleNotFoundError",
     "evalue": "No module named 'config'",
     "output_type": "error",
     "traceback": [
      "\u001b[1;31m---------------------------------------------------------------------------\u001b[0m",
      "\u001b[1;31mModuleNotFoundError\u001b[0m                       Traceback (most recent call last)",
      "\u001b[1;32m<ipython-input-1-0b917f5cdc69>\u001b[0m in \u001b[0;36m<module>\u001b[1;34m()\u001b[0m\n\u001b[0;32m      2\u001b[0m \u001b[1;32mimport\u001b[0m \u001b[0mpandas\u001b[0m \u001b[1;32mas\u001b[0m \u001b[0mpd\u001b[0m\u001b[1;33m\u001b[0m\u001b[0m\n\u001b[0;32m      3\u001b[0m \u001b[1;32mimport\u001b[0m \u001b[0mjson\u001b[0m\u001b[1;33m\u001b[0m\u001b[0m\n\u001b[1;32m----> 4\u001b[1;33m \u001b[1;32mimport\u001b[0m \u001b[0mconfig\u001b[0m\u001b[1;33m\u001b[0m\u001b[0m\n\u001b[0m\u001b[0;32m      5\u001b[0m \u001b[1;32mimport\u001b[0m \u001b[0mmath\u001b[0m\u001b[1;33m\u001b[0m\u001b[0m\n\u001b[0;32m      6\u001b[0m \u001b[1;33m\u001b[0m\u001b[0m\n",
      "\u001b[1;31mModuleNotFoundError\u001b[0m: No module named 'config'"
     ]
    }
   ],
   "source": [
    "import requests\n",
    "import pandas as pd \n",
    "import json\n",
    "import config\n",
    "import math\n",
    "\n",
    "%matplotlib inline"
   ]
  },
  {
   "cell_type": "code",
   "execution_count": null,
   "metadata": {
    "ExecuteTime": {
     "end_time": "2018-05-04T00:22:20.773258Z",
     "start_time": "2018-05-04T00:22:17.646Z"
    }
   },
   "outputs": [],
   "source": [
    "# The url for BLS API v2\n",
    "url = 'https://api.bls.gov/publicAPI/v2/timeseries/data/'\n",
    "\n",
    "# API key in config.py which contains: bls_key = 'key'\n",
    "key = '?registrationkey={}'.format(config.bls_key)\n",
    "\n",
    "headers = {'Content-type': 'application/json'}\n",
    "\n",
    "series_dict = {'LNS12300060': 'EPOP'}\n",
    "\n",
    "df = pd.DataFrame()  # blank pandas dataframe to be filled later"
   ]
  },
  {
   "cell_type": "code",
   "execution_count": null,
   "metadata": {
    "ExecuteTime": {
     "end_time": "2018-05-04T00:22:20.774268Z",
     "start_time": "2018-05-04T00:22:17.652Z"
    }
   },
   "outputs": [],
   "source": [
    "# Include the start and end year here\n",
    "date_range = (1994, 2017)\n",
    "\n",
    "# Divide the date range into BLS-API-friendly length requests\n",
    "req_no = int(math.ceil((date_range[1] - date_range[0]) / 10.0))\n",
    "dates = []\n",
    "for i in range(0,req_no):\n",
    "    d1 = str(date_range[0]+i*10)\n",
    "    d2 = str(date_range[0]+i*10+9)\n",
    "    dates.append((d1,d2))\n",
    "dates[-1] = (dates[-1][0], str(date_range[1]))\n",
    "\n",
    "dates"
   ]
  },
  {
   "cell_type": "code",
   "execution_count": null,
   "metadata": {
    "ExecuteTime": {
     "end_time": "2018-05-04T00:22:20.775259Z",
     "start_time": "2018-05-04T00:22:17.656Z"
    }
   },
   "outputs": [],
   "source": [
    "for start, end in dates:\n",
    "        \n",
    "    # The data sent in the post request now includes a start and end year\n",
    "    data = json.dumps({\"seriesid\":series_dict.keys(), \"startyear\":start, \"endyear\":end})\n",
    "    p = requests.post('{}{}'.format(url, key), headers=headers, data=data).json()\n",
    "    d = {} # New dictionary to be filled with data\n",
    "    for series in p['Results']['series']:\n",
    "        s = series['seriesID']  # Shorten name to 's'\n",
    "        \n",
    "        # Add dictionary entry with series and reverse series order\n",
    "        d[s] = pd.DataFrame(series['data']).iloc[::-1]\n",
    "        if len(series['data']) > 0:  # This if/else is to allow for series of different lengths\n",
    "            \n",
    "            # Convert BLS API dates to readable format (YYYY-MM-DD)\n",
    "            d[s]['date'] = pd.to_datetime(d[s]['period'] + ' ' + d[s]['year'])\n",
    "            \n",
    "            # Keep only date and series values\n",
    "            d[s] = d[s].set_index('date')['value'].astype(float)\n",
    "            \n",
    "            # Rename and identify values as floating point numbers\n",
    "            d[s] = d[s].rename(series_dict[s])\n",
    "        else:  # If blank, leave as a blank pandas series\n",
    "            d[s]['date'] = d[s]['value'] = pd.Series()\n",
    "            d[s] = d[s]['value'].rename(series_dict[s])\n",
    "            \n",
    "    # Combine the dataframes for each range of years into one by appending        \n",
    "    df = df.append(pd.concat([d[k] for k in series_dict.keys()], axis=1))"
   ]
  },
  {
   "cell_type": "code",
   "execution_count": null,
   "metadata": {
    "ExecuteTime": {
     "end_time": "2018-05-04T00:22:20.777761Z",
     "start_time": "2018-05-04T00:22:17.660Z"
    }
   },
   "outputs": [],
   "source": [
    "df.resample('3M', closed='left').mean().to_csv('epop.csv')"
   ]
  },
  {
   "cell_type": "code",
   "execution_count": null,
   "metadata": {
    "ExecuteTime": {
     "end_time": "2018-05-04T00:22:20.780262Z",
     "start_time": "2018-05-04T00:22:17.668Z"
    }
   },
   "outputs": [],
   "source": [
    "epop = df.resample('3M', closed='left').mean()[:-1]\n",
    "eci = pd.read_csv('ECI.csv').set_index('date')"
   ]
  },
  {
   "cell_type": "code",
   "execution_count": null,
   "metadata": {
    "ExecuteTime": {
     "end_time": "2018-05-04T00:22:20.781273Z",
     "start_time": "2018-05-04T00:22:17.674Z"
    }
   },
   "outputs": [],
   "source": [
    "df2 = epop.join(eci)\n",
    "df2['UPOP'] = [100 - df2['EPOP'].values][0]"
   ]
  },
  {
   "cell_type": "code",
   "execution_count": null,
   "metadata": {
    "ExecuteTime": {
     "end_time": "2018-05-04T00:22:20.781763Z",
     "start_time": "2018-05-04T00:22:17.678Z"
    }
   },
   "outputs": [],
   "source": [
    "df2.tail()"
   ]
  },
  {
   "cell_type": "code",
   "execution_count": null,
   "metadata": {
    "ExecuteTime": {
     "end_time": "2018-05-04T00:22:20.783264Z",
     "start_time": "2018-05-04T00:22:17.682Z"
    }
   },
   "outputs": [],
   "source": [
    "df2[['ECI', 'UPOP']].plot(kind='scatter', x='UPOP', y='ECI')"
   ]
  },
  {
   "cell_type": "code",
   "execution_count": null,
   "metadata": {
    "ExecuteTime": {
     "end_time": "2018-05-04T00:22:20.783774Z",
     "start_time": "2018-05-04T00:22:17.684Z"
    }
   },
   "outputs": [],
   "source": [
    "import statsmodels.api as sm"
   ]
  },
  {
   "cell_type": "code",
   "execution_count": null,
   "metadata": {
    "ExecuteTime": {
     "end_time": "2018-05-04T00:22:20.785265Z",
     "start_time": "2018-05-04T00:22:17.688Z"
    }
   },
   "outputs": [],
   "source": [
    "X = df2['UPOP'] ## X usually means our input variables (or independent variables)\n",
    "y = df2['ECI'] ## Y usually means our output/dependent variable\n",
    "X = sm.add_constant(X) ## let's add an intercept (beta_0) to our model\n",
    "\n",
    "# Note the difference in argument order\n",
    "model = sm.OLS(y, X).fit() ## sm.OLS(output, input)\n",
    "predictions = model.predict(X)\n",
    "\n",
    "# Print out the statistics\n",
    "model.summary()"
   ]
  }
 ],
 "metadata": {
  "kernelspec": {
   "display_name": "Python 3",
   "language": "python",
   "name": "python3"
  },
  "language_info": {
   "codemirror_mode": {
    "name": "ipython",
    "version": 3
   },
   "file_extension": ".py",
   "mimetype": "text/x-python",
   "name": "python",
   "nbconvert_exporter": "python",
   "pygments_lexer": "ipython3",
   "version": "3.6.6"
  }
 },
 "nbformat": 4,
 "nbformat_minor": 2
}
