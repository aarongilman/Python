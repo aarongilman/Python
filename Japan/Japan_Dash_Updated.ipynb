{
 "cells": [
  {
   "cell_type": "code",
   "execution_count": 2,
   "metadata": {
    "ExecuteTime": {
     "end_time": "2018-08-23T02:59:52.367979Z",
     "start_time": "2018-08-23T02:59:52.352354Z"
    }
   },
   "outputs": [],
   "source": [
    "import pandas as pd\n",
    "pd.core.common.is_list_like = pd.api.types.is_list_like\n",
    "import pandas_datareader.data as pdr\n",
    "import datetime\n",
    "import requests\n",
    "import quandl\n",
    "import config   ## File with API key\n",
    "quandl.ApiConfig.api_key = config.key\n",
    "\n",
    "from lxml import html\n",
    "import re\n",
    "import os\n",
    "import shutil\n",
    "\n",
    "os.chdir('C:/Working/Python/Japan/')\n",
    "\n",
    "def write_txt(filename, filetext):\n",
    "# Write label to txt file\n",
    "    with open(filename, 'w') as text_file:\n",
    "        text_file.write(filetext)"
   ]
  },
  {
   "cell_type": "code",
   "execution_count": null,
   "metadata": {},
   "outputs": [],
   "source": []
  },
  {
   "cell_type": "code",
   "execution_count": 3,
   "metadata": {
    "ExecuteTime": {
     "end_time": "2018-08-23T02:59:54.055482Z",
     "start_time": "2018-08-23T02:59:52.367979Z"
    }
   },
   "outputs": [],
   "source": [
    "# To get the latest data, need to find the correct link on the cabinet office page\n",
    "base = 'http://www.esri.cao.go.jp/en/sna/'\n",
    "\n",
    "url = base + 'sokuhou/sokuhou_top.html'\n",
    "links = html.fromstring(requests.get(url).content).xpath('//a/@href')\n",
    "link = next(i for i in links if 'gde' in i)\n",
    "\n",
    "url = base+link[3:]\n",
    "links = html.fromstring(requests.get(url).content).xpath('//a/@href')"
   ]
  },
  {
   "cell_type": "code",
   "execution_count": 4,
   "metadata": {
    "ExecuteTime": {
     "end_time": "2018-08-23T02:59:54.992993Z",
     "start_time": "2018-08-23T02:59:54.055482Z"
    }
   },
   "outputs": [],
   "source": [
    "link = next(i for i in links if 'nkiyo-jk' in i)\n",
    "url = base.replace('en', 'jp') + link[link.find('data/'):]\n",
    "urlY = url.replace('nkiyo', 'kgaku')\n",
    "urlI = url.replace('nkiyo', 'gaku')\n",
    "urlX = url.replace('nkiyo-j', 'gaku-m')\n",
    "df = pd.read_csv(url, header=5, encoding='iso-8859-1').loc[49:]"
   ]
  },
  {
   "cell_type": "code",
   "execution_count": 5,
   "metadata": {
    "ExecuteTime": {
     "end_time": "2018-08-23T02:59:55.836731Z",
     "start_time": "2018-08-23T02:59:54.992993Z"
    }
   },
   "outputs": [],
   "source": [
    "gdpkeep = {\n",
    "    'Unnamed: 0': 'date',\n",
    "    'GDP(Expenditure Approach)': 'gdp',\n",
    "    'PrivateConsumption': 'cons',\n",
    "    'PrivateResidentialInvestment': 'inv1',\n",
    "    'Private Non-Resi.Investment': 'inv2',\n",
    "    'Changein PrivateInventories': 'inv3',\n",
    "    'GovernmentConsumption': 'gov1',\n",
    "    'PublicInvestment': 'gov2',\n",
    "    'Changein PublicInventories': 'gov3',\n",
    "    'Goods & Services': 'nx'\n",
    "}\n",
    "df = df[list(gdpkeep.keys())].dropna()\n",
    "df.columns = df.columns.to_series().map(gdpkeep)\n",
    "\n",
    "# Adjust the date column to make each value a consistent format\n",
    "dts = df['date'].str.split('-').str[0].str.split('/ ')\n",
    "for dt in dts:\n",
    "    if len(dt) == 1:\n",
    "        dt.append(dt[0])\n",
    "        dt[0] = None\n",
    "df['year'] = dts.str[0].fillna(method='ffill')\n",
    "df['month'] = dts.str[1].str.zfill(2)\n",
    "df['date2'] = df['year'].str.cat(df['month'], sep='-')\n",
    "df['date'] = pd.to_datetime(df['date2'], format='%Y-%m')\n",
    "\n",
    "# Sum up various types of investment and government spending\n",
    "df['inv'] = df['inv1'] + df['inv2'] + df['inv3']\n",
    "df['gov'] = df['gov1'] + df['gov2'] + df['gov3']\n",
    "df = df.set_index('date')[['gdp', 'cons', 'inv', 'gov', 'nx']]\n",
    "df.to_csv('data/gdp.csv', header=True)  # csv file created\n",
    "\n",
    "# Declare variables for chart label\n",
    "q = df.index[-1].quarter\n",
    "y = df.index[-1].strftime('%Y')\n",
    "Y = pd.read_csv(urlY, header=5, encoding='iso-8859-1').iloc[49:, 1:2].dropna().iloc[-1].values[0]\n",
    "ch = df['gdp'][-1]\n",
    "text = '{} Q{}: Real GDP: {}billion Yen; Growth: {}\\%'.format(y, q, Y, ch)\n",
    "# Write label to txt file\n",
    "write_txt('data/gdp.txt', text)"
   ]
  },
  {
   "cell_type": "code",
   "execution_count": 6,
   "metadata": {
    "ExecuteTime": {
     "end_time": "2018-08-23T02:59:56.774243Z",
     "start_time": "2018-08-23T02:59:55.836731Z"
    }
   },
   "outputs": [],
   "source": [
    "# Household consumption expenditures \n",
    "df = pd.read_csv(urlY, header=5, thousands=',', \n",
    "                 encoding='iso-8859-1').iloc[49:, [0,5,6,7,8]].dropna().set_index('Unnamed: 0')\n",
    "df['tot'] = df.sum(axis=1)\n",
    "\n",
    "series = {'DurableGoods': 'durable',\n",
    "          'Semi-DurableGoods': 'semidur',\n",
    "          'Non-DurableGoods': 'nondur',\n",
    "          'Services': 'services',\n",
    "          'tot': 'total'}\n",
    "\n",
    "df.columns = series.values()\n",
    "# Convert to share of total change\n",
    "for k, v in series.items():\n",
    "    df[v+'_ch'] = ((df[v] - df[v].shift(1))/df['total'].shift(1) * 400).round(2)\n",
    "\n",
    "df = df.dropna()    \n",
    "df['quarter'] = df.index.str.split('-').str[0].str.split('/ ').str[-1]\n",
    "df['year'] = [x for x in df.index.str.split('/ ').str[0].values if len(x) == 4 for n in range(4)][:len(df)]\n",
    "df['date'] = pd.to_datetime(df['year'].str.cat(df['quarter'], sep='-'))\n",
    "\n",
    "df = df.reset_index().set_index('date').drop(['quarter', 'year', 'Unnamed: 0'],1).dropna()\n",
    "df.to_csv('data/cons.csv', header=True)  # csv file created\n",
    "\n",
    "# Declare variables for chart label\n",
    "q = df.index[-1].quarter\n",
    "y = df.index[-1].strftime('%Y')\n",
    "C = df['total'][-1]\n",
    "ch = df['total_ch'][-1]\n",
    "text = 'Total household consumption expenditure: \\\\\\ {} Q{}: {:,} billion Yen; Growth: {}\\%'.format(y, q, C, ch)\n",
    "# Write label to txt file\n",
    "write_txt('data/cons.txt', text)"
   ]
  },
  {
   "cell_type": "code",
   "execution_count": 7,
   "metadata": {
    "ExecuteTime": {
     "end_time": "2018-08-23T02:59:58.305492Z",
     "start_time": "2018-08-23T02:59:56.774243Z"
    }
   },
   "outputs": [],
   "source": [
    "# Investment by source \n",
    "df = pd.read_csv(urlI, header=5, thousands=',', \n",
    "                 encoding='iso-8859-1').iloc[49:, [0,5,6,9]].dropna().set_index('Unnamed: 0')\n",
    "df['tot'] = df.sum(axis=1)\n",
    "\n",
    "series2 = {'PrivateResidentialInvestment': 'res',\n",
    "           'Private Non-Resi.Investment': 'bus', \n",
    "           'PublicInvestment': 'pub', \n",
    "           'tot': 'total'}\n",
    "\n",
    "df.columns = series2.values()\n",
    "# Convert to share of total change\n",
    "for k, v in series2.items():\n",
    "    df[v+'_ch'] = ((df[v] - df[v].shift(1))/df['total'].shift(1) * 400).round(2)\n",
    "    \n",
    "df['quarter'] = df.index.str.split('-').str[0].str.split('/ ').str[-1]\n",
    "df['year'] = [x for x in df.index.str.split('/ ').str[0].values if len(x) == 4 for n in range(4)][:len(df)]\n",
    "df['date'] = pd.to_datetime(df['year'].str.cat(df['quarter'], sep='-'))\n",
    "\n",
    "df = df.reset_index().set_index('date').drop(['quarter', 'year', 'Unnamed: 0'],1).dropna()\n",
    "df.to_csv('data/inv.csv', header=True)  # csv file created\n",
    "\n",
    "# Declare variables for chart label\n",
    "q = df.index[-1].quarter\n",
    "y = df.index[-1].strftime('%Y')\n",
    "I = df['total'][-1]\n",
    "ch = df['total_ch'][-1]\n",
    "text = 'Total investment expenditure: \\\\\\{} Q{}: {:,} billion Yen; Growth: {}\\%'.format(y, q, I, ch)\n",
    "# Write label to txt file\n",
    "write_txt('data/inv.txt', text)"
   ]
  },
  {
   "cell_type": "code",
   "execution_count": 8,
   "metadata": {
    "ExecuteTime": {
     "end_time": "2018-08-23T03:00:00.305492Z",
     "start_time": "2018-08-23T02:59:58.305492Z"
    }
   },
   "outputs": [],
   "source": [
    "# Current account from Ministry of Finance balance of payments data\n",
    "url = 'http://www.mof.go.jp/international_policy/reference/balance_of_payments/bp_trend/bpnet/sbp/s-a/6s-a-1.csv'\n",
    "columns = ['year' ,'quarter', 'cab', 'gs', 'goods', 'ex', 'im', 'serv', 'income', 'transfers']\n",
    "series = ['cab', 'goods', 'serv', 'income', 'transfers']\n",
    "df = pd.read_csv(url, skiprows=28, thousands=',', encoding='iso-8859-1').iloc[:,2:].drop('Unnamed: 4',1)\n",
    "df.columns = columns\n",
    "df['quarter'] = df['quarter'].str[0]\n",
    "df['year'] = df['year'].fillna(method='ffill').astype(int)\n",
    "df['date'] = pd.to_datetime(df['year'].map(str) + 'Q' + df['quarter'])\n",
    "df = df.set_index('date')\n",
    "df = df.iloc[40:,:]\n"
   ]
  },
  {
   "cell_type": "code",
   "execution_count": 9,
   "metadata": {
    "ExecuteTime": {
     "end_time": "2018-08-23T03:00:00.321102Z",
     "start_time": "2018-08-23T03:00:00.305492Z"
    }
   },
   "outputs": [
    {
     "name": "stdout",
     "output_type": "stream",
     "text": [
      "http://www.esri.cao.go.jp/jp/sna/data/data_list/sokuhou/files/2018/qe182/tables/gaku-mk1821.csv\n"
     ]
    }
   ],
   "source": [
    "print(urlX)"
   ]
  },
  {
   "cell_type": "code",
   "execution_count": 10,
   "metadata": {
    "ExecuteTime": {
     "end_time": "2018-08-23T03:00:01.180491Z",
     "start_time": "2018-08-23T03:00:00.321102Z"
    }
   },
   "outputs": [],
   "source": [
    "# Nominal GDP from cabinet office\n",
    "ngdp = pd.read_csv(urlX, header=5, thousands=',').iloc[49:, 0:2].dropna()\n",
    "dts = ngdp['Unnamed: 0'].str.split('-').str[0].str.split('/ ')\n",
    "for dt in dts:\n",
    "    if len(dt) == 1:\n",
    "        dt.append(dt[0])\n",
    "        dt[0] = None\n",
    "ngdp['year'] = dts.str[0].fillna(method='ffill')\n",
    "ngdp['month'] = dts.str[1].str.zfill(2)\n",
    "ngdp['date2'] = ngdp['year'].str.cat(ngdp['month'], sep='-')\n",
    "ngdp['date'] = pd.to_datetime(ngdp['date2'], format='%Y-%m')\n",
    "ngdp = ngdp.set_index('date')['GDP(Expenditure Approach)']\n",
    "ngdp.name = 'gdp'\n",
    "\n",
    "df = df.join(ngdp).dropna()\n",
    "df = df[series].div(df['gdp'].multiply(.025), axis=0).round(2).join(df[['ex', 'im']].div(10))\n",
    "df.to_csv('data/external.csv', header=True)  # csv file created\n",
    "\n",
    "# Declare variables for chart label\n",
    "q = df.index[-1].quarter\n",
    "y = df.index[-1].strftime('%Y')\n",
    "lt = df['cab'][-1]\n",
    "exim = 'Exports: {:,}; Imports {:,}'.format(df['ex'][-1], df['im'][-1])\n",
    "text = '{} Q{}: Current Account Balance: {}\\% of GDP'.format(y, q, lt)\n",
    "text2 = '{} Q{}: {} (goods only, billion Yen)'.format(y, q, exim)\n",
    "# Write label to txt file\n",
    "write_txt('data/cab.txt', text)\n",
    "write_txt('data/tb.txt', text2)"
   ]
  },
  {
   "cell_type": "code",
   "execution_count": 11,
   "metadata": {
    "ExecuteTime": {
     "end_time": "2018-08-23T03:00:07.660044Z",
     "start_time": "2018-08-23T03:00:01.180491Z"
    }
   },
   "outputs": [],
   "source": [
    "# Unemployment and participation\n",
    "unemp_url = 'http://www.stat.go.jp/data/roudou/longtime/zuhyou/lt01-a10.xls'\n",
    "r = requests.get(unemp_url)\n",
    "with open('unemp.xls', 'wb') as f:\n",
    "    f.write(r.content)\n",
    "\n",
    "df = pd.read_excel('unemp.xls', skiprows=5, skipfooter=3).drop([1, 3])\n",
    "col1 = df.loc[0].fillna(method='ffill')\n",
    "col2 = df.loc[2]\n",
    "col = col1 + '-' + col2\n",
    "col[0] = 'year'\n",
    "col[1] = 'mon'\n",
    "col[2] = 'monname'\n",
    "col[3] = 'DEL'\n",
    "df = df.drop([0,2])\n",
    "df.columns = col.values\n",
    "df = df.drop('DEL', 1)\n",
    "df['month'] = df['mon'].str[:-1].str.zfill(2)\n",
    "df['year'] = df['year'].apply(pd.to_numeric, errors='coerce').shift(-1).fillna(method='ffill').astype(int)\n",
    "df['date2'] = df['year'].astype(str).str.cat(df['month'], sep='-')\n",
    "df['date'] = pd.to_datetime(df['date2'], format='%Y-%m')\n",
    "df = df.set_index('date').dropna()\n",
    "df['pop'] = df['Labour force-Both sexes'] + df['Not in labour force-Both sexes']\n",
    "df['partc'] = df['Labour force-Both sexes'] / df['pop'] * 100\n",
    "df['pop-m'] = df['Labour force-Male'] + df['Not in labour force-Male']\n",
    "df['partc-m'] = df['Labour force-Male'] / df['pop-m'] * 100\n",
    "df['pop-w'] = df['Labour force-Female'] + df['Not in labour force-Female']\n",
    "df['partc-w'] = df['Labour force-Female'] / df['pop-w'] * 100\n",
    "unemplt = df['Unemployment rate  (percent)-Both sexes'][-1]\n",
    "df['unemp'] = df['Unemployment rate  (percent)-Both sexes']\n",
    "d1 = df.index[-1].strftime('%b %Y')\n",
    "df = df[['partc', 'partc-m', 'partc-w', 'unemp']][636:]\n",
    "\n",
    "# Write to file\n",
    "df.to_csv('data/labor.csv', header=True)  # csv file created\n",
    "text = 'Unemployment rate, both sexes: {}: {}\\%'.format(d1, unemplt)\n",
    "# Write label to txt file\n",
    "write_txt('data/labor.txt', text)"
   ]
  },
  {
   "cell_type": "code",
   "execution_count": 12,
   "metadata": {
    "ExecuteTime": {
     "end_time": "2018-08-23T03:00:18.128791Z",
     "start_time": "2018-08-23T03:00:07.660044Z"
    }
   },
   "outputs": [],
   "source": [
    "# Updated inputs to pandas datareader:\n",
    "source = 'fred' \n",
    "start = datetime.datetime(2013,1,1)\n",
    "series = {'RBJPBIS': 'REER',\n",
    "          'NBJPBIS': 'NEER'}\n",
    "series2 = {'BOE/XUDLJYD': 'Rate'}\n",
    "\n",
    "# Retrieve data as pandas dataframe named df\n",
    "df = pdr.DataReader(list(series.keys()), source, start)\n",
    "df.columns = series.values()\n",
    "dft = 1 / quandl.get(list(series2.keys()), start_date='2013-01-01')['BOE/XUDLJYD - Value']\n",
    "dft = dft.rename('Rate')\n",
    "df2 = df.join(dft, how='outer').fillna(method='bfill').loc['2014-01-01':]\n",
    "#df2['Rate'] = df2['Rate'].fillna(method='bfill')\n",
    "\n",
    "label = 'As of {}: {} JPY per 1 USD'.format(df2.index[-1].strftime('%b %#d, %Y'), (1 / df2['Rate'][-1]).round(2))\n",
    "for column in df2.columns:\n",
    "    df2[column] = df2[column] / df2.dropna()[column][0]\n",
    "\n",
    "df2.to_csv('data/fx.csv', header=True, index_label='Date')  # csv file created\n",
    "\n",
    "# Write label to txt file\n",
    "write_txt('data/usdjpy.txt', label)"
   ]
  },
  {
   "cell_type": "code",
   "execution_count": null,
   "metadata": {},
   "outputs": [],
   "source": []
  },
  {
   "cell_type": "code",
   "execution_count": 13,
   "metadata": {
    "ExecuteTime": {
     "end_time": "2018-08-23T03:00:32.363176Z",
     "start_time": "2018-08-23T03:00:18.128791Z"
    }
   },
   "outputs": [
    {
     "data": {
      "text/plain": [
       "'C:/Working/bdecon.github.io/Dash/JPNDash.pdf'"
      ]
     },
     "execution_count": 13,
     "metadata": {},
     "output_type": "execute_result"
    }
   ],
   "source": [
    "os.system('pdflatex JPNDash.tex')\n",
    "shutil.copy('JPNDash.pdf', 'C:/Working/bdecon.github.io/Dash/')"
   ]
  }
 ],
 "metadata": {
  "kernelspec": {
   "display_name": "Python 3",
   "language": "python",
   "name": "python3"
  },
  "language_info": {
   "codemirror_mode": {
    "name": "ipython",
    "version": 3
   },
   "file_extension": ".py",
   "mimetype": "text/x-python",
   "name": "python",
   "nbconvert_exporter": "python",
   "pygments_lexer": "ipython3",
   "version": "3.6.6"
  }
 },
 "nbformat": 4,
 "nbformat_minor": 2
}
