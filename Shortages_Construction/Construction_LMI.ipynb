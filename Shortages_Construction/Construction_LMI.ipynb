{
 "cells": [
  {
   "cell_type": "markdown",
   "metadata": {},
   "source": [
    "Construction Industry Labor Market Indicators\n",
    "======\n",
    "\n",
    "## Examining summary statistics and calculating basic indicators of labor market slack\n",
    "\n",
    "-----\n",
    "\n",
    "*Brian Dew*<br>\n",
    "*September 12, 2017*<br>\n",
    "*Email: dew@cepr.net*<br>\n",
    "*Twitter: @bd_econ*<br>\n",
    "\n",
    "The objective is to examine whether the labor market for construction workers is as tight as advertised. Three indicator are used: \n",
    "\n",
    "1. Unemployed construction workers per job opening\n",
    "2. Nominal wage growth in construction vs all industries\n",
    "3. Rate of change in the average number of hours worked per week"
   ]
  },
  {
   "cell_type": "markdown",
   "metadata": {},
   "source": [
    "### Import preliminaries"
   ]
  },
  {
   "cell_type": "code",
   "execution_count": 1,
   "metadata": {},
   "outputs": [],
   "source": [
    "import pandas as pd\n",
    "import json\n",
    "import requests\n",
    "import config"
   ]
  },
  {
   "cell_type": "markdown",
   "metadata": {},
   "source": [
    "### Select variables to request"
   ]
  },
  {
   "cell_type": "code",
   "execution_count": 2,
   "metadata": {
    "collapsed": true
   },
   "outputs": [],
   "source": [
    "url = 'https://api.bls.gov/publicAPI/v2/timeseries/data/'\n",
    "key = '?registrationkey={}'.format(config.bls_key)\n",
    "headers = {'Content-type': 'application/json'}   # Request json data\n",
    "sd = {'CES0500000008': 'TOT_AHE',\n",
    "      'CES2000000008': 'CON_AHE',\n",
    "      'JTU23000000JOL': 'CON_JOU',\n",
    "      'JTU00000000JOL': 'TOT_JOU',\n",
    "      'LNU03032231': 'CON_UN',\n",
    "      'LNU03000000': 'TOT_UN',\n",
    "      'CES2000000007': 'CON_HRS'}"
   ]
  },
  {
   "cell_type": "markdown",
   "metadata": {},
   "source": [
    "### Request data from BLS API"
   ]
  },
  {
   "cell_type": "code",
   "execution_count": 6,
   "metadata": {},
   "outputs": [
    {
     "name": "stdout",
     "output_type": "stream",
     "text": [
      "REQUEST_SUCCEEDED\n"
     ]
    }
   ],
   "source": [
    "data = json.dumps({\"seriesid\":list(sd.keys()), \"startyear\":'2008', \"endyear\":'2017'})\n",
    "p = requests.post('{}{}'.format(url, key), headers=headers, data=data).json()\n",
    "print(p['status'])"
   ]
  },
  {
   "cell_type": "markdown",
   "metadata": {},
   "source": [
    "### Load data into pandas dataframe"
   ]
  },
  {
   "cell_type": "code",
   "execution_count": 7,
   "metadata": {
    "collapsed": true
   },
   "outputs": [],
   "source": [
    "df = pd.DataFrame()\n",
    "for s in p['Results']['series']:\n",
    "    df[sd[s['seriesID']]] = pd.Series(index = pd.to_datetime(\n",
    "        ['{} {}'.format(i['period'], i['year']) for i in s['data']]),\n",
    "        data = [i['value'] for i in s['data']]).astype(float).iloc[::-1]"
   ]
  },
  {
   "cell_type": "markdown",
   "metadata": {
    "collapsed": true
   },
   "source": [
    "### Calculate basic ratios"
   ]
  },
  {
   "cell_type": "code",
   "execution_count": 8,
   "metadata": {
    "collapsed": true
   },
   "outputs": [],
   "source": [
    "for ind in ['CON', 'TOT']:\n",
    "    df[ind+'_UNOP'] = df[ind+'_UN'].divide(df[ind+'_JOU'])\n",
    "    df[ind+'_wage_ch'] = df[ind+'_AHE'].pct_change(12)"
   ]
  },
  {
   "cell_type": "markdown",
   "metadata": {},
   "source": [
    "### View results"
   ]
  },
  {
   "cell_type": "code",
   "execution_count": 9,
   "metadata": {},
   "outputs": [
    {
     "data": {
      "text/html": [
       "<div>\n",
       "<style>\n",
       "    .dataframe thead tr:only-child th {\n",
       "        text-align: right;\n",
       "    }\n",
       "\n",
       "    .dataframe thead th {\n",
       "        text-align: left;\n",
       "    }\n",
       "\n",
       "    .dataframe tbody tr th {\n",
       "        vertical-align: top;\n",
       "    }\n",
       "</style>\n",
       "<table border=\"1\" class=\"dataframe\">\n",
       "  <thead>\n",
       "    <tr style=\"text-align: right;\">\n",
       "      <th></th>\n",
       "      <th>CON_HRS</th>\n",
       "      <th>CON_AHE</th>\n",
       "      <th>CON_JOU</th>\n",
       "      <th>CON_UN</th>\n",
       "      <th>TOT_JOU</th>\n",
       "      <th>TOT_AHE</th>\n",
       "      <th>TOT_UN</th>\n",
       "      <th>CON_UNOP</th>\n",
       "      <th>CON_wage_ch</th>\n",
       "      <th>TOT_UNOP</th>\n",
       "      <th>TOT_wage_ch</th>\n",
       "    </tr>\n",
       "  </thead>\n",
       "  <tbody>\n",
       "    <tr>\n",
       "      <th>2016-11-01</th>\n",
       "      <td>39.8</td>\n",
       "      <td>26.24</td>\n",
       "      <td>178.0</td>\n",
       "      <td>517.0</td>\n",
       "      <td>5379.0</td>\n",
       "      <td>21.74</td>\n",
       "      <td>7066.0</td>\n",
       "      <td>2.904494</td>\n",
       "      <td>0.031447</td>\n",
       "      <td>1.313627</td>\n",
       "      <td>0.024988</td>\n",
       "    </tr>\n",
       "    <tr>\n",
       "      <th>2016-12-01</th>\n",
       "      <td>39.2</td>\n",
       "      <td>26.23</td>\n",
       "      <td>140.0</td>\n",
       "      <td>670.0</td>\n",
       "      <td>5116.0</td>\n",
       "      <td>21.80</td>\n",
       "      <td>7170.0</td>\n",
       "      <td>4.785714</td>\n",
       "      <td>0.031053</td>\n",
       "      <td>1.401486</td>\n",
       "      <td>0.025400</td>\n",
       "    </tr>\n",
       "    <tr>\n",
       "      <th>2017-01-01</th>\n",
       "      <td>39.3</td>\n",
       "      <td>26.33</td>\n",
       "      <td>142.0</td>\n",
       "      <td>859.0</td>\n",
       "      <td>5557.0</td>\n",
       "      <td>21.83</td>\n",
       "      <td>8149.0</td>\n",
       "      <td>6.049296</td>\n",
       "      <td>0.036206</td>\n",
       "      <td>1.466439</td>\n",
       "      <td>0.023921</td>\n",
       "    </tr>\n",
       "    <tr>\n",
       "      <th>2017-02-01</th>\n",
       "      <td>39.8</td>\n",
       "      <td>26.29</td>\n",
       "      <td>181.0</td>\n",
       "      <td>781.0</td>\n",
       "      <td>5500.0</td>\n",
       "      <td>21.86</td>\n",
       "      <td>7887.0</td>\n",
       "      <td>4.314917</td>\n",
       "      <td>0.034632</td>\n",
       "      <td>1.434000</td>\n",
       "      <td>0.024848</td>\n",
       "    </tr>\n",
       "    <tr>\n",
       "      <th>2017-03-01</th>\n",
       "      <td>39.3</td>\n",
       "      <td>26.40</td>\n",
       "      <td>161.0</td>\n",
       "      <td>764.0</td>\n",
       "      <td>5723.0</td>\n",
       "      <td>21.90</td>\n",
       "      <td>7284.0</td>\n",
       "      <td>4.745342</td>\n",
       "      <td>0.027637</td>\n",
       "      <td>1.272759</td>\n",
       "      <td>0.023364</td>\n",
       "    </tr>\n",
       "    <tr>\n",
       "      <th>2017-04-01</th>\n",
       "      <td>39.9</td>\n",
       "      <td>26.37</td>\n",
       "      <td>200.0</td>\n",
       "      <td>585.0</td>\n",
       "      <td>6312.0</td>\n",
       "      <td>21.96</td>\n",
       "      <td>6555.0</td>\n",
       "      <td>2.925000</td>\n",
       "      <td>0.025272</td>\n",
       "      <td>1.038498</td>\n",
       "      <td>0.023299</td>\n",
       "    </tr>\n",
       "    <tr>\n",
       "      <th>2017-05-01</th>\n",
       "      <td>39.9</td>\n",
       "      <td>26.52</td>\n",
       "      <td>163.0</td>\n",
       "      <td>502.0</td>\n",
       "      <td>5701.0</td>\n",
       "      <td>21.99</td>\n",
       "      <td>6572.0</td>\n",
       "      <td>3.079755</td>\n",
       "      <td>0.025522</td>\n",
       "      <td>1.152780</td>\n",
       "      <td>0.023743</td>\n",
       "    </tr>\n",
       "    <tr>\n",
       "      <th>2017-06-01</th>\n",
       "      <td>39.7</td>\n",
       "      <td>26.63</td>\n",
       "      <td>212.0</td>\n",
       "      <td>430.0</td>\n",
       "      <td>6075.0</td>\n",
       "      <td>22.03</td>\n",
       "      <td>7250.0</td>\n",
       "      <td>2.028302</td>\n",
       "      <td>0.022265</td>\n",
       "      <td>1.193416</td>\n",
       "      <td>0.023223</td>\n",
       "    </tr>\n",
       "    <tr>\n",
       "      <th>2017-07-01</th>\n",
       "      <td>39.7</td>\n",
       "      <td>26.75</td>\n",
       "      <td>232.0</td>\n",
       "      <td>469.0</td>\n",
       "      <td>6502.0</td>\n",
       "      <td>22.08</td>\n",
       "      <td>7441.0</td>\n",
       "      <td>2.021552</td>\n",
       "      <td>0.024119</td>\n",
       "      <td>1.144417</td>\n",
       "      <td>0.022696</td>\n",
       "    </tr>\n",
       "    <tr>\n",
       "      <th>2017-08-01</th>\n",
       "      <td>39.7</td>\n",
       "      <td>26.81</td>\n",
       "      <td>NaN</td>\n",
       "      <td>448.0</td>\n",
       "      <td>NaN</td>\n",
       "      <td>22.12</td>\n",
       "      <td>7287.0</td>\n",
       "      <td>NaN</td>\n",
       "      <td>0.028385</td>\n",
       "      <td>NaN</td>\n",
       "      <td>0.023127</td>\n",
       "    </tr>\n",
       "  </tbody>\n",
       "</table>\n",
       "</div>"
      ],
      "text/plain": [
       "            CON_HRS  CON_AHE  CON_JOU  CON_UN  TOT_JOU  TOT_AHE  TOT_UN  \\\n",
       "2016-11-01     39.8    26.24    178.0   517.0   5379.0    21.74  7066.0   \n",
       "2016-12-01     39.2    26.23    140.0   670.0   5116.0    21.80  7170.0   \n",
       "2017-01-01     39.3    26.33    142.0   859.0   5557.0    21.83  8149.0   \n",
       "2017-02-01     39.8    26.29    181.0   781.0   5500.0    21.86  7887.0   \n",
       "2017-03-01     39.3    26.40    161.0   764.0   5723.0    21.90  7284.0   \n",
       "2017-04-01     39.9    26.37    200.0   585.0   6312.0    21.96  6555.0   \n",
       "2017-05-01     39.9    26.52    163.0   502.0   5701.0    21.99  6572.0   \n",
       "2017-06-01     39.7    26.63    212.0   430.0   6075.0    22.03  7250.0   \n",
       "2017-07-01     39.7    26.75    232.0   469.0   6502.0    22.08  7441.0   \n",
       "2017-08-01     39.7    26.81      NaN   448.0      NaN    22.12  7287.0   \n",
       "\n",
       "            CON_UNOP  CON_wage_ch  TOT_UNOP  TOT_wage_ch  \n",
       "2016-11-01  2.904494     0.031447  1.313627     0.024988  \n",
       "2016-12-01  4.785714     0.031053  1.401486     0.025400  \n",
       "2017-01-01  6.049296     0.036206  1.466439     0.023921  \n",
       "2017-02-01  4.314917     0.034632  1.434000     0.024848  \n",
       "2017-03-01  4.745342     0.027637  1.272759     0.023364  \n",
       "2017-04-01  2.925000     0.025272  1.038498     0.023299  \n",
       "2017-05-01  3.079755     0.025522  1.152780     0.023743  \n",
       "2017-06-01  2.028302     0.022265  1.193416     0.023223  \n",
       "2017-07-01  2.021552     0.024119  1.144417     0.022696  \n",
       "2017-08-01       NaN     0.028385       NaN     0.023127  "
      ]
     },
     "execution_count": 9,
     "metadata": {},
     "output_type": "execute_result"
    }
   ],
   "source": [
    "df.tail(10)"
   ]
  },
  {
   "cell_type": "code",
   "execution_count": 11,
   "metadata": {},
   "outputs": [
    {
     "data": {
      "text/plain": [
       "<matplotlib.axes._subplots.AxesSubplot at 0x7f038e32f780>"
      ]
     },
     "execution_count": 11,
     "metadata": {},
     "output_type": "execute_result"
    },
    {
     "data": {
      "image/png": "[encoded data removed]",
      "text/plain": [
       "<matplotlib.figure.Figure at 0x7f038e2d3128>"
      ]
     },
     "metadata": {},
     "output_type": "display_data"
    }
   ],
   "source": [
    "%matplotlib inline\n",
    "df['CON_UNOP'].plot()"
   ]
  },
  {
   "cell_type": "code",
   "execution_count": 12,
   "metadata": {
    "collapsed": true
   },
   "outputs": [],
   "source": [
    "df2 = df.reset_index()"
   ]
  },
  {
   "cell_type": "code",
   "execution_count": 16,
   "metadata": {},
   "outputs": [],
   "source": [
    "df2 = df2.dropna()"
   ]
  },
  {
   "cell_type": "code",
   "execution_count": null,
   "metadata": {
    "collapsed": true
   },
   "outputs": [],
   "source": []
  }
 ],
 "metadata": {
  "kernelspec": {
   "display_name": "Python 3",
   "language": "python",
   "name": "python3"
  },
  "language_info": {
   "codemirror_mode": {
    "name": "ipython",
    "version": 3
   },
   "file_extension": ".py",
   "mimetype": "text/x-python",
   "name": "python",
   "nbconvert_exporter": "python",
   "pygments_lexer": "ipython3",
   "version": "3.6.6"
  }
 },
 "nbformat": 4,
 "nbformat_minor": 2
}
