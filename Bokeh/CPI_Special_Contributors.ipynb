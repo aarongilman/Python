{
 "cells": [
  {
   "cell_type": "markdown",
   "metadata": {
    "ExecuteTime": {
     "end_time": "2018-03-21T16:37:16.108780Z",
     "start_time": "2018-03-21T16:37:16.077537Z"
    }
   },
   "source": [
    "# CPI Special Calculations over time with Python\n",
    "\n",
    "Brian Dew, @bd_econ, Center for Economic and Policy Research\n",
    "\n",
    "May 10, 2018\n",
    "\n",
    "----- \n",
    "Every two years the relative importance of CPI items is updated. I'd like to know how a few special aggregates contribute to inflation (unfortunately not seasonally adjusted), and to do this I need to compensate for the updates. BLS explains how to do this here: https://www.bls.gov/cpi/tables/relative-importance/home.htm\n",
    "\n"
   ]
  },
  {
   "cell_type": "code",
   "execution_count": 1,
   "metadata": {
    "ExecuteTime": {
     "end_time": "2018-08-11T12:41:28.354647Z",
     "start_time": "2018-08-11T12:41:27.906768Z"
    },
    "code_folding": [
     0
    ]
   },
   "outputs": [],
   "source": [
    "# Import preliminaries\n",
    "import pandas as pd\n",
    "import numpy as np\n",
    "import requests\n",
    "import json\n",
    "import config"
   ]
  },
  {
   "cell_type": "markdown",
   "metadata": {},
   "source": [
    "#### Find series ids"
   ]
  },
  {
   "cell_type": "code",
   "execution_count": 2,
   "metadata": {
    "ExecuteTime": {
     "end_time": "2018-08-11T12:41:29.441878Z",
     "start_time": "2018-08-11T12:41:28.354647Z"
    },
    "code_folding": [
     0
    ]
   },
   "outputs": [],
   "source": [
    "# Use BLS Flat Files to find series IDs and series info\n",
    "s_url = 'https://download.bls.gov/pub/time.series/cu/cu.series'\n",
    "s = pd.read_table(s_url, sep='\\t')\n",
    "s2 = s[(s['seasonal'] == 'U') & \n",
    "       (s['base_code'] == 'S') &\n",
    "       (s['area_code'] == '0000') &\n",
    "       (s['periodicity_code'] == 'R')]"
   ]
  },
  {
   "cell_type": "markdown",
   "metadata": {},
   "source": [
    "#### Manually look up the relative importance"
   ]
  },
  {
   "cell_type": "code",
   "execution_count": 3,
   "metadata": {
    "ExecuteTime": {
     "end_time": "2018-08-11T12:41:29.457499Z",
     "start_time": "2018-08-11T12:41:29.441878Z"
    },
    "code_folding": [
     0
    ]
   },
   "outputs": [],
   "source": [
    "# Relative weights for series of interest, from here: \n",
    "# https://www.bls.gov/cpi/tables/relative-importance/home.htm\n",
    "rel_wgt = {'CUUR0000SAF1': [(('2013-12-01', '2015-12-01'), 13.891), \n",
    "                           (('2015-12-01', '2017-12-01'), 14.015), \n",
    "                           (('2017-12-01', '2019-12-01'), 13.384)],\n",
    "           'CUUR0000SA0': [(('2013-12-01', '2015-12-01'), 100.0), \n",
    "                           (('2015-12-01', '2017-12-01'), 100.0), \n",
    "                           (('2017-12-01', '2019-12-01'), 100.0)],\n",
    "           'CUUR0000SA0E': [(('2013-12-01', '2015-12-01'), 9.046), \n",
    "                            (('2015-12-01', '2017-12-01'), 6.816), \n",
    "                            (('2017-12-01', '2019-12-01'), 7.513)],\n",
    "           'CUUR0000SAH1': [(('2013-12-01', '2015-12-01'), 32.029), \n",
    "                            (('2015-12-01', '2017-12-01'), 33.15), \n",
    "                            (('2017-12-01', '2019-12-01'), 32.843)],\n",
    "           'CUUR0000SACL1E': [(('2013-12-01', '2015-12-01'), 19.71), \n",
    "                              (('2015-12-01', '2017-12-01'), 19.613), \n",
    "                              (('2017-12-01', '2019-12-01'), 19.849)],\n",
    "           'CUUR0000SASLE': [(('2013-12-01', '2015-12-01'), 57.353), \n",
    "                             (('2015-12-01', '2017-12-01'), 59.556), \n",
    "                             (('2017-12-01', '2019-12-01'), 59.254)]}"
   ]
  },
  {
   "cell_type": "markdown",
   "metadata": {},
   "source": [
    "#### Location of BLS API and parameters"
   ]
  },
  {
   "cell_type": "code",
   "execution_count": 4,
   "metadata": {
    "ExecuteTime": {
     "end_time": "2018-08-11T12:41:29.495271Z",
     "start_time": "2018-08-11T12:41:29.457499Z"
    },
    "code_folding": [
     0
    ]
   },
   "outputs": [],
   "source": [
    "# API access to Bureau of Labor Statistics data\n",
    "url = 'https://api.bls.gov/publicAPI/v2/timeseries/data/'\n",
    "# API key in config.py which contains: bls_key = 'key'\n",
    "key = '?registrationkey={}'.format(config.bls_key)\n",
    "\n",
    "headers = {'Content-type': 'application/json'}    # Request json fmt\n",
    "param = {\"seriesid\": list(rel_wgt.keys()),           \n",
    "         \"startyear\": \"2013\", \"endyear\": \"2018\"}"
   ]
  },
  {
   "cell_type": "markdown",
   "metadata": {},
   "source": [
    "#### Request data from BLS API "
   ]
  },
  {
   "cell_type": "code",
   "execution_count": 5,
   "metadata": {
    "ExecuteTime": {
     "end_time": "2018-08-11T12:41:29.974442Z",
     "start_time": "2018-08-11T12:41:29.495271Z"
    },
    "code_folding": [
     0
    ]
   },
   "outputs": [
    {
     "name": "stdout",
     "output_type": "stream",
     "text": [
      "Status: REQUEST_SUCCEEDED\n",
      "Latest: January 2018\n"
     ]
    }
   ],
   "source": [
    "# Request all of the series in s\n",
    "p = requests.post(f'{url}{key}', data=json.dumps(param), headers=headers).json()\n",
    "print(f\"Status: {p['status']}\") # Print request status\n",
    "p = p['Results']['series']  # Keep data portion of post results\n",
    "\n",
    "# Use first series to get the datetime values\n",
    "idx = pd.to_datetime([f\"{i['period']} {i['year']}\" for i in p[0]['data']])\n",
    "print(f'Latest: {idx[0]:%B %Y}') # Print latest value"
   ]
  },
  {
   "cell_type": "markdown",
   "metadata": {},
   "source": [
    "#### Store date and value for each series"
   ]
  },
  {
   "cell_type": "code",
   "execution_count": 6,
   "metadata": {
    "ExecuteTime": {
     "end_time": "2018-08-11T12:41:30.012199Z",
     "start_time": "2018-08-11T12:41:29.974442Z"
    },
    "code_folding": [
     0
    ]
   },
   "outputs": [],
   "source": [
    "# Convert API data to datetime date and float value\n",
    "data = {i['seriesID']: \n",
    "        [(pd.to_datetime(f'{r[\"year\"]}-{r[\"period\"][1:]}-01'), float(r['value'])) \n",
    "         for r in i['data']] for i in p}"
   ]
  },
  {
   "cell_type": "markdown",
   "metadata": {},
   "source": [
    "#### Store all the above in dictionary"
   ]
  },
  {
   "cell_type": "code",
   "execution_count": 7,
   "metadata": {
    "ExecuteTime": {
     "end_time": "2018-08-11T12:41:30.074694Z",
     "start_time": "2018-08-11T12:41:30.012199Z"
    },
    "code_folding": [
     0
    ]
   },
   "outputs": [],
   "source": [
    "# Dictionary combining all the info for each series\n",
    "d = {i: {'name': s2[s2['series_id'].str.strip() == i]['series_title'].values[0],\n",
    "         'values': data[i],\n",
    "         'rel_wgt': rel_wgt[i]} for i in list(rel_wgt.keys())}"
   ]
  },
  {
   "cell_type": "markdown",
   "metadata": {},
   "source": [
    "#### Adjust for changes to relative importance"
   ]
  },
  {
   "cell_type": "code",
   "execution_count": 8,
   "metadata": {
    "ExecuteTime": {
     "end_time": "2018-08-11T12:41:30.228328Z",
     "start_time": "2018-08-11T12:41:30.074694Z"
    },
    "code_folding": [
     0
    ]
   },
   "outputs": [],
   "source": [
    "# Adjust for changes to relative importance\n",
    "df1, df2, df3 = pd.DataFrame(), pd.DataFrame(), pd.DataFrame()\n",
    "for i, v in d.items():\n",
    "    start, end = v['rel_wgt'][0][0][0], v['rel_wgt'][0][0][1]\n",
    "    rwc, rwn = v['rel_wgt'][0][1], v['rel_wgt'][1][1]\n",
    "    df1.at[start: end, i] = (pd.DataFrame(v['values'])\n",
    "        .iloc[::-1].set_index(0).loc[start: end][1])\n",
    "    df1[i] = (df1[i].diff().cumsum() / df1.loc[start, i] + 1)\n",
    "    df1.at[start, i] = 1.0\n",
    "    df1[i] = (df1[i] * rwc)\n",
    "    link = (df1.loc[end, i] / rwn)\n",
    "    # Next set of dates\n",
    "    start, end = v['rel_wgt'][1][0][0], v['rel_wgt'][1][0][1]\n",
    "    rwc, rwn = v['rel_wgt'][1][1], v['rel_wgt'][2][1]\n",
    "    df2[i] = (pd.DataFrame(v['values'])\n",
    "        .iloc[::-1].set_index(0).loc[start: end][1])\n",
    "    df2[i] = df2[i].diff().cumsum() / df2.loc[start, i] + 1\n",
    "    df2.at[start, i] = 1.0\n",
    "    #df1.at[start: end, i] = (df1.loc[start: end, i] * rwc)\n",
    "    df2[i] = (df2[i] * rwc) * link\n",
    "    link = (df2.loc[end, i] / rwn)\n",
    "    # Next set of dates\n",
    "    start, end = v['rel_wgt'][2][0][0], v['rel_wgt'][2][0][1]\n",
    "    rwc = v['rel_wgt'][2][1]\n",
    "    df3[i] = (pd.DataFrame(v['values'])\n",
    "        .iloc[::-1].set_index(0).loc[start: end][1])\n",
    "    df3[i] = df3[i].diff().cumsum() / df3.loc[start, i] + 1\n",
    "    df3.at[start, i] = 1.0\n",
    "    df3[i] = (df3[i] * rwc) * link"
   ]
  },
  {
   "cell_type": "markdown",
   "metadata": {},
   "source": [
    "#### Calculate contribution to total"
   ]
  },
  {
   "cell_type": "code",
   "execution_count": 9,
   "metadata": {
    "ExecuteTime": {
     "end_time": "2018-08-11T12:41:30.275199Z",
     "start_time": "2018-08-11T12:41:30.228328Z"
    },
    "code_folding": []
   },
   "outputs": [],
   "source": [
    "# Calculate exactly what I want to show\n",
    "final = pd.concat([df1, df2, df3])  # Combine the various relative importance dfs\n",
    "final = final[~final.index.duplicated(keep='first')].diff(12) # Drop duplicate pivot year data\n",
    "# Core services is services less food, energy, and shelter\n",
    "final['core_services'] = final['CUUR0000SASLE'] - final['CUUR0000SAH1']\n",
    "# Combine food and energy\n",
    "final['food_energy'] = final['CUUR0000SAF1'] + final['CUUR0000SA0E']\n",
    "final = final.dropna().round(2)\n",
    "d2 = final[['core_services', 'CUUR0000SACL1E', 'CUUR0000SAH1', 'food_energy']].loc['2015-01-01':]\n",
    "# Rename columns\n",
    "col_names = ['core services', 'core goods', 'shelter', 'food & energy']\n",
    "d2.columns = col_names\n",
    "d2['total'] = final['CUUR0000SA0'].loc['2015-01-01':]\n",
    "d2['strdate'] = d2.index.strftime('%B %Y')\n",
    "d2['date'] = d2.index"
   ]
  },
  {
   "cell_type": "markdown",
   "metadata": {},
   "source": [
    "#### Bokeh requires separate positive and negative values\n",
    "\n",
    "This seems to be a quirk with the stacked bar chart, explained here: https://bokeh.pydata.org/en/latest/docs/user_guide/categorical.html#stacked. Still worth trying to get it to work without the split."
   ]
  },
  {
   "cell_type": "code",
   "execution_count": 10,
   "metadata": {
    "ExecuteTime": {
     "end_time": "2018-08-11T12:41:30.297334Z",
     "start_time": "2018-08-11T12:41:30.275199Z"
    },
    "code_folding": []
   },
   "outputs": [],
   "source": [
    "# Split positive and negative values\n",
    "infl = {i :[n if n > -0.0001 else 0 for n in list(d2[i])] for i in col_names}\n",
    "infl['dates'] = list(d2.index)\n",
    "infl['strdate'] = d2.index.strftime('%b %Y')\n",
    "defl = {i :[n  if n < -0.0001 else 0 for n in list(d2[i])] for i in col_names}\n",
    "defl['dates'] = list(d2.index)\n",
    "defl['strdate'] = d2.index.strftime('%b %Y')"
   ]
  },
  {
   "cell_type": "markdown",
   "metadata": {},
   "source": [
    "#### Bokeh settings"
   ]
  },
  {
   "cell_type": "code",
   "execution_count": 11,
   "metadata": {
    "ExecuteTime": {
     "end_time": "2018-08-11T12:41:32.834750Z",
     "start_time": "2018-08-11T12:41:30.297334Z"
    },
    "code_folding": []
   },
   "outputs": [
    {
     "data": {
      "text/html": [
       "\n",
       "    <div class=\"bk-root\">\n",
       "        <a href=\"https://bokeh.pydata.org\" target=\"_blank\" class=\"bk-logo bk-logo-small bk-logo-notebook\"></a>\n",
       "        <span id=\"832aaf0c-14c9-4189-9ffb-ae10941e126c\">Loading BokehJS ...</span>\n",
       "    </div>"
      ]
     },
     "metadata": {},
     "output_type": "display_data"
    },
    {
     "data": {
      "application/javascript": [
       "\n",
       "(function(root) {\n",
       "  function now() {\n",
       "    return new Date();\n",
       "  }\n",
       "\n",
       "  var force = true;\n",
       "\n",
       "  if (typeof (root._bokeh_onload_callbacks) === \"undefined\" || force === true) {\n",
       "    root._bokeh_onload_callbacks = [];\n",
       "    root._bokeh_is_loading = undefined;\n",
       "  }\n",
       "\n",
       "  var JS_MIME_TYPE = 'application/javascript';\n",
       "  var HTML_MIME_TYPE = 'text/html';\n",
       "  var EXEC_MIME_TYPE = 'application/vnd.bokehjs_exec.v0+json';\n",
       "  var CLASS_NAME = 'output_bokeh rendered_html';\n",
       "\n",
       "  /**\n",
       "   * Render data to the DOM node\n",
       "   */\n",
       "  function render(props, node) {\n",
       "    var script = document.createElement(\"script\");\n",
       "    node.appendChild(script);\n",
       "  }\n",
       "\n",
       "  /**\n",
       "   * Handle when an output is cleared or removed\n",
       "   */\n",
       "  function handleClearOutput(event, handle) {\n",
       "    var cell = handle.cell;\n",
       "\n",
       "    var id = cell.output_area._bokeh_element_id;\n",
       "    var server_id = cell.output_area._bokeh_server_id;\n",
       "    // Clean up Bokeh references\n",
       "    if (id != null && id in Bokeh.index) {\n",
       "      Bokeh.index[id].model.document.clear();\n",
       "      delete Bokeh.index[id];\n",
       "    }\n",
       "\n",
       "    if (server_id !== undefined) {\n",
       "      // Clean up Bokeh references\n",
       "      var cmd = \"from bokeh.io.state import curstate; print(curstate().uuid_to_server['\" + server_id + \"'].get_sessions()[0].document.roots[0]._id)\";\n",
       "      cell.notebook.kernel.execute(cmd, {\n",
       "        iopub: {\n",
       "          output: function(msg) {\n",
       "            var id = msg.content.text.trim();\n",
       "            if (id in Bokeh.index) {\n",
       "              Bokeh.index[id].model.document.clear();\n",
       "              delete Bokeh.index[id];\n",
       "            }\n",
       "          }\n",
       "        }\n",
       "      });\n",
       "      // Destroy server and session\n",
       "      var cmd = \"import bokeh.io.notebook as ion; ion.destroy_server('\" + server_id + \"')\";\n",
       "      cell.notebook.kernel.execute(cmd);\n",
       "    }\n",
       "  }\n",
       "\n",
       "  /**\n",
       "   * Handle when a new output is added\n",
       "   */\n",
       "  function handleAddOutput(event, handle) {\n",
       "    var output_area = handle.output_area;\n",
       "    var output = handle.output;\n",
       "\n",
       "    // limit handleAddOutput to display_data with EXEC_MIME_TYPE content only\n",
       "    if ((output.output_type != \"display_data\") || (!output.data.hasOwnProperty(EXEC_MIME_TYPE))) {\n",
       "      return\n",
       "    }\n",
       "\n",
       "    var toinsert = output_area.element.find(\".\" + CLASS_NAME.split(' ')[0]);\n",
       "\n",
       "    if (output.metadata[EXEC_MIME_TYPE][\"id\"] !== undefined) {\n",
       "      toinsert[toinsert.length - 1].firstChild.textContent = output.data[JS_MIME_TYPE];\n",
       "      // store reference to embed id on output_area\n",
       "      output_area._bokeh_element_id = output.metadata[EXEC_MIME_TYPE][\"id\"];\n",
       "    }\n",
       "    if (output.metadata[EXEC_MIME_TYPE][\"server_id\"] !== undefined) {\n",
       "      var bk_div = document.createElement(\"div\");\n",
       "      bk_div.innerHTML = output.data[HTML_MIME_TYPE];\n",
       "      var script_attrs = bk_div.children[0].attributes;\n",
       "      for (var i = 0; i < script_attrs.length; i++) {\n",
       "        toinsert[toinsert.length - 1].firstChild.setAttribute(script_attrs[i].name, script_attrs[i].value);\n",
       "      }\n",
       "      // store reference to server id on output_area\n",
       "      output_area._bokeh_server_id = output.metadata[EXEC_MIME_TYPE][\"server_id\"];\n",
       "    }\n",
       "  }\n",
       "\n",
       "  function register_renderer(events, OutputArea) {\n",
       "\n",
       "    function append_mime(data, metadata, element) {\n",
       "      // create a DOM node to render to\n",
       "      var toinsert = this.create_output_subarea(\n",
       "        metadata,\n",
       "        CLASS_NAME,\n",
       "        EXEC_MIME_TYPE\n",
       "      );\n",
       "      this.keyboard_manager.register_events(toinsert);\n",
       "      // Render to node\n",
       "      var props = {data: data, metadata: metadata[EXEC_MIME_TYPE]};\n",
       "      render(props, toinsert[toinsert.length - 1]);\n",
       "      element.append(toinsert);\n",
       "      return toinsert\n",
       "    }\n",
       "\n",
       "    /* Handle when an output is cleared or removed */\n",
       "    events.on('clear_output.CodeCell', handleClearOutput);\n",
       "    events.on('delete.Cell', handleClearOutput);\n",
       "\n",
       "    /* Handle when a new output is added */\n",
       "    events.on('output_added.OutputArea', handleAddOutput);\n",
       "\n",
       "    /**\n",
       "     * Register the mime type and append_mime function with output_area\n",
       "     */\n",
       "    OutputArea.prototype.register_mime_type(EXEC_MIME_TYPE, append_mime, {\n",
       "      /* Is output safe? */\n",
       "      safe: true,\n",
       "      /* Index of renderer in `output_area.display_order` */\n",
       "      index: 0\n",
       "    });\n",
       "  }\n",
       "\n",
       "  // register the mime type if in Jupyter Notebook environment and previously unregistered\n",
       "  if (root.Jupyter !== undefined) {\n",
       "    var events = require('base/js/events');\n",
       "    var OutputArea = require('notebook/js/outputarea').OutputArea;\n",
       "\n",
       "    if (OutputArea.prototype.mime_types().indexOf(EXEC_MIME_TYPE) == -1) {\n",
       "      register_renderer(events, OutputArea);\n",
       "    }\n",
       "  }\n",
       "\n",
       "  \n",
       "  if (typeof (root._bokeh_timeout) === \"undefined\" || force === true) {\n",
       "    root._bokeh_timeout = Date.now() + 5000;\n",
       "    root._bokeh_failed_load = false;\n",
       "  }\n",
       "\n",
       "  var NB_LOAD_WARNING = {'data': {'text/html':\n",
       "     \"<div style='background-color: #fdd'>\\n\"+\n",
       "     \"<p>\\n\"+\n",
       "     \"BokehJS does not appear to have successfully loaded. If loading BokehJS from CDN, this \\n\"+\n",
       "     \"may be due to a slow or bad network connection. Possible fixes:\\n\"+\n",
       "     \"</p>\\n\"+\n",
       "     \"<ul>\\n\"+\n",
       "     \"<li>re-rerun `output_notebook()` to attempt to load from CDN again, or</li>\\n\"+\n",
       "     \"<li>use INLINE resources instead, as so:</li>\\n\"+\n",
       "     \"</ul>\\n\"+\n",
       "     \"<code>\\n\"+\n",
       "     \"from bokeh.resources import INLINE\\n\"+\n",
       "     \"output_notebook(resources=INLINE)\\n\"+\n",
       "     \"</code>\\n\"+\n",
       "     \"</div>\"}};\n",
       "\n",
       "  function display_loaded() {\n",
       "    var el = document.getElementById(\"832aaf0c-14c9-4189-9ffb-ae10941e126c\");\n",
       "    if (el != null) {\n",
       "      el.textContent = \"BokehJS is loading...\";\n",
       "    }\n",
       "    if (root.Bokeh !== undefined) {\n",
       "      if (el != null) {\n",
       "        el.textContent = \"BokehJS \" + root.Bokeh.version + \" successfully loaded.\";\n",
       "      }\n",
       "    } else if (Date.now() < root._bokeh_timeout) {\n",
       "      setTimeout(display_loaded, 100)\n",
       "    }\n",
       "  }\n",
       "\n",
       "\n",
       "  function run_callbacks() {\n",
       "    try {\n",
       "      root._bokeh_onload_callbacks.forEach(function(callback) { callback() });\n",
       "    }\n",
       "    finally {\n",
       "      delete root._bokeh_onload_callbacks\n",
       "    }\n",
       "    console.info(\"Bokeh: all callbacks have finished\");\n",
       "  }\n",
       "\n",
       "  function load_libs(js_urls, callback) {\n",
       "    root._bokeh_onload_callbacks.push(callback);\n",
       "    if (root._bokeh_is_loading > 0) {\n",
       "      console.log(\"Bokeh: BokehJS is being loaded, scheduling callback at\", now());\n",
       "      return null;\n",
       "    }\n",
       "    if (js_urls == null || js_urls.length === 0) {\n",
       "      run_callbacks();\n",
       "      return null;\n",
       "    }\n",
       "    console.log(\"Bokeh: BokehJS not loaded, scheduling load and callback at\", now());\n",
       "    root._bokeh_is_loading = js_urls.length;\n",
       "    for (var i = 0; i < js_urls.length; i++) {\n",
       "      var url = js_urls[i];\n",
       "      var s = document.createElement('script');\n",
       "      s.src = url;\n",
       "      s.async = false;\n",
       "      s.onreadystatechange = s.onload = function() {\n",
       "        root._bokeh_is_loading--;\n",
       "        if (root._bokeh_is_loading === 0) {\n",
       "          console.log(\"Bokeh: all BokehJS libraries loaded\");\n",
       "          run_callbacks()\n",
       "        }\n",
       "      };\n",
       "      s.onerror = function() {\n",
       "        console.warn(\"failed to load library \" + url);\n",
       "      };\n",
       "      console.log(\"Bokeh: injecting script tag for BokehJS library: \", url);\n",
       "      document.getElementsByTagName(\"head\")[0].appendChild(s);\n",
       "    }\n",
       "  };var element = document.getElementById(\"832aaf0c-14c9-4189-9ffb-ae10941e126c\");\n",
       "  if (element == null) {\n",
       "    console.log(\"Bokeh: ERROR: autoload.js configured with elementid '832aaf0c-14c9-4189-9ffb-ae10941e126c' but no matching script tag was found. \")\n",
       "    return false;\n",
       "  }\n",
       "\n",
       "  var js_urls = [\"https://cdn.pydata.org/bokeh/release/bokeh-0.13.0.min.js\", \"https://cdn.pydata.org/bokeh/release/bokeh-widgets-0.13.0.min.js\", \"https://cdn.pydata.org/bokeh/release/bokeh-tables-0.13.0.min.js\", \"https://cdn.pydata.org/bokeh/release/bokeh-gl-0.13.0.min.js\"];\n",
       "\n",
       "  var inline_js = [\n",
       "    function(Bokeh) {\n",
       "      Bokeh.set_log_level(\"info\");\n",
       "    },\n",
       "    \n",
       "    function(Bokeh) {\n",
       "      \n",
       "    },\n",
       "    function(Bokeh) {\n",
       "      console.log(\"Bokeh: injecting CSS: https://cdn.pydata.org/bokeh/release/bokeh-0.13.0.min.css\");\n",
       "      Bokeh.embed.inject_css(\"https://cdn.pydata.org/bokeh/release/bokeh-0.13.0.min.css\");\n",
       "      console.log(\"Bokeh: injecting CSS: https://cdn.pydata.org/bokeh/release/bokeh-widgets-0.13.0.min.css\");\n",
       "      Bokeh.embed.inject_css(\"https://cdn.pydata.org/bokeh/release/bokeh-widgets-0.13.0.min.css\");\n",
       "      console.log(\"Bokeh: injecting CSS: https://cdn.pydata.org/bokeh/release/bokeh-tables-0.13.0.min.css\");\n",
       "      Bokeh.embed.inject_css(\"https://cdn.pydata.org/bokeh/release/bokeh-tables-0.13.0.min.css\");\n",
       "    }\n",
       "  ];\n",
       "\n",
       "  function run_inline_js() {\n",
       "    \n",
       "    if ((root.Bokeh !== undefined) || (force === true)) {\n",
       "      for (var i = 0; i < inline_js.length; i++) {\n",
       "        inline_js[i].call(root, root.Bokeh);\n",
       "      }if (force === true) {\n",
       "        display_loaded();\n",
       "      }} else if (Date.now() < root._bokeh_timeout) {\n",
       "      setTimeout(run_inline_js, 100);\n",
       "    } else if (!root._bokeh_failed_load) {\n",
       "      console.log(\"Bokeh: BokehJS failed to load within specified timeout.\");\n",
       "      root._bokeh_failed_load = true;\n",
       "    } else if (force !== true) {\n",
       "      var cell = $(document.getElementById(\"832aaf0c-14c9-4189-9ffb-ae10941e126c\")).parents('.cell').data().cell;\n",
       "      cell.output_area.append_execute_result(NB_LOAD_WARNING)\n",
       "    }\n",
       "\n",
       "  }\n",
       "\n",
       "  if (root._bokeh_is_loading === 0) {\n",
       "    console.log(\"Bokeh: BokehJS loaded, going straight to plotting\");\n",
       "    run_inline_js();\n",
       "  } else {\n",
       "    load_libs(js_urls, function() {\n",
       "      console.log(\"Bokeh: BokehJS plotting callback run at\", now());\n",
       "      run_inline_js();\n",
       "    });\n",
       "  }\n",
       "}(window));"
      ],
      "application/vnd.bokehjs_load.v0+json": "\n(function(root) {\n  function now() {\n    return new Date();\n  }\n\n  var force = true;\n\n  if (typeof (root._bokeh_onload_callbacks) === \"undefined\" || force === true) {\n    root._bokeh_onload_callbacks = [];\n    root._bokeh_is_loading = undefined;\n  }\n\n  \n\n  \n  if (typeof (root._bokeh_timeout) === \"undefined\" || force === true) {\n    root._bokeh_timeout = Date.now() + 5000;\n    root._bokeh_failed_load = false;\n  }\n\n  var NB_LOAD_WARNING = {'data': {'text/html':\n     \"<div style='background-color: #fdd'>\\n\"+\n     \"<p>\\n\"+\n     \"BokehJS does not appear to have successfully loaded. If loading BokehJS from CDN, this \\n\"+\n     \"may be due to a slow or bad network connection. Possible fixes:\\n\"+\n     \"</p>\\n\"+\n     \"<ul>\\n\"+\n     \"<li>re-rerun `output_notebook()` to attempt to load from CDN again, or</li>\\n\"+\n     \"<li>use INLINE resources instead, as so:</li>\\n\"+\n     \"</ul>\\n\"+\n     \"<code>\\n\"+\n     \"from bokeh.resources import INLINE\\n\"+\n     \"output_notebook(resources=INLINE)\\n\"+\n     \"</code>\\n\"+\n     \"</div>\"}};\n\n  function display_loaded() {\n    var el = document.getElementById(\"832aaf0c-14c9-4189-9ffb-ae10941e126c\");\n    if (el != null) {\n      el.textContent = \"BokehJS is loading...\";\n    }\n    if (root.Bokeh !== undefined) {\n      if (el != null) {\n        el.textContent = \"BokehJS \" + root.Bokeh.version + \" successfully loaded.\";\n      }\n    } else if (Date.now() < root._bokeh_timeout) {\n      setTimeout(display_loaded, 100)\n    }\n  }\n\n\n  function run_callbacks() {\n    try {\n      root._bokeh_onload_callbacks.forEach(function(callback) { callback() });\n    }\n    finally {\n      delete root._bokeh_onload_callbacks\n    }\n    console.info(\"Bokeh: all callbacks have finished\");\n  }\n\n  function load_libs(js_urls, callback) {\n    root._bokeh_onload_callbacks.push(callback);\n    if (root._bokeh_is_loading > 0) {\n      console.log(\"Bokeh: BokehJS is being loaded, scheduling callback at\", now());\n      return null;\n    }\n    if (js_urls == null || js_urls.length === 0) {\n      run_callbacks();\n      return null;\n    }\n    console.log(\"Bokeh: BokehJS not loaded, scheduling load and callback at\", now());\n    root._bokeh_is_loading = js_urls.length;\n    for (var i = 0; i < js_urls.length; i++) {\n      var url = js_urls[i];\n      var s = document.createElement('script');\n      s.src = url;\n      s.async = false;\n      s.onreadystatechange = s.onload = function() {\n        root._bokeh_is_loading--;\n        if (root._bokeh_is_loading === 0) {\n          console.log(\"Bokeh: all BokehJS libraries loaded\");\n          run_callbacks()\n        }\n      };\n      s.onerror = function() {\n        console.warn(\"failed to load library \" + url);\n      };\n      console.log(\"Bokeh: injecting script tag for BokehJS library: \", url);\n      document.getElementsByTagName(\"head\")[0].appendChild(s);\n    }\n  };var element = document.getElementById(\"832aaf0c-14c9-4189-9ffb-ae10941e126c\");\n  if (element == null) {\n    console.log(\"Bokeh: ERROR: autoload.js configured with elementid '832aaf0c-14c9-4189-9ffb-ae10941e126c' but no matching script tag was found. \")\n    return false;\n  }\n\n  var js_urls = [\"https://cdn.pydata.org/bokeh/release/bokeh-0.13.0.min.js\", \"https://cdn.pydata.org/bokeh/release/bokeh-widgets-0.13.0.min.js\", \"https://cdn.pydata.org/bokeh/release/bokeh-tables-0.13.0.min.js\", \"https://cdn.pydata.org/bokeh/release/bokeh-gl-0.13.0.min.js\"];\n\n  var inline_js = [\n    function(Bokeh) {\n      Bokeh.set_log_level(\"info\");\n    },\n    \n    function(Bokeh) {\n      \n    },\n    function(Bokeh) {\n      console.log(\"Bokeh: injecting CSS: https://cdn.pydata.org/bokeh/release/bokeh-0.13.0.min.css\");\n      Bokeh.embed.inject_css(\"https://cdn.pydata.org/bokeh/release/bokeh-0.13.0.min.css\");\n      console.log(\"Bokeh: injecting CSS: https://cdn.pydata.org/bokeh/release/bokeh-widgets-0.13.0.min.css\");\n      Bokeh.embed.inject_css(\"https://cdn.pydata.org/bokeh/release/bokeh-widgets-0.13.0.min.css\");\n      console.log(\"Bokeh: injecting CSS: https://cdn.pydata.org/bokeh/release/bokeh-tables-0.13.0.min.css\");\n      Bokeh.embed.inject_css(\"https://cdn.pydata.org/bokeh/release/bokeh-tables-0.13.0.min.css\");\n    }\n  ];\n\n  function run_inline_js() {\n    \n    if ((root.Bokeh !== undefined) || (force === true)) {\n      for (var i = 0; i < inline_js.length; i++) {\n        inline_js[i].call(root, root.Bokeh);\n      }if (force === true) {\n        display_loaded();\n      }} else if (Date.now() < root._bokeh_timeout) {\n      setTimeout(run_inline_js, 100);\n    } else if (!root._bokeh_failed_load) {\n      console.log(\"Bokeh: BokehJS failed to load within specified timeout.\");\n      root._bokeh_failed_load = true;\n    } else if (force !== true) {\n      var cell = $(document.getElementById(\"832aaf0c-14c9-4189-9ffb-ae10941e126c\")).parents('.cell').data().cell;\n      cell.output_area.append_execute_result(NB_LOAD_WARNING)\n    }\n\n  }\n\n  if (root._bokeh_is_loading === 0) {\n    console.log(\"Bokeh: BokehJS loaded, going straight to plotting\");\n    run_inline_js();\n  } else {\n    load_libs(js_urls, function() {\n      console.log(\"Bokeh: BokehJS plotting callback run at\", now());\n      run_inline_js();\n    });\n  }\n}(window));"
     },
     "metadata": {},
     "output_type": "display_data"
    }
   ],
   "source": [
    "# Bokeh settings\n",
    "from bokeh.plotting import figure, show\n",
    "import bokeh.models\n",
    "import bokeh.plotting\n",
    "from bokeh.models import ColumnDataSource, Span, Label, HoverTool, Range1d, CDSView, DatetimeTickFormatter\n",
    "from bokeh.embed import components\n",
    "from bokeh.io import output_notebook\n",
    "output_notebook()"
   ]
  },
  {
   "cell_type": "markdown",
   "metadata": {},
   "source": [
    "#### Plot in bokeh\n",
    "\n",
    "To get the hover to show up, I added a hidden line that shows the all-items CPI and set the hover to show up when the cursor location has the same x value as the line. The problem is that the first and last bars only allow hover on their inner portions. "
   ]
  },
  {
   "cell_type": "code",
   "execution_count": 13,
   "metadata": {
    "ExecuteTime": {
     "end_time": "2018-08-11T12:41:39.574227Z",
     "start_time": "2018-08-11T12:41:39.411467Z"
    },
    "code_folding": [],
    "scrolled": false
   },
   "outputs": [
    {
     "data": {
      "text/html": [
       "\n",
       "\n",
       "\n",
       "\n",
       "\n",
       "\n",
       "  <div class=\"bk-root\" id=\"cd50d880-df7f-48ce-aa0c-29bbeeb61cc4\"></div>\n"
      ]
     },
     "metadata": {},
     "output_type": "display_data"
    },
    {
     "data": {
      "application/javascript": [
       "(function(root) {\n",
       "  function embed_document(root) {\n",
       "    \n",
       "  var docs_json = {\"4b9ae0c3-63f5-4c0c-b646-656c099060e5\":{\"roots\":{\"references\":[{\"attributes\":{},\"id\":\"9ef8ee4e-6060-4f70-88ba-0a6acbfbb98d\",\"type\":\"ResetTool\"},{\"attributes\":{\"fields\":[\"core services\",\"core goods\"]},\"id\":\"08cd8ca7-878d-4be6-bc02-9adff0caaadf\",\"type\":\"Stack\"},{\"attributes\":{\"fields\":[\"core services\",\"core goods\"]},\"id\":\"9760e1b7-d20b-4c70-80cb-15c3c78c1ac4\",\"type\":\"Stack\"},{\"attributes\":{\"bottom\":{\"expr\":{\"id\":\"16764950-e8da-48b2-8692-3ebe799396ca\",\"type\":\"Stack\"}},\"fill_alpha\":{\"value\":0.1},\"fill_color\":{\"value\":\"#1f77b4\"},\"line_alpha\":{\"value\":0.1},\"line_color\":{\"value\":\"#1f77b4\"},\"top\":{\"expr\":{\"id\":\"e0525963-3d5d-48cd-baa4-8df53ab82afb\",\"type\":\"Stack\"}},\"width\":{\"value\":1924409302.3255813},\"x\":{\"field\":\"dates\"}},\"id\":\"22ec3fa2-54bf-4743-8293-18b7ca7c4bfc\",\"type\":\"VBar\"},{\"attributes\":{\"bottom_units\":\"screen\",\"fill_alpha\":{\"value\":0.5},\"fill_color\":{\"value\":\"lightgrey\"},\"left_units\":\"screen\",\"level\":\"overlay\",\"line_alpha\":{\"value\":1.0},\"line_color\":{\"value\":\"black\"},\"line_dash\":[4,4],\"line_width\":{\"value\":2},\"plot\":null,\"render_mode\":\"css\",\"right_units\":\"screen\",\"top_units\":\"screen\"},\"id\":\"d9ec19d9-69db-48a9-a038-a64787c47b35\",\"type\":\"BoxAnnotation\"},{\"attributes\":{\"fields\":[\"core services\",\"core goods\",\"shelter\"]},\"id\":\"bfd268af-3fd3-4cf7-8cda-a381d9866073\",\"type\":\"Stack\"},{\"attributes\":{\"data_source\":{\"id\":\"cf2b838f-1420-4d76-8ca3-d5f3b36c0e9c\",\"type\":\"ColumnDataSource\"},\"glyph\":{\"id\":\"4a060cc6-794f-4bda-bcc4-1e00dd5d3aa7\",\"type\":\"VBar\"},\"hover_glyph\":null,\"muted_glyph\":null,\"name\":\"food & energy\",\"nonselection_glyph\":{\"id\":\"22ec3fa2-54bf-4743-8293-18b7ca7c4bfc\",\"type\":\"VBar\"},\"selection_glyph\":null,\"view\":{\"id\":\"3e0d4def-fa80-4ddc-a548-979dd681c06e\",\"type\":\"CDSView\"}},\"id\":\"b15098a0-a6e6-4a3f-ab8e-0bff735973a6\",\"type\":\"GlyphRenderer\"},{\"attributes\":{\"fields\":[\"core services\",\"core goods\",\"shelter\"]},\"id\":\"c87e580c-98f1-45e6-849e-9463168ea1f4\",\"type\":\"Stack\"},{\"attributes\":{\"source\":{\"id\":\"cf2b838f-1420-4d76-8ca3-d5f3b36c0e9c\",\"type\":\"ColumnDataSource\"}},\"id\":\"3e0d4def-fa80-4ddc-a548-979dd681c06e\",\"type\":\"CDSView\"},{\"attributes\":{\"fields\":[\"core services\",\"core goods\",\"shelter\",\"food & energy\"]},\"id\":\"13488b4f-c92e-42b4-8ca6-f3a425761b4a\",\"type\":\"Stack\"},{\"attributes\":{\"line_alpha\":0.0,\"line_color\":\"white\",\"x\":{\"field\":\"date\"},\"y\":{\"field\":\"total\"}},\"id\":\"58e2d61b-64e2-44a5-b527-902ce01d8f55\",\"type\":\"Line\"},{\"attributes\":{},\"id\":\"089565b8-6def-4603-a395-1433f263184d\",\"type\":\"UnionRenderers\"},{\"attributes\":{\"bottom\":{\"expr\":{\"id\":\"540f1c72-f852-46ef-aca2-9435092918fc\",\"type\":\"Stack\"}},\"fill_color\":{\"value\":\"#ffcc00\"},\"line_alpha\":{\"value\":0},\"line_color\":{\"value\":\"#ffcc00\"},\"top\":{\"expr\":{\"id\":\"2ec3caa7-d500-4ea6-a2fc-f593d663f397\",\"type\":\"Stack\"}},\"width\":{\"value\":1924409302.3255813},\"x\":{\"field\":\"dates\"}},\"id\":\"7c6c154b-b5c4-454a-9370-522156df9cfd\",\"type\":\"VBar\"},{\"attributes\":{\"bottom\":{\"expr\":{\"id\":\"540f1c72-f852-46ef-aca2-9435092918fc\",\"type\":\"Stack\"}},\"fill_alpha\":{\"value\":0.1},\"fill_color\":{\"value\":\"#1f77b4\"},\"line_alpha\":{\"value\":0.1},\"line_color\":{\"value\":\"#1f77b4\"},\"top\":{\"expr\":{\"id\":\"2ec3caa7-d500-4ea6-a2fc-f593d663f397\",\"type\":\"Stack\"}},\"width\":{\"value\":1924409302.3255813},\"x\":{\"field\":\"dates\"}},\"id\":\"1147665b-e593-4c77-b29e-03afa21b0ab0\",\"type\":\"VBar\"},{\"attributes\":{\"data_source\":{\"id\":\"2033f652-4ffa-4066-a5c7-24c881ea55bd\",\"type\":\"ColumnDataSource\"},\"glyph\":{\"id\":\"7c6c154b-b5c4-454a-9370-522156df9cfd\",\"type\":\"VBar\"},\"hover_glyph\":null,\"muted_glyph\":null,\"name\":\"core services\",\"nonselection_glyph\":{\"id\":\"1147665b-e593-4c77-b29e-03afa21b0ab0\",\"type\":\"VBar\"},\"selection_glyph\":null,\"view\":{\"id\":\"7c23f97a-d7c9-4a02-bdae-cd5022f06eb4\",\"type\":\"CDSView\"}},\"id\":\"b010af2c-939f-4366-94e7-145500b540ad\",\"type\":\"GlyphRenderer\"},{\"attributes\":{\"callback\":null,\"mode\":\"vline\",\"renderers\":[{\"id\":\"088c2bf2-8a07-484c-9325-ab3200836c37\",\"type\":\"GlyphRenderer\"}],\"show_arrow\":false,\"tooltips\":\"\\n    <div style=\\\"line-height: 110%;\\\">\\n        <span style=\\\"font-size: 11px; font-style: italic;\\\">@strdate:</span><br>\\n        <span style=\\\"font-size: 10px; padding: 0 5px;\\\">CPI Inflation: </span>\\n        <span style=\\\"font-size: 11px; font-weight: bold;\\\">@total{1.1}%</span><br>\\n        <span style=\\\"font-size: 9px; font-style: italic;\\\">Contribution from:</span><br>\\n        <div style=\\\"text-align: right;\\\">\\n            <span style=\\\"font-size: 10px; padding: 0 5px;\\\">Core services: </span>\\n            <span style=\\\"display: inline-block; font-size: 11px; font-weight: bold; min-width: 26px;\\\">@{core services}{1.1}</span>\\n            <span style=\\\"display: inline-block; color: #ffcc00; width: 8px;\\\">\\u25ae</span><br> \\n            <span style=\\\"font-size: 10px; padding: 0 5px;\\\">Core goods: </span>\\n            <span style=\\\"display: inline-block; font-size: 11px; font-weight: bold; min-width: 26px;\\\">@{core goods}{1.1}</span>\\n            <span style=\\\"display: inline-block; color: #0000e6; width: 8px;\\\">\\u25ae</span><br>\\n            <span style=\\\"font-size: 10px; padding: 0 5px;\\\">Shelter: </span>\\n            <span style=\\\"display: inline-block; font-size: 11px; font-weight: bold; min-width: 26px;\\\">@shelter{1.1}</span>\\n            <span style=\\\"display: inline-block; color: #03a9f4; width: 8px;\\\">\\u25ae</span><br>\\n            <span style=\\\"font-size: 10px; padding: 0 5px;\\\">Food & Energy: </span>\\n            <span style=\\\"display: inline-block; font-size: 11px; font-weight: bold; min-width: 26px;\\\">@{food & energy}{1.1}</span>\\n            <span style=\\\"display: inline-block; color: #ff0000; width: 8px;\\\">\\u25ae</span><br>\\n        </div>\\n    </div>\\n\"},\"id\":\"237b5540-2138-445d-8d7d-75babe9cc92e\",\"type\":\"HoverTool\"},{\"attributes\":{\"source\":{\"id\":\"2033f652-4ffa-4066-a5c7-24c881ea55bd\",\"type\":\"ColumnDataSource\"}},\"id\":\"7c23f97a-d7c9-4a02-bdae-cd5022f06eb4\",\"type\":\"CDSView\"},{\"attributes\":{\"plot\":null,\"text\":\"\"},\"id\":\"47d326a2-0e88-42d4-b633-8584f25208ab\",\"type\":\"Title\"},{\"attributes\":{\"source\":{\"id\":\"e5d9a392-9e93-4186-8912-35ed3d9040b1\",\"type\":\"ColumnDataSource\"}},\"id\":\"1f3d9280-5b98-4abb-bbee-0b6ef43b8b99\",\"type\":\"CDSView\"},{\"attributes\":{},\"id\":\"5668ca7b-a361-4721-aad6-5b2228640183\",\"type\":\"BasicTickFormatter\"},{\"attributes\":{\"mantissas\":[1,2,5],\"max_interval\":500.0,\"num_minor_ticks\":0},\"id\":\"381c5d84-02f2-4f89-9a3d-79611cb651a4\",\"type\":\"AdaptiveTicker\"},{\"attributes\":{\"data_source\":{\"id\":\"e5d9a392-9e93-4186-8912-35ed3d9040b1\",\"type\":\"ColumnDataSource\"},\"glyph\":{\"id\":\"58e2d61b-64e2-44a5-b527-902ce01d8f55\",\"type\":\"Line\"},\"hover_glyph\":null,\"muted_glyph\":null,\"nonselection_glyph\":{\"id\":\"7da2e165-6dad-4c6f-a39c-eccb9cf4d30a\",\"type\":\"Line\"},\"selection_glyph\":null,\"view\":{\"id\":\"1f3d9280-5b98-4abb-bbee-0b6ef43b8b99\",\"type\":\"CDSView\"}},\"id\":\"088c2bf2-8a07-484c-9325-ab3200836c37\",\"type\":\"GlyphRenderer\"},{\"attributes\":{\"line_alpha\":0.1,\"line_color\":\"#1f77b4\",\"x\":{\"field\":\"date\"},\"y\":{\"field\":\"total\"}},\"id\":\"7da2e165-6dad-4c6f-a39c-eccb9cf4d30a\",\"type\":\"Line\"},{\"attributes\":{\"overlay\":{\"id\":\"d9ec19d9-69db-48a9-a038-a64787c47b35\",\"type\":\"BoxAnnotation\"}},\"id\":\"06627891-3a9b-4764-a7e2-ffd9b42fa54b\",\"type\":\"BoxZoomTool\"},{\"attributes\":{\"base\":60,\"mantissas\":[1,2,5,10,15,20,30],\"max_interval\":1800000.0,\"min_interval\":1000.0,\"num_minor_ticks\":0},\"id\":\"307b28b4-86d6-4469-bf72-1e60a972f172\",\"type\":\"AdaptiveTicker\"},{\"attributes\":{\"callback\":null,\"data\":{\"core goods\":{\"__ndarray__\":\"exSuR+F6xL+amZmZmZm5v5qZmZmZmam/exSuR+F6pL+4HoXrUbiuvwrXo3A9Cre/mpmZmZmZub+amZmZmZm5v5qZmZmZmbm/7FG4HoXrwb8pXI/C9Si8v3sUrkfherS/exSuR+F6lL97FK5H4XqEP+xRuB6F67G/mpmZmZmZub8pXI/C9Si8v7gehetRuL6/uB6F61G4vr8K16NwPQq3v6RwPQrXo8C/KVyPwvUovL/sUbgehevBv7gehetRuL6/mpmZmZmZqb+amZmZmZm5vylcj8L1KLy/uB6F61G4vr8zMzMzMzPDv6RwPQrXo8C/uB6F61G4vr/D9Shcj8LFv5qZmZmZmcm/UrgehetRyL/D9Shcj8LFv+xRuB6F68G/pHA9CtejwL+amZmZmZm5v7gehetRuK6/7FG4HoXrsb+amZmZmZmpv5qZmZmZmam/exSuR+F6hL8=\",\"dtype\":\"float64\",\"shape\":[43]},\"core services\":{\"__ndarray__\":\"XI/C9Shc3z/NzMzMzMzcP83MzMzMzNw/FK5H4XoU3j9xPQrXo3DdP7gehetRuN4/XI/C9Shc3z9SuB6F61HgP0jhehSuR+E/4XoUrkfh4j97FK5H4XrkPx+F61G4HuU/w/UoXI/C5T9cj8L1KFznP65H4XoUruc/XI/C9Shc5z9SuB6F61HoP1K4HoXrUeg/UrgehetR6D+amZmZmZnpP1yPwvUoXOc/exSuR+F65D8pXI/C9SjkP83MzMzMzOQ/cT0K16Nw5T8UrkfhehTmP+xRuB6F6+E/FK5H4XoU3j89CtejcD3aP/YoXI/C9dg/PQrXo3A92j+amZmZmZnZP3E9CtejcN0/pHA9Ctej4D8UrkfhehTePxSuR+F6FN4/AAAAAAAA4D9SuB6F61HgPylcj8L1KOQ/exSuR+F65D8fhetRuB7lPwrXo3A9Cuc/CtejcD0K5z8=\",\"dtype\":\"float64\",\"shape\":[43]},\"date\":{\"__ndarray__\":\"AAAAqyyqdEIAAED9JrR0QgAAQB4qvXRCAACAcCTHdEIAAABdzNB0QgAAQK/G2nRCAADAm27kdEIAAADuaO50QgAAQEBj+HRCAADALAsCdUIAAAB/BQx1QgAAgGutFXVCAADAvacfdUIAAAAQoil1QgAAwJb3MnVCAAAA6fE8dUIAAIDVmUZ1QgAAwCeUUHVCAABAFDxadUIAAIBmNmR1QgAAwLgwbnVCAABApdh3dUIAAID30oF1QgAAAOR6i3VCAABANnWVdUIAAICIb591QgAAgKlyqHVCAADA+2yydUIAAEDoFLx1QgAAgDoPxnVCAAAAJ7fPdUIAAEB5sdl1QgAAgMur43VCAAAAuFPtdUIAAEAKTvd1QgAAwPb1AHZCAAAASfAKdkIAAECb6hR2QgAAQLztHXZCAACADugndkIAAAD7jzF2QgAAQE2KO3ZCAADAOTJFdkI=\",\"dtype\":\"float64\",\"shape\":[43]},\"food & energy\":{\"__ndarray__\":\"w/UoXI/C9b9xPQrXo3D1vwrXo3A9Cve/w/UoXI/C+b8UrkfhehT2vwAAAAAAAPS/16NwPQrX87+uR+F6FK7zv1K4HoXrUfi/SOF6FK5H9b8fhetRuB7xvx+F61G4Hu2/CtejcD0K1789CtejcD3qvylcj8L1KOy/7FG4HoXr4b+uR+F6FK7nv1K4HoXrUei/exSuR+F67L9SuB6F61Hov0jhehSuR9G/mpmZmZmZqb+4HoXrUbieP2ZmZmZmZtY/XI/C9Shc5z8pXI/C9SjwPz0K16NwPeo/rkfhehSu5z/2KFyPwvXgPzMzMzMzM9M/PQrXo3A92j97FK5H4XrkP2ZmZmZmZu4/cT0K16Nw5T97FK5H4XrsP65H4XoUruc/cT0K16Nw5T9I4XoUrkfpP1yPwvUoXOc/PQrXo3A96j9xPQrXo3DxP2ZmZmZmZvI/ZmZmZmZm8j8=\",\"dtype\":\"float64\",\"shape\":[43]},\"index\":{\"__ndarray__\":\"AAAAqyyqdEIAAED9JrR0QgAAQB4qvXRCAACAcCTHdEIAAABdzNB0QgAAQK/G2nRCAADAm27kdEIAAADuaO50QgAAQEBj+HRCAADALAsCdUIAAAB/BQx1QgAAgGutFXVCAADAvacfdUIAAAAQoil1QgAAwJb3MnVCAAAA6fE8dUIAAIDVmUZ1QgAAwCeUUHVCAABAFDxadUIAAIBmNmR1QgAAwLgwbnVCAABApdh3dUIAAID30oF1QgAAAOR6i3VCAABANnWVdUIAAICIb591QgAAgKlyqHVCAADA+2yydUIAAEDoFLx1QgAAgDoPxnVCAAAAJ7fPdUIAAEB5sdl1QgAAgMur43VCAAAAuFPtdUIAAEAKTvd1QgAAwPb1AHZCAAAASfAKdkIAAECb6hR2QgAAQLztHXZCAACADugndkIAAAD7jzF2QgAAQE2KO3ZCAADAOTJFdkI=\",\"dtype\":\"float64\",\"shape\":[43]},\"shelter\":{\"__ndarray__\":\"FK5H4XoU7j+4HoXrUbjuP7gehetRuO4/CtejcD0K7z8UrkfhehTuP1yPwvUoXO8/UrgehetR8D8pXI/C9SjwP6RwPQrXo/A/zczMzMzM8D/NzMzMzMzwP/YoXI/C9fA/H4XrUbge8T9xPQrXo3DxP/YoXI/C9fA/H4XrUbge8T8UrkfhehTyP4/C9Shcj/I/w/UoXI/C8T9mZmZmZmbyP4/C9Shcj/I/CtejcD0K8z9cj8L1KFzzP65H4XoUrvM/XI/C9Shc8z9cj8L1KFzzPwrXo3A9CvM/CtejcD0K8z9mZmZmZmbyPxSuR+F6FPI/mpmZmZmZ8T9mZmZmZmbyPxSuR+F6FPI/PQrXo3A98j/D9Shcj8LxPxSuR+F6FPI/FK5H4XoU8j/D9Shcj8LxP+F6FK5H4fI/XI/C9Shc8z8AAAAAAAD0P1yPwvUoXPM/KVyPwvUo9D8=\",\"dtype\":\"float64\",\"shape\":[43]},\"strdate\":[\"January 2015\",\"February 2015\",\"March 2015\",\"April 2015\",\"May 2015\",\"June 2015\",\"July 2015\",\"August 2015\",\"September 2015\",\"October 2015\",\"November 2015\",\"December 2015\",\"January 2016\",\"February 2016\",\"March 2016\",\"April 2016\",\"May 2016\",\"June 2016\",\"July 2016\",\"August 2016\",\"September 2016\",\"October 2016\",\"November 2016\",\"December 2016\",\"January 2017\",\"February 2017\",\"March 2017\",\"April 2017\",\"May 2017\",\"June 2017\",\"July 2017\",\"August 2017\",\"September 2017\",\"October 2017\",\"November 2017\",\"December 2017\",\"January 2018\",\"February 2018\",\"March 2018\",\"April 2018\",\"May 2018\",\"June 2018\",\"July 2018\"],\"total\":{\"__ndarray__\":\"CtejcD0Kt7+4HoXrUbiev+xRuB6F67G/mpmZmZmZyb97FK5H4Xqkv6RwPQrXo8A/w/UoXI/CxT+amZmZmZnJP3sUrkfheqS/w/UoXI/CxT9SuB6F61HgP65H4XoUruc/FK5H4XoU9j97FK5H4XrwP4XrUbgehes/PQrXo3A98j+kcD0K16PwP1K4HoXrUfA/MzMzMzMz6z9xPQrXo3DxP9ejcD0K1/c/uB6F61G4+j+F61G4HoX7P+F6FK5H4QBAUrgehetRBEBSuB6F61EGQHE9CtejcANAFK5H4XoUAkDhehSuR+H+PwrXo3A9Cvs/exSuR+F6/D8AAAAAAAAAQHsUrkfhegJA9ihcj8L1AEA9CtejcD0CQHE9CtejcAFASOF6FK5HAUB7FK5H4XoCQMP1KFyPwgNApHA9CtejBECF61G4HoUHQClcj8L1KAhAzczMzMzMCEA=\",\"dtype\":\"float64\",\"shape\":[43]}},\"selected\":{\"id\":\"abd42efb-128e-4de5-8237-35c48eb8c62d\",\"type\":\"Selection\"},\"selection_policy\":{\"id\":\"089565b8-6def-4603-a395-1433f263184d\",\"type\":\"UnionRenderers\"}},\"id\":\"e5d9a392-9e93-4186-8912-35ed3d9040b1\",\"type\":\"ColumnDataSource\"},{\"attributes\":{\"base\":24,\"mantissas\":[1,2,4,6,8,12],\"max_interval\":43200000.0,\"min_interval\":3600000.0,\"num_minor_ticks\":0},\"id\":\"e381e471-b438-4da2-b36c-36efc86b71db\",\"type\":\"AdaptiveTicker\"},{\"attributes\":{\"days\":[1,2,3,4,5,6,7,8,9,10,11,12,13,14,15,16,17,18,19,20,21,22,23,24,25,26,27,28,29,30,31]},\"id\":\"4025e4a2-4b60-4ed1-bd13-e7af12498264\",\"type\":\"DaysTicker\"},{\"attributes\":{\"days\":[1,4,7,10,13,16,19,22,25,28]},\"id\":\"b02001b6-e148-41a1-8411-14e1c21bce07\",\"type\":\"DaysTicker\"},{\"attributes\":{\"days\":[1,8,15,22]},\"id\":\"926dcfa7-1552-4fbc-8b24-9115bcb53b1f\",\"type\":\"DaysTicker\"},{\"attributes\":{},\"id\":\"6a615b58-bb8e-4bfa-bd65-d9613a784e72\",\"type\":\"WheelZoomTool\"},{\"attributes\":{\"days\":[1,15]},\"id\":\"b20f6325-8792-412c-ae07-ec352998bc8e\",\"type\":\"DaysTicker\"},{\"attributes\":{\"months\":[0,1,2,3,4,5,6,7,8,9,10,11]},\"id\":\"5c69553c-d4d0-4070-8f43-091ab17d1df3\",\"type\":\"MonthsTicker\"},{\"attributes\":{\"months\":[0,2,4,6,8,10]},\"id\":\"4aa44e1b-b53d-489b-9468-56e563b1bde4\",\"type\":\"MonthsTicker\"},{\"attributes\":{\"months\":[0,4,8]},\"id\":\"261e40a6-84ba-4bff-b176-bc5b6acc035c\",\"type\":\"MonthsTicker\"},{\"attributes\":{\"months\":[0,6]},\"id\":\"1e4daa7d-12d6-45a7-9f45-3473e9559c56\",\"type\":\"MonthsTicker\"},{\"attributes\":{},\"id\":\"0005f1c6-0dc4-4064-910a-7022c4a0390b\",\"type\":\"YearsTicker\"},{\"attributes\":{\"background_fill_alpha\":{\"value\":0},\"border_line_alpha\":{\"value\":0},\"glyph_height\":16,\"glyph_width\":8,\"items\":[{\"id\":\"de79a51e-9740-4d4c-8bbd-644f7e2e46ed\",\"type\":\"LegendItem\"},{\"id\":\"8f4a342e-5863-4634-a7e5-2966c3bb6726\",\"type\":\"LegendItem\"},{\"id\":\"75666329-bdba-469e-a85c-a0a08aeea1b2\",\"type\":\"LegendItem\"},{\"id\":\"2c8ca141-0d03-4407-9d94-2ba2f5eabad7\",\"type\":\"LegendItem\"}],\"label_standoff\":1,\"label_text_font_size\":{\"value\":\"8.5pt\"},\"location\":\"top_left\",\"margin\":2,\"orientation\":\"horizontal\",\"padding\":0,\"plot\":{\"id\":\"b03116c5-465c-4dac-8979-cf4e581ecd42\",\"subtype\":\"Figure\",\"type\":\"Plot\"},\"spacing\":5},\"id\":\"f4390bb4-be1d-4f7c-b1ad-92b2f7f82db7\",\"type\":\"Legend\"},{\"attributes\":{\"label\":{\"value\":\"Core services\"},\"renderers\":[{\"id\":\"b010af2c-939f-4366-94e7-145500b540ad\",\"type\":\"GlyphRenderer\"}]},\"id\":\"de79a51e-9740-4d4c-8bbd-644f7e2e46ed\",\"type\":\"LegendItem\"},{\"attributes\":{\"data_source\":{\"id\":\"2033f652-4ffa-4066-a5c7-24c881ea55bd\",\"type\":\"ColumnDataSource\"},\"glyph\":{\"id\":\"b3d2eea8-53bb-4e16-a9f3-eafb5e97f492\",\"type\":\"VBar\"},\"hover_glyph\":null,\"muted_glyph\":null,\"name\":\"food & energy\",\"nonselection_glyph\":{\"id\":\"57d13206-bf01-48a0-b52a-03761cc77d3d\",\"type\":\"VBar\"},\"selection_glyph\":null,\"view\":{\"id\":\"a51bfa8f-7256-4dd8-84b8-8ddfe9ee7a8c\",\"type\":\"CDSView\"}},\"id\":\"973b877f-0b9d-4b41-b439-e42c7acb3ef8\",\"type\":\"GlyphRenderer\"},{\"attributes\":{\"bottom\":{\"expr\":{\"id\":\"b30b4a8d-0fe9-44bb-a09f-ece545328efb\",\"type\":\"Stack\"}},\"fill_color\":{\"value\":\"#0000e6\"},\"line_alpha\":{\"value\":0},\"line_color\":{\"value\":\"#0000e6\"},\"top\":{\"expr\":{\"id\":\"08cd8ca7-878d-4be6-bc02-9adff0caaadf\",\"type\":\"Stack\"}},\"width\":{\"value\":1924409302.3255813},\"x\":{\"field\":\"dates\"}},\"id\":\"c8f6f763-73d4-480a-a2ef-c1ebbfcca1cd\",\"type\":\"VBar\"},{\"attributes\":{\"bottom\":{\"expr\":{\"id\":\"b30b4a8d-0fe9-44bb-a09f-ece545328efb\",\"type\":\"Stack\"}},\"fill_alpha\":{\"value\":0.1},\"fill_color\":{\"value\":\"#1f77b4\"},\"line_alpha\":{\"value\":0.1},\"line_color\":{\"value\":\"#1f77b4\"},\"top\":{\"expr\":{\"id\":\"08cd8ca7-878d-4be6-bc02-9adff0caaadf\",\"type\":\"Stack\"}},\"width\":{\"value\":1924409302.3255813},\"x\":{\"field\":\"dates\"}},\"id\":\"a0a583e0-5ba5-4e4f-b5df-6e6caa853c82\",\"type\":\"VBar\"},{\"attributes\":{\"data_source\":{\"id\":\"2033f652-4ffa-4066-a5c7-24c881ea55bd\",\"type\":\"ColumnDataSource\"},\"glyph\":{\"id\":\"c8f6f763-73d4-480a-a2ef-c1ebbfcca1cd\",\"type\":\"VBar\"},\"hover_glyph\":null,\"muted_glyph\":null,\"name\":\"core goods\",\"nonselection_glyph\":{\"id\":\"a0a583e0-5ba5-4e4f-b5df-6e6caa853c82\",\"type\":\"VBar\"},\"selection_glyph\":null,\"view\":{\"id\":\"84c9289f-aa38-488f-a43a-02517d5b4ed2\",\"type\":\"CDSView\"}},\"id\":\"c2b34ee1-e375-4403-90fa-76e4657e01c7\",\"type\":\"GlyphRenderer\"},{\"attributes\":{\"source\":{\"id\":\"2033f652-4ffa-4066-a5c7-24c881ea55bd\",\"type\":\"ColumnDataSource\"}},\"id\":\"84c9289f-aa38-488f-a43a-02517d5b4ed2\",\"type\":\"CDSView\"},{\"attributes\":{},\"id\":\"9a319298-0a47-4a69-874e-ab9c4b7ca6df\",\"type\":\"Selection\"},{\"attributes\":{},\"id\":\"c93f054a-287b-4949-a5ce-f1042e871713\",\"type\":\"UnionRenderers\"},{\"attributes\":{\"bottom\":{\"expr\":{\"id\":\"9760e1b7-d20b-4c70-80cb-15c3c78c1ac4\",\"type\":\"Stack\"}},\"fill_color\":{\"value\":\"#03a9f4\"},\"line_alpha\":{\"value\":0},\"line_color\":{\"value\":\"#03a9f4\"},\"top\":{\"expr\":{\"id\":\"bfd268af-3fd3-4cf7-8cda-a381d9866073\",\"type\":\"Stack\"}},\"width\":{\"value\":1924409302.3255813},\"x\":{\"field\":\"dates\"}},\"id\":\"688d32fa-9250-482e-8beb-cf5aa055bbdb\",\"type\":\"VBar\"},{\"attributes\":{\"label\":{\"value\":\"Core goods\"},\"renderers\":[{\"id\":\"c2b34ee1-e375-4403-90fa-76e4657e01c7\",\"type\":\"GlyphRenderer\"}]},\"id\":\"8f4a342e-5863-4634-a7e5-2966c3bb6726\",\"type\":\"LegendItem\"},{\"attributes\":{},\"id\":\"fe5c2f35-e263-4aa1-aefa-5bf6613d6bd6\",\"type\":\"LinearScale\"},{\"attributes\":{\"bottom\":{\"expr\":{\"id\":\"9760e1b7-d20b-4c70-80cb-15c3c78c1ac4\",\"type\":\"Stack\"}},\"fill_alpha\":{\"value\":0.1},\"fill_color\":{\"value\":\"#1f77b4\"},\"line_alpha\":{\"value\":0.1},\"line_color\":{\"value\":\"#1f77b4\"},\"top\":{\"expr\":{\"id\":\"bfd268af-3fd3-4cf7-8cda-a381d9866073\",\"type\":\"Stack\"}},\"width\":{\"value\":1924409302.3255813},\"x\":{\"field\":\"dates\"}},\"id\":\"fcfdb08d-08ef-419b-b4fb-9361e22df936\",\"type\":\"VBar\"},{\"attributes\":{\"data_source\":{\"id\":\"2033f652-4ffa-4066-a5c7-24c881ea55bd\",\"type\":\"ColumnDataSource\"},\"glyph\":{\"id\":\"688d32fa-9250-482e-8beb-cf5aa055bbdb\",\"type\":\"VBar\"},\"hover_glyph\":null,\"muted_glyph\":null,\"name\":\"shelter\",\"nonselection_glyph\":{\"id\":\"fcfdb08d-08ef-419b-b4fb-9361e22df936\",\"type\":\"VBar\"},\"selection_glyph\":null,\"view\":{\"id\":\"75b9a47c-0db4-4472-9256-841db6c76d18\",\"type\":\"CDSView\"}},\"id\":\"66aa4526-66a5-403b-acbf-04c23d1e13ac\",\"type\":\"GlyphRenderer\"},{\"attributes\":{\"source\":{\"id\":\"2033f652-4ffa-4066-a5c7-24c881ea55bd\",\"type\":\"ColumnDataSource\"}},\"id\":\"75b9a47c-0db4-4472-9256-841db6c76d18\",\"type\":\"CDSView\"},{\"attributes\":{\"label\":{\"value\":\"Shelter\"},\"renderers\":[{\"id\":\"66aa4526-66a5-403b-acbf-04c23d1e13ac\",\"type\":\"GlyphRenderer\"}]},\"id\":\"75666329-bdba-469e-a85c-a0a08aeea1b2\",\"type\":\"LegendItem\"},{\"attributes\":{},\"id\":\"abd42efb-128e-4de5-8237-35c48eb8c62d\",\"type\":\"Selection\"},{\"attributes\":{\"data_source\":{\"id\":\"cf2b838f-1420-4d76-8ca3-d5f3b36c0e9c\",\"type\":\"ColumnDataSource\"},\"glyph\":{\"id\":\"3c3539cd-5137-4d35-b1fe-6a4230e2d300\",\"type\":\"VBar\"},\"hover_glyph\":null,\"muted_glyph\":null,\"name\":\"shelter\",\"nonselection_glyph\":{\"id\":\"38596c28-058e-4e2f-85b3-2f387e90e451\",\"type\":\"VBar\"},\"selection_glyph\":null,\"view\":{\"id\":\"1b2bd1c1-7b08-4232-9899-78790a0edcf9\",\"type\":\"CDSView\"}},\"id\":\"6d7310bd-56b1-44b5-b5c9-f7cc20f85a6b\",\"type\":\"GlyphRenderer\"},{\"attributes\":{\"fields\":[\"core services\",\"core goods\"]},\"id\":\"62a98889-3a77-448d-9749-a664c3164fdd\",\"type\":\"Stack\"},{\"attributes\":{\"bottom\":{\"expr\":{\"id\":\"c87e580c-98f1-45e6-849e-9463168ea1f4\",\"type\":\"Stack\"}},\"fill_color\":{\"value\":\"#ff0000\"},\"line_alpha\":{\"value\":0},\"line_color\":{\"value\":\"#ff0000\"},\"top\":{\"expr\":{\"id\":\"13488b4f-c92e-42b4-8ca6-f3a425761b4a\",\"type\":\"Stack\"}},\"width\":{\"value\":1924409302.3255813},\"x\":{\"field\":\"dates\"}},\"id\":\"b3d2eea8-53bb-4e16-a9f3-eafb5e97f492\",\"type\":\"VBar\"},{\"attributes\":{\"bottom\":{\"expr\":{\"id\":\"c87e580c-98f1-45e6-849e-9463168ea1f4\",\"type\":\"Stack\"}},\"fill_alpha\":{\"value\":0.1},\"fill_color\":{\"value\":\"#1f77b4\"},\"line_alpha\":{\"value\":0.1},\"line_color\":{\"value\":\"#1f77b4\"},\"top\":{\"expr\":{\"id\":\"13488b4f-c92e-42b4-8ca6-f3a425761b4a\",\"type\":\"Stack\"}},\"width\":{\"value\":1924409302.3255813},\"x\":{\"field\":\"dates\"}},\"id\":\"57d13206-bf01-48a0-b52a-03761cc77d3d\",\"type\":\"VBar\"},{\"attributes\":{\"active_drag\":null,\"active_inspect\":\"auto\",\"active_multi\":null,\"active_scroll\":\"auto\",\"active_tap\":\"auto\",\"logo\":null,\"tools\":[{\"id\":\"79dc73c6-e196-469e-b8ab-4d4344ebcb84\",\"type\":\"PanTool\"},{\"id\":\"6a615b58-bb8e-4bfa-bd65-d9613a784e72\",\"type\":\"WheelZoomTool\"},{\"id\":\"06627891-3a9b-4764-a7e2-ffd9b42fa54b\",\"type\":\"BoxZoomTool\"},{\"id\":\"9ef8ee4e-6060-4f70-88ba-0a6acbfbb98d\",\"type\":\"ResetTool\"},{\"id\":\"237b5540-2138-445d-8d7d-75babe9cc92e\",\"type\":\"HoverTool\"}]},\"id\":\"f4a695bb-f8b7-4e38-b4c4-bd95732b83e2\",\"type\":\"Toolbar\"},{\"attributes\":{\"source\":{\"id\":\"2033f652-4ffa-4066-a5c7-24c881ea55bd\",\"type\":\"ColumnDataSource\"}},\"id\":\"a51bfa8f-7256-4dd8-84b8-8ddfe9ee7a8c\",\"type\":\"CDSView\"},{\"attributes\":{\"label\":{\"value\":\"Food & energy\"},\"renderers\":[{\"id\":\"973b877f-0b9d-4b41-b439-e42c7acb3ef8\",\"type\":\"GlyphRenderer\"}]},\"id\":\"2c8ca141-0d03-4407-9d94-2ba2f5eabad7\",\"type\":\"LegendItem\"},{\"attributes\":{\"fields\":[]},\"id\":\"c9ae370d-6fb5-4476-9b84-7418ecf1ac26\",\"type\":\"Stack\"},{\"attributes\":{\"data_source\":{\"id\":\"cf2b838f-1420-4d76-8ca3-d5f3b36c0e9c\",\"type\":\"ColumnDataSource\"},\"glyph\":{\"id\":\"bfb8bc64-8dda-41b6-bab9-e7fa1ecd4d56\",\"type\":\"VBar\"},\"hover_glyph\":null,\"muted_glyph\":null,\"name\":\"core services\",\"nonselection_glyph\":{\"id\":\"a958b976-7156-4abf-871a-3ad28f5bb573\",\"type\":\"VBar\"},\"selection_glyph\":null,\"view\":{\"id\":\"e2179cb9-ce3c-4c9e-8424-90ab6ab3402e\",\"type\":\"CDSView\"}},\"id\":\"a929744c-8983-433e-8371-1ac4f875855f\",\"type\":\"GlyphRenderer\"},{\"attributes\":{\"callback\":null,\"data\":{\"core goods\":[0,0,0,0,0,0,0,0,0,0,0,0,0,0.01,0,0,0,0,0,0,0,0,0,0,0,0,0,0,0,0,0,0,0,0,0,0,0,0,0,0,0,0,0],\"core services\":[0.49,0.45,0.45,0.47,0.46,0.48,0.49,0.51,0.54,0.59,0.64,0.66,0.68,0.73,0.74,0.73,0.76,0.76,0.76,0.8,0.73,0.64,0.63,0.65,0.67,0.69,0.56,0.47,0.41,0.39,0.41,0.4,0.46,0.52,0.47,0.47,0.5,0.51,0.63,0.64,0.66,0.72,0.72],\"dates\":[1420070400000.0,1422748800000.0,1425168000000.0,1427846400000.0,1430438400000.0,1433116800000.0,1435708800000.0,1438387200000.0,1441065600000.0,1443657600000.0,1446336000000.0,1448928000000.0,1451606400000.0,1454284800000.0,1456790400000.0,1459468800000.0,1462060800000.0,1464739200000.0,1467331200000.0,1470009600000.0,1472688000000.0,1475280000000.0,1477958400000.0,1480550400000.0,1483228800000.0,1485907200000.0,1488326400000.0,1491004800000.0,1493596800000.0,1496275200000.0,1498867200000.0,1501545600000.0,1504224000000.0,1506816000000.0,1509494400000.0,1512086400000.0,1514764800000.0,1517443200000.0,1519862400000.0,1522540800000.0,1525132800000.0,1527811200000.0,1530403200000.0],\"food & energy\":[0,0,0,0,0,0,0,0,0,0,0,0,0,0,0,0,0,0,0,0,0,0,0.03,0.35,0.73,1.01,0.82,0.74,0.53,0.3,0.41,0.64,0.95,0.67,0.89,0.74,0.67,0.79,0.73,0.82,1.09,1.15,1.15],\"shelter\":[0.94,0.96,0.96,0.97,0.94,0.98,1.02,1.01,1.04,1.05,1.05,1.06,1.07,1.09,1.06,1.07,1.13,1.16,1.11,1.15,1.16,1.19,1.21,1.23,1.21,1.21,1.19,1.19,1.15,1.13,1.1,1.15,1.13,1.14,1.11,1.13,1.13,1.11,1.18,1.21,1.25,1.21,1.26],\"strdate\":[\"Jan 2015\",\"Feb 2015\",\"Mar 2015\",\"Apr 2015\",\"May 2015\",\"Jun 2015\",\"Jul 2015\",\"Aug 2015\",\"Sep 2015\",\"Oct 2015\",\"Nov 2015\",\"Dec 2015\",\"Jan 2016\",\"Feb 2016\",\"Mar 2016\",\"Apr 2016\",\"May 2016\",\"Jun 2016\",\"Jul 2016\",\"Aug 2016\",\"Sep 2016\",\"Oct 2016\",\"Nov 2016\",\"Dec 2016\",\"Jan 2017\",\"Feb 2017\",\"Mar 2017\",\"Apr 2017\",\"May 2017\",\"Jun 2017\",\"Jul 2017\",\"Aug 2017\",\"Sep 2017\",\"Oct 2017\",\"Nov 2017\",\"Dec 2017\",\"Jan 2018\",\"Feb 2018\",\"Mar 2018\",\"Apr 2018\",\"May 2018\",\"Jun 2018\",\"Jul 2018\"]},\"selected\":{\"id\":\"9a319298-0a47-4a69-874e-ab9c4b7ca6df\",\"type\":\"Selection\"},\"selection_policy\":{\"id\":\"c93f054a-287b-4949-a5ce-f1042e871713\",\"type\":\"UnionRenderers\"}},\"id\":\"2033f652-4ffa-4066-a5c7-24c881ea55bd\",\"type\":\"ColumnDataSource\"},{\"attributes\":{\"fields\":[\"core services\"]},\"id\":\"c3bcf149-1037-4b06-8db8-b65c74888a10\",\"type\":\"Stack\"},{\"attributes\":{\"line_color\":{\"value\":\"gray\"},\"location\":0,\"plot\":{\"id\":\"b03116c5-465c-4dac-8979-cf4e581ecd42\",\"subtype\":\"Figure\",\"type\":\"Plot\"}},\"id\":\"a77c05f0-be74-45be-9df8-81dc0c680d17\",\"type\":\"Span\"},{\"attributes\":{\"fields\":[\"core services\"]},\"id\":\"30ca6769-b58e-4718-b45d-3f25847e95a1\",\"type\":\"Stack\"},{\"attributes\":{\"callback\":null,\"end\":3.9,\"start\":-2.2},\"id\":\"a45b9a2d-4f7d-4f07-8b0f-f424b01a5f6c\",\"type\":\"Range1d\"},{\"attributes\":{\"fields\":[\"core services\",\"core goods\"]},\"id\":\"a2455f6d-9aa6-4939-ae14-80bd8e4f4782\",\"type\":\"Stack\"},{\"attributes\":{\"fields\":[\"core services\"]},\"id\":\"b30b4a8d-0fe9-44bb-a09f-ece545328efb\",\"type\":\"Stack\"},{\"attributes\":{\"fields\":[\"core services\",\"core goods\",\"shelter\"]},\"id\":\"9dbe71df-f060-4548-99d5-6b5217c781d2\",\"type\":\"Stack\"},{\"attributes\":{\"fields\":[]},\"id\":\"540f1c72-f852-46ef-aca2-9435092918fc\",\"type\":\"Stack\"},{\"attributes\":{\"fields\":[\"core services\",\"core goods\",\"shelter\"]},\"id\":\"16764950-e8da-48b2-8692-3ebe799396ca\",\"type\":\"Stack\"},{\"attributes\":{\"callback\":null,\"end\":1533081600000.0,\"start\":1417392000000.0},\"id\":\"a8826e8e-a0fe-44d2-af6d-fe628321cf6f\",\"type\":\"Range1d\"},{\"attributes\":{\"fields\":[\"core services\",\"core goods\",\"shelter\",\"food & energy\"]},\"id\":\"e0525963-3d5d-48cd-baa4-8df53ab82afb\",\"type\":\"Stack\"},{\"attributes\":{\"below\":[{\"id\":\"d502dd69-4490-4cc1-85c4-45186bc1c09b\",\"type\":\"DatetimeAxis\"}],\"left\":[{\"id\":\"b30b879e-aaa6-4de2-a156-6b32c38640b4\",\"type\":\"LinearAxis\"}],\"outline_line_color\":{\"value\":\"white\"},\"plot_height\":400,\"plot_width\":720,\"renderers\":[{\"id\":\"d502dd69-4490-4cc1-85c4-45186bc1c09b\",\"type\":\"DatetimeAxis\"},{\"id\":\"d80563f1-593c-45ef-b718-1459558738ea\",\"type\":\"Grid\"},{\"id\":\"b30b879e-aaa6-4de2-a156-6b32c38640b4\",\"type\":\"LinearAxis\"},{\"id\":\"a3eda113-b04c-4462-b2d4-29a4153f3882\",\"type\":\"Grid\"},{\"id\":\"d9ec19d9-69db-48a9-a038-a64787c47b35\",\"type\":\"BoxAnnotation\"},{\"id\":\"f4390bb4-be1d-4f7c-b1ad-92b2f7f82db7\",\"type\":\"Legend\"},{\"id\":\"b010af2c-939f-4366-94e7-145500b540ad\",\"type\":\"GlyphRenderer\"},{\"id\":\"c2b34ee1-e375-4403-90fa-76e4657e01c7\",\"type\":\"GlyphRenderer\"},{\"id\":\"66aa4526-66a5-403b-acbf-04c23d1e13ac\",\"type\":\"GlyphRenderer\"},{\"id\":\"973b877f-0b9d-4b41-b439-e42c7acb3ef8\",\"type\":\"GlyphRenderer\"},{\"id\":\"a929744c-8983-433e-8371-1ac4f875855f\",\"type\":\"GlyphRenderer\"},{\"id\":\"ec370907-51a6-4a10-8fb3-169a0562ae4e\",\"type\":\"GlyphRenderer\"},{\"id\":\"6d7310bd-56b1-44b5-b5c9-f7cc20f85a6b\",\"type\":\"GlyphRenderer\"},{\"id\":\"b15098a0-a6e6-4a3f-ab8e-0bff735973a6\",\"type\":\"GlyphRenderer\"},{\"id\":\"a77c05f0-be74-45be-9df8-81dc0c680d17\",\"type\":\"Span\"},{\"id\":\"088c2bf2-8a07-484c-9325-ab3200836c37\",\"type\":\"GlyphRenderer\"}],\"sizing_mode\":\"scale_width\",\"title\":{\"id\":\"47d326a2-0e88-42d4-b633-8584f25208ab\",\"type\":\"Title\"},\"toolbar\":{\"id\":\"f4a695bb-f8b7-4e38-b4c4-bd95732b83e2\",\"type\":\"Toolbar\"},\"toolbar_location\":null,\"x_range\":{\"id\":\"a8826e8e-a0fe-44d2-af6d-fe628321cf6f\",\"type\":\"Range1d\"},\"x_scale\":{\"id\":\"fe5c2f35-e263-4aa1-aefa-5bf6613d6bd6\",\"type\":\"LinearScale\"},\"y_range\":{\"id\":\"a45b9a2d-4f7d-4f07-8b0f-f424b01a5f6c\",\"type\":\"Range1d\"},\"y_scale\":{\"id\":\"55b6ef6f-8f8b-4b8d-95c2-8d95adae6e88\",\"type\":\"LinearScale\"}},\"id\":\"b03116c5-465c-4dac-8979-cf4e581ecd42\",\"subtype\":\"Figure\",\"type\":\"Plot\"},{\"attributes\":{},\"id\":\"65b27d4c-83ae-4403-8247-2b5ae98ab171\",\"type\":\"UnionRenderers\"},{\"attributes\":{\"callback\":null,\"data\":{\"core goods\":[-0.16,-0.1,-0.05,-0.04,-0.06,-0.09,-0.1,-0.1,-0.1,-0.14,-0.11,-0.08,-0.02,0,-0.07,-0.1,-0.11,-0.12,-0.12,-0.09,-0.13,-0.11,-0.14,-0.12,-0.05,-0.1,-0.11,-0.12,-0.15,-0.13,-0.12,-0.17,-0.2,-0.19,-0.17,-0.14,-0.13,-0.1,-0.06,-0.07,-0.05,-0.05,-0.01],\"core services\":[0,0,0,0,0,0,0,0,0,0,0,0,0,0,0,0,0,0,0,0,0,0,0,0,0,0,0,0,0,0,0,0,0,0,0,0,0,0,0,0,0,0,0],\"dates\":[1420070400000.0,1422748800000.0,1425168000000.0,1427846400000.0,1430438400000.0,1433116800000.0,1435708800000.0,1438387200000.0,1441065600000.0,1443657600000.0,1446336000000.0,1448928000000.0,1451606400000.0,1454284800000.0,1456790400000.0,1459468800000.0,1462060800000.0,1464739200000.0,1467331200000.0,1470009600000.0,1472688000000.0,1475280000000.0,1477958400000.0,1480550400000.0,1483228800000.0,1485907200000.0,1488326400000.0,1491004800000.0,1493596800000.0,1496275200000.0,1498867200000.0,1501545600000.0,1504224000000.0,1506816000000.0,1509494400000.0,1512086400000.0,1514764800000.0,1517443200000.0,1519862400000.0,1522540800000.0,1525132800000.0,1527811200000.0,1530403200000.0],\"food & energy\":[-1.36,-1.34,-1.44,-1.61,-1.38,-1.25,-1.24,-1.23,-1.52,-1.33,-1.07,-0.91,-0.36,-0.82,-0.88,-0.56,-0.74,-0.76,-0.89,-0.76,-0.27,-0.05,0,0,0,0,0,0,0,0,0,0,0,0,0,0,0,0,0,0,0,0,0],\"shelter\":[0,0,0,0,0,0,0,0,0,0,0,0,0,0,0,0,0,0,0,0,0,0,0,0,0,0,0,0,0,0,0,0,0,0,0,0,0,0,0,0,0,0,0],\"strdate\":[\"Jan 2015\",\"Feb 2015\",\"Mar 2015\",\"Apr 2015\",\"May 2015\",\"Jun 2015\",\"Jul 2015\",\"Aug 2015\",\"Sep 2015\",\"Oct 2015\",\"Nov 2015\",\"Dec 2015\",\"Jan 2016\",\"Feb 2016\",\"Mar 2016\",\"Apr 2016\",\"May 2016\",\"Jun 2016\",\"Jul 2016\",\"Aug 2016\",\"Sep 2016\",\"Oct 2016\",\"Nov 2016\",\"Dec 2016\",\"Jan 2017\",\"Feb 2017\",\"Mar 2017\",\"Apr 2017\",\"May 2017\",\"Jun 2017\",\"Jul 2017\",\"Aug 2017\",\"Sep 2017\",\"Oct 2017\",\"Nov 2017\",\"Dec 2017\",\"Jan 2018\",\"Feb 2018\",\"Mar 2018\",\"Apr 2018\",\"May 2018\",\"Jun 2018\",\"Jul 2018\"]},\"selected\":{\"id\":\"db632e20-f1eb-4a9b-84bf-9a935491004b\",\"type\":\"Selection\"},\"selection_policy\":{\"id\":\"65b27d4c-83ae-4403-8247-2b5ae98ab171\",\"type\":\"UnionRenderers\"}},\"id\":\"cf2b838f-1420-4d76-8ca3-d5f3b36c0e9c\",\"type\":\"ColumnDataSource\"},{\"attributes\":{\"bottom\":{\"expr\":{\"id\":\"c9ae370d-6fb5-4476-9b84-7418ecf1ac26\",\"type\":\"Stack\"}},\"fill_color\":{\"value\":\"#ffcc00\"},\"line_alpha\":{\"value\":0},\"line_color\":{\"value\":\"#ffcc00\"},\"top\":{\"expr\":{\"id\":\"c3bcf149-1037-4b06-8db8-b65c74888a10\",\"type\":\"Stack\"}},\"width\":{\"value\":1924409302.3255813},\"x\":{\"field\":\"dates\"}},\"id\":\"bfb8bc64-8dda-41b6-bab9-e7fa1ecd4d56\",\"type\":\"VBar\"},{\"attributes\":{},\"id\":\"55b6ef6f-8f8b-4b8d-95c2-8d95adae6e88\",\"type\":\"LinearScale\"},{\"attributes\":{\"bottom\":{\"expr\":{\"id\":\"c9ae370d-6fb5-4476-9b84-7418ecf1ac26\",\"type\":\"Stack\"}},\"fill_alpha\":{\"value\":0.1},\"fill_color\":{\"value\":\"#1f77b4\"},\"line_alpha\":{\"value\":0.1},\"line_color\":{\"value\":\"#1f77b4\"},\"top\":{\"expr\":{\"id\":\"c3bcf149-1037-4b06-8db8-b65c74888a10\",\"type\":\"Stack\"}},\"width\":{\"value\":1924409302.3255813},\"x\":{\"field\":\"dates\"}},\"id\":\"a958b976-7156-4abf-871a-3ad28f5bb573\",\"type\":\"VBar\"},{\"attributes\":{\"grid_line_color\":{\"value\":null},\"plot\":{\"id\":\"b03116c5-465c-4dac-8979-cf4e581ecd42\",\"subtype\":\"Figure\",\"type\":\"Plot\"},\"ticker\":{\"id\":\"a6ae2eed-daec-46ce-ad76-f96f2fcc348c\",\"type\":\"DatetimeTicker\"}},\"id\":\"d80563f1-593c-45ef-b718-1459558738ea\",\"type\":\"Grid\"},{\"attributes\":{\"source\":{\"id\":\"cf2b838f-1420-4d76-8ca3-d5f3b36c0e9c\",\"type\":\"ColumnDataSource\"}},\"id\":\"e2179cb9-ce3c-4c9e-8424-90ab6ab3402e\",\"type\":\"CDSView\"},{\"attributes\":{\"axis_line_color\":{\"value\":\"white\"},\"formatter\":{\"id\":\"58e6ad01-7162-4783-9c02-fd4f133f5eaf\",\"type\":\"DatetimeTickFormatter\"},\"plot\":{\"id\":\"b03116c5-465c-4dac-8979-cf4e581ecd42\",\"subtype\":\"Figure\",\"type\":\"Plot\"},\"ticker\":{\"id\":\"a6ae2eed-daec-46ce-ad76-f96f2fcc348c\",\"type\":\"DatetimeTicker\"}},\"id\":\"d502dd69-4490-4cc1-85c4-45186bc1c09b\",\"type\":\"DatetimeAxis\"},{\"attributes\":{\"num_minor_ticks\":5,\"tickers\":[{\"id\":\"381c5d84-02f2-4f89-9a3d-79611cb651a4\",\"type\":\"AdaptiveTicker\"},{\"id\":\"307b28b4-86d6-4469-bf72-1e60a972f172\",\"type\":\"AdaptiveTicker\"},{\"id\":\"e381e471-b438-4da2-b36c-36efc86b71db\",\"type\":\"AdaptiveTicker\"},{\"id\":\"4025e4a2-4b60-4ed1-bd13-e7af12498264\",\"type\":\"DaysTicker\"},{\"id\":\"b02001b6-e148-41a1-8411-14e1c21bce07\",\"type\":\"DaysTicker\"},{\"id\":\"926dcfa7-1552-4fbc-8b24-9115bcb53b1f\",\"type\":\"DaysTicker\"},{\"id\":\"b20f6325-8792-412c-ae07-ec352998bc8e\",\"type\":\"DaysTicker\"},{\"id\":\"5c69553c-d4d0-4070-8f43-091ab17d1df3\",\"type\":\"MonthsTicker\"},{\"id\":\"4aa44e1b-b53d-489b-9468-56e563b1bde4\",\"type\":\"MonthsTicker\"},{\"id\":\"261e40a6-84ba-4bff-b176-bc5b6acc035c\",\"type\":\"MonthsTicker\"},{\"id\":\"1e4daa7d-12d6-45a7-9f45-3473e9559c56\",\"type\":\"MonthsTicker\"},{\"id\":\"0005f1c6-0dc4-4064-910a-7022c4a0390b\",\"type\":\"YearsTicker\"}]},\"id\":\"a6ae2eed-daec-46ce-ad76-f96f2fcc348c\",\"type\":\"DatetimeTicker\"},{\"attributes\":{\"bottom\":{\"expr\":{\"id\":\"30ca6769-b58e-4718-b45d-3f25847e95a1\",\"type\":\"Stack\"}},\"fill_color\":{\"value\":\"#0000e6\"},\"line_alpha\":{\"value\":0},\"line_color\":{\"value\":\"#0000e6\"},\"top\":{\"expr\":{\"id\":\"a2455f6d-9aa6-4939-ae14-80bd8e4f4782\",\"type\":\"Stack\"}},\"width\":{\"value\":1924409302.3255813},\"x\":{\"field\":\"dates\"}},\"id\":\"00f3bb7e-b6e9-4f13-bd99-edd46b3ebd41\",\"type\":\"VBar\"},{\"attributes\":{\"axis_line_color\":{\"value\":\"white\"},\"formatter\":{\"id\":\"5668ca7b-a361-4721-aad6-5b2228640183\",\"type\":\"BasicTickFormatter\"},\"minor_tick_line_color\":{\"value\":null},\"plot\":{\"id\":\"b03116c5-465c-4dac-8979-cf4e581ecd42\",\"subtype\":\"Figure\",\"type\":\"Plot\"},\"ticker\":{\"id\":\"60183562-bed1-4501-921f-9d636e823e38\",\"type\":\"BasicTicker\"}},\"id\":\"b30b879e-aaa6-4de2-a156-6b32c38640b4\",\"type\":\"LinearAxis\"},{\"attributes\":{\"bottom\":{\"expr\":{\"id\":\"30ca6769-b58e-4718-b45d-3f25847e95a1\",\"type\":\"Stack\"}},\"fill_alpha\":{\"value\":0.1},\"fill_color\":{\"value\":\"#1f77b4\"},\"line_alpha\":{\"value\":0.1},\"line_color\":{\"value\":\"#1f77b4\"},\"top\":{\"expr\":{\"id\":\"a2455f6d-9aa6-4939-ae14-80bd8e4f4782\",\"type\":\"Stack\"}},\"width\":{\"value\":1924409302.3255813},\"x\":{\"field\":\"dates\"}},\"id\":\"188a7525-e223-43e7-9585-7aad8a3fc971\",\"type\":\"VBar\"},{\"attributes\":{\"source\":{\"id\":\"cf2b838f-1420-4d76-8ca3-d5f3b36c0e9c\",\"type\":\"ColumnDataSource\"}},\"id\":\"1b2bd1c1-7b08-4232-9899-78790a0edcf9\",\"type\":\"CDSView\"},{\"attributes\":{},\"id\":\"60183562-bed1-4501-921f-9d636e823e38\",\"type\":\"BasicTicker\"},{\"attributes\":{\"data_source\":{\"id\":\"cf2b838f-1420-4d76-8ca3-d5f3b36c0e9c\",\"type\":\"ColumnDataSource\"},\"glyph\":{\"id\":\"00f3bb7e-b6e9-4f13-bd99-edd46b3ebd41\",\"type\":\"VBar\"},\"hover_glyph\":null,\"muted_glyph\":null,\"name\":\"core goods\",\"nonselection_glyph\":{\"id\":\"188a7525-e223-43e7-9585-7aad8a3fc971\",\"type\":\"VBar\"},\"selection_glyph\":null,\"view\":{\"id\":\"e7298321-1f4e-4a5f-8282-6dc2599e75a8\",\"type\":\"CDSView\"}},\"id\":\"ec370907-51a6-4a10-8fb3-169a0562ae4e\",\"type\":\"GlyphRenderer\"},{\"attributes\":{\"dimension\":1,\"plot\":{\"id\":\"b03116c5-465c-4dac-8979-cf4e581ecd42\",\"subtype\":\"Figure\",\"type\":\"Plot\"},\"ticker\":{\"id\":\"60183562-bed1-4501-921f-9d636e823e38\",\"type\":\"BasicTicker\"}},\"id\":\"a3eda113-b04c-4462-b2d4-29a4153f3882\",\"type\":\"Grid\"},{\"attributes\":{\"source\":{\"id\":\"cf2b838f-1420-4d76-8ca3-d5f3b36c0e9c\",\"type\":\"ColumnDataSource\"}},\"id\":\"e7298321-1f4e-4a5f-8282-6dc2599e75a8\",\"type\":\"CDSView\"},{\"attributes\":{\"days\":[\"%b %Y\"],\"hours\":[\"%b %Y\"],\"months\":[\"%b %Y\"],\"years\":[\"%b %Y\"]},\"id\":\"58e6ad01-7162-4783-9c02-fd4f133f5eaf\",\"type\":\"DatetimeTickFormatter\"},{\"attributes\":{},\"id\":\"db632e20-f1eb-4a9b-84bf-9a935491004b\",\"type\":\"Selection\"},{\"attributes\":{\"fields\":[\"core services\"]},\"id\":\"2ec3caa7-d500-4ea6-a2fc-f593d663f397\",\"type\":\"Stack\"},{\"attributes\":{\"bottom\":{\"expr\":{\"id\":\"62a98889-3a77-448d-9749-a664c3164fdd\",\"type\":\"Stack\"}},\"fill_color\":{\"value\":\"#03a9f4\"},\"line_alpha\":{\"value\":0},\"line_color\":{\"value\":\"#03a9f4\"},\"top\":{\"expr\":{\"id\":\"9dbe71df-f060-4548-99d5-6b5217c781d2\",\"type\":\"Stack\"}},\"width\":{\"value\":1924409302.3255813},\"x\":{\"field\":\"dates\"}},\"id\":\"3c3539cd-5137-4d35-b1fe-6a4230e2d300\",\"type\":\"VBar\"},{\"attributes\":{},\"id\":\"79dc73c6-e196-469e-b8ab-4d4344ebcb84\",\"type\":\"PanTool\"},{\"attributes\":{\"bottom\":{\"expr\":{\"id\":\"62a98889-3a77-448d-9749-a664c3164fdd\",\"type\":\"Stack\"}},\"fill_alpha\":{\"value\":0.1},\"fill_color\":{\"value\":\"#1f77b4\"},\"line_alpha\":{\"value\":0.1},\"line_color\":{\"value\":\"#1f77b4\"},\"top\":{\"expr\":{\"id\":\"9dbe71df-f060-4548-99d5-6b5217c781d2\",\"type\":\"Stack\"}},\"width\":{\"value\":1924409302.3255813},\"x\":{\"field\":\"dates\"}},\"id\":\"38596c28-058e-4e2f-85b3-2f387e90e451\",\"type\":\"VBar\"},{\"attributes\":{\"bottom\":{\"expr\":{\"id\":\"16764950-e8da-48b2-8692-3ebe799396ca\",\"type\":\"Stack\"}},\"fill_color\":{\"value\":\"#ff0000\"},\"line_alpha\":{\"value\":0},\"line_color\":{\"value\":\"#ff0000\"},\"top\":{\"expr\":{\"id\":\"e0525963-3d5d-48cd-baa4-8df53ab82afb\",\"type\":\"Stack\"}},\"width\":{\"value\":1924409302.3255813},\"x\":{\"field\":\"dates\"}},\"id\":\"4a060cc6-794f-4bda-bcc4-1e00dd5d3aa7\",\"type\":\"VBar\"}],\"root_ids\":[\"b03116c5-465c-4dac-8979-cf4e581ecd42\"]},\"title\":\"Bokeh Application\",\"version\":\"0.13.0\"}};\n",
       "  var render_items = [{\"docid\":\"4b9ae0c3-63f5-4c0c-b646-656c099060e5\",\"roots\":{\"b03116c5-465c-4dac-8979-cf4e581ecd42\":\"cd50d880-df7f-48ce-aa0c-29bbeeb61cc4\"}}];\n",
       "  root.Bokeh.embed.embed_items_notebook(docs_json, render_items);\n",
       "\n",
       "  }\n",
       "  if (root.Bokeh !== undefined) {\n",
       "    embed_document(root);\n",
       "  } else {\n",
       "    var attempts = 0;\n",
       "    var timer = setInterval(function(root) {\n",
       "      if (root.Bokeh !== undefined) {\n",
       "        embed_document(root);\n",
       "        clearInterval(timer);\n",
       "      }\n",
       "      attempts++;\n",
       "      if (attempts > 100) {\n",
       "        console.log(\"Bokeh: ERROR: Unable to run BokehJS code because BokehJS library is missing\")\n",
       "        clearInterval(timer);\n",
       "      }\n",
       "    }, 10, root)\n",
       "  }\n",
       "})(window);"
      ],
      "application/vnd.bokehjs_exec.v0+json": ""
     },
     "metadata": {
      "application/vnd.bokehjs_exec.v0+json": {
       "id": "b03116c5-465c-4dac-8979-cf4e581ecd42"
      }
     },
     "output_type": "display_data"
    }
   ],
   "source": [
    "# HTML text that shows when hovering\n",
    "tooltips = \"\"\"\n",
    "    <div style=\"line-height: 110%;\">\n",
    "        <span style=\"font-size: 11px; font-style: italic;\">@strdate:</span><br>\n",
    "        <span style=\"font-size: 10px; padding: 0 5px;\">CPI Inflation: </span>\n",
    "        <span style=\"font-size: 11px; font-weight: bold;\">@total{1.1}%</span><br>\n",
    "        <span style=\"font-size: 9px; font-style: italic;\">Contribution from:</span><br>\n",
    "        <div style=\"text-align: right;\">\n",
    "            <span style=\"font-size: 10px; padding: 0 5px;\">Core services: </span>\n",
    "            <span style=\"display: inline-block; font-size: 11px; font-weight: bold; min-width: 26px;\">@{core services}{1.1}</span>\n",
    "            <span style=\"display: inline-block; color: #ffcc00; width: 8px;\">▮</span><br> \n",
    "            <span style=\"font-size: 10px; padding: 0 5px;\">Core goods: </span>\n",
    "            <span style=\"display: inline-block; font-size: 11px; font-weight: bold; min-width: 26px;\">@{core goods}{1.1}</span>\n",
    "            <span style=\"display: inline-block; color: #0000e6; width: 8px;\">▮</span><br>\n",
    "            <span style=\"font-size: 10px; padding: 0 5px;\">Shelter: </span>\n",
    "            <span style=\"display: inline-block; font-size: 11px; font-weight: bold; min-width: 26px;\">@shelter{1.1}</span>\n",
    "            <span style=\"display: inline-block; color: #03a9f4; width: 8px;\">▮</span><br>\n",
    "            <span style=\"font-size: 10px; padding: 0 5px;\">Food & Energy: </span>\n",
    "            <span style=\"display: inline-block; font-size: 11px; font-weight: bold; min-width: 26px;\">@{food & energy}{1.1}</span>\n",
    "            <span style=\"display: inline-block; color: #ff0000; width: 8px;\">▮</span><br>\n",
    "        </div>\n",
    "    </div>\n",
    "\"\"\"\n",
    "# Bar width determined by how many bars\n",
    "width = ((d2.index[-1] - d2.index[0]).total_seconds() \n",
    "         * 750.0 / len(d2.index))\n",
    "\n",
    "# horizontal line at zero\n",
    "zero_line = Span(location=0, dimension='width', \n",
    "                 line_color='gray', line_width=1)\n",
    "\n",
    "p = figure(plot_width=720, plot_height=400, \n",
    "           x_axis_type='datetime', \n",
    "           tools=['pan, wheel_zoom, box_zoom, reset'], \n",
    "           logo=None,\n",
    "           toolbar_location=None,  \n",
    "           y_range=Range1d(-2.2, 3.9),\n",
    "           x_range=Range1d(pd.to_datetime('2014-12-01'), pd.to_datetime('2018-08-01')))\n",
    "p.vbar_stack(col_names, x='dates', width=width, \n",
    "             color=['#ffcc00', '#0000e6', '#03a9f4', '#ff0000'], \n",
    "             legend=['Core services', 'Core goods', 'Shelter', 'Food & energy'], \n",
    "             line_alpha=0, source=ColumnDataSource(infl))\n",
    "p.vbar_stack(col_names, x='dates', width=width, \n",
    "             color=['#ffcc00', '#0000e6', '#03a9f4', '#ff0000'], \n",
    "             line_alpha=0, source=ColumnDataSource(defl))\n",
    "\n",
    "p.add_layout(zero_line)\n",
    "\n",
    "r1 = p.line('date', 'total', color='white', alpha=0.0, source=ColumnDataSource(d2))\n",
    "\n",
    "p.sizing_mode = 'scale_width'\n",
    "p.xgrid.grid_line_color = None\n",
    "p.xaxis.formatter=DatetimeTickFormatter(\n",
    "        hours=[\"%b %Y\"],\n",
    "        days=[\"%b %Y\"],\n",
    "        months=[\"%b %Y\"],\n",
    "        years=[\"%b %Y\"],\n",
    "    )\n",
    "p.outline_line_color = 'white'\n",
    "p.axis.axis_line_color = 'white'\n",
    "p.yaxis.minor_tick_line_color = None\n",
    "p.toolbar.active_drag = None\n",
    "p.legend.orientation = \"horizontal\"\n",
    "p.legend.location = \"top_left\"\n",
    "p.legend.border_line_alpha = 0\n",
    "p.legend.background_fill_alpha = 0\n",
    "p.legend.margin = 2\n",
    "p.legend.padding = 0\n",
    "p.legend.spacing = 5\n",
    "p.legend.label_standoff = 1\n",
    "p.legend.glyph_height = 16\n",
    "p.legend.glyph_width = 8\n",
    "p.legend.label_text_font_size = '8.5pt'\n",
    "\n",
    "p.add_tools(HoverTool(tooltips=tooltips, show_arrow=False, mode='vline',  renderers=[r1]))\n",
    "\n",
    "script, div = components(p)\n",
    "with open('C:/Working/bdecon.github.io/plots/cpi_comp.html', 'w') as text_file:\n",
    "    text_file.write(f'{script} {div}')\n",
    "\n",
    "show(p)"
   ]
  }
 ],
 "metadata": {
  "kernelspec": {
   "display_name": "Python 3",
   "language": "python",
   "name": "python3"
  },
  "language_info": {
   "codemirror_mode": {
    "name": "ipython",
    "version": 3
   },
   "file_extension": ".py",
   "mimetype": "text/x-python",
   "name": "python",
   "nbconvert_exporter": "python",
   "pygments_lexer": "ipython3",
   "version": "3.6.6"
  }
 },
 "nbformat": 4,
 "nbformat_minor": 2
}
