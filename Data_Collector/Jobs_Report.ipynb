{
 "cells": [
  {
   "cell_type": "markdown",
   "metadata": {},
   "source": [
    "# Data_Collector: Jobs Report\n",
    "------\n",
    "\n",
    "Updated: January 23, 2018\n",
    "\n",
    "Status: Collects series, need to do calculations and export\n",
    "\n",
    "Descr: Python code for reading the BLS jobs report on the first friday of the month, at 8:30am. [PDF release](https://www.bls.gov/news.release/pdf/empsit.pdf)\n",
    "\n",
    "To Do: Text calculations. Make charts. combine charts and save as picture.\n",
    "\n",
    "------\n",
    "\n",
    "\n"
   ]
  },
  {
   "cell_type": "markdown",
   "metadata": {},
   "source": [
    "#### Packages - Run early"
   ]
  },
  {
   "cell_type": "code",
   "execution_count": 1,
   "metadata": {
    "ExecuteTime": {
     "end_time": "2018-03-09T13:19:55.563661Z",
     "start_time": "2018-03-09T13:19:52.894952Z"
    }
   },
   "outputs": [
    {
     "name": "stdout",
     "output_type": "stream",
     "text": [
      "python 3.6\n",
      "pandas 0.22.0\n"
     ]
    }
   ],
   "source": [
    "import sys # Check which version of python is being used\n",
    "print(f'python {sys.version_info[0]}.{sys.version_info[1]}')\n",
    "import pandas as pd    # Pandas to organize and make calcs\n",
    "print(f'pandas {pd.__version__}')\n",
    "from pandas_datareader.data import DataReader as pdr \n",
    "import requests        # Make requests to econ data APIs\n",
    "import json            # Work with JSON data\n",
    "import config          # Local file config.py with BLS API key"
   ]
  },
  {
   "cell_type": "markdown",
   "metadata": {},
   "source": [
    "#### Define custom functions - run early"
   ]
  },
  {
   "cell_type": "code",
   "execution_count": 2,
   "metadata": {
    "ExecuteTime": {
     "end_time": "2018-03-09T13:19:58.813919Z",
     "start_time": "2018-03-09T13:19:58.803408Z"
    }
   },
   "outputs": [],
   "source": [
    "# Define some tools to use later in calculations\n",
    "def pr(series):\n",
    "    '''Multiply by 100 and round'''\n",
    "    return (series * 100).round(1)\n",
    "\n",
    "def agr(series):\n",
    "    '''Calculate percent change from year ago'''\n",
    "    return pr(series.pct_change(12))\n",
    "\n",
    "def gr3(series):\n",
    "    '''Calculate 3 month moving average and annualize'''\n",
    "    return pr(((series.rolling(3).sum().pct_change(3) + 1) ** 4) - 1)\n",
    "\n",
    "# Write text for chart annotations\n",
    "def wt(filename, filetext):\n",
    "    '''Write string to txt file'''\n",
    "    with open(filename, 'w') as text_file:\n",
    "        text_file.write(filetext)"
   ]
  },
  {
   "cell_type": "markdown",
   "metadata": {},
   "source": [
    "#### Parameters - Inspect and run early"
   ]
  },
  {
   "cell_type": "code",
   "execution_count": 3,
   "metadata": {
    "ExecuteTime": {
     "end_time": "2018-03-09T13:20:06.411391Z",
     "start_time": "2018-03-09T13:20:06.404384Z"
    }
   },
   "outputs": [],
   "source": [
    "# API access to Bureau of Labor Statistics data\n",
    "url = 'https://api.bls.gov/publicAPI/v2/timeseries/data/'\n",
    "# API key in config.py which contains: bls_key = 'key'\n",
    "key = '?registrationkey={}'.format(config.bls_key)\n",
    "# Series of interest, format is: ('Fred ID', 'BLS ID')\n",
    "s = [('PAYEMS', 'CES0000000001'), ('UNRATE', 'LNS14000000'), \n",
    "     ('U6RATE', 'LNS13327709'), ('LNS12300060', 'LNS12300060'), \n",
    "     ('AHETPI', 'CES0500000008'), ('LNS12032197', 'LNS12032197'), \n",
    "     ('LNS12032200', 'LNS12032200'), ('LNS12035019', 'LNS12035019'),\n",
    "     ('LNS13025703', 'LNS13025703')]\n",
    "\n",
    "headers = {'Content-type': 'application/json'}    # Request json fmt\n",
    "param = {\"seriesid\": [i[1] for i in s],           \n",
    "         \"startyear\": \"2016\", \"endyear\": \"2018\"}  # Update for 2018"
   ]
  },
  {
   "cell_type": "markdown",
   "metadata": {},
   "source": [
    "#### Use BLS text table with series info to collect the name of each series in s - run early"
   ]
  },
  {
   "cell_type": "code",
   "execution_count": 4,
   "metadata": {
    "ExecuteTime": {
     "end_time": "2018-03-09T13:20:18.960262Z",
     "start_time": "2018-03-09T13:20:13.691149Z"
    }
   },
   "outputs": [],
   "source": [
    "d = {}    # Dictionary to fill with series names\n",
    "for i in ['ln', 'ce']:\n",
    "    url = f'https://download.bls.gov/pub/time.series/{i}/{i}.series'\n",
    "    t = pd.read_table(url, sep=r'\\s*\\t', engine='python')\n",
    "    t = t[t['series_id'].isin([i[1] for i in s])].set_index('series_id')['series_title']\n",
    "    for k, v in t.items(): d[k] = v"
   ]
  },
  {
   "cell_type": "markdown",
   "metadata": {},
   "source": [
    "#### Get long-term values from FRED - Inspect and run early"
   ]
  },
  {
   "cell_type": "code",
   "execution_count": 5,
   "metadata": {
    "ExecuteTime": {
     "end_time": "2018-03-09T13:20:35.485596Z",
     "start_time": "2018-03-09T13:20:28.475099Z"
    }
   },
   "outputs": [],
   "source": [
    "# Start and end date in datetime format\n",
    "rng = pd.to_datetime(['1973-01-01', '2015-12-31', '2017-12-31'])\n",
    "dft = pdr([i[0] for i in s], 'fred', rng[0], rng[1])\n",
    "dft.columns = [i[1] for i in s]  # Rename to match with BLS"
   ]
  },
  {
   "cell_type": "markdown",
   "metadata": {},
   "source": [
    "#### Request Jobs Report data from BLS API - run at 8:31"
   ]
  },
  {
   "cell_type": "code",
   "execution_count": null,
   "metadata": {
    "collapsed": true
   },
   "outputs": [],
   "source": [
    "# Request all of the series in s\n",
    "p = requests.post(f'{url}{key}', data=json.dumps(param), headers=headers).json()\n",
    "print(f\"Status: {p['status']}\") # Print request status\n",
    "p = p['Results']['series']  # Keep data portion of post results\n",
    "\n",
    "# Use first series to get the datetime values\n",
    "idx = pd.to_datetime([f\"{i['period']} {i['year']}\" for i in p[0]['data']])\n",
    "print(f'Latest: {idx[0]:%B %Y}') # Print latest value"
   ]
  },
  {
   "cell_type": "markdown",
   "metadata": {},
   "source": [
    "#### Clean up and make calculations for series of interest"
   ]
  },
  {
   "cell_type": "code",
   "execution_count": null,
   "metadata": {
    "collapsed": true
   },
   "outputs": [],
   "source": [
    "# Build empty dataframe df from the API results, p\n",
    "df = pd.DataFrame()\n",
    "for s in p: df[s['seriesID']] = pd.Series(index = idx, \n",
    "    data = [i['value'] for i in s['data']], dtype='float').iloc[::-1]\n",
    "df = dft.append(df) # Merge previous data with new BLS data\n",
    "\n",
    "# Calculate indicators of interest (pr, gr3, agr defined above)\n",
    "df['ptec'] = pr(df['LNS12032197'] / df['LNS12035019']) #PT economic\n",
    "df['ptnec'] = pr(df['LNS12032200'] / df['LNS12035019']) #PT non-econ\n",
    "df['payroll'] = df['CES0000000001'].diff() # Payroll growth\n",
    "df['ahe'] = gr3(df['CES0500000008'])     # AHE 3m/3m annualized\n",
    "df['ahe2'] = agr(df['CES0500000008'])    # AHE 12m pct change\n",
    "df['cpi'] = agr(pdr('CPIAUCSL', 'fred', rng[0], rng[2]))  # CPI"
   ]
  },
  {
   "cell_type": "markdown",
   "metadata": {},
   "source": [
    "#### Chart data and annotation text"
   ]
  },
  {
   "cell_type": "code",
   "execution_count": null,
   "metadata": {
    "collapsed": true
   },
   "outputs": [],
   "source": []
  },
  {
   "cell_type": "code",
   "execution_count": 7,
   "metadata": {
    "ExecuteTime": {
     "end_time": "2018-03-09T13:21:06.294261Z",
     "start_time": "2018-03-09T13:21:06.259739Z"
    }
   },
   "outputs": [
    {
     "data": {
      "text/html": [
       "<div>\n",
       "<style scoped>\n",
       "    .dataframe tbody tr th:only-of-type {\n",
       "        vertical-align: middle;\n",
       "    }\n",
       "\n",
       "    .dataframe tbody tr th {\n",
       "        vertical-align: top;\n",
       "    }\n",
       "\n",
       "    .dataframe thead th {\n",
       "        text-align: right;\n",
       "    }\n",
       "</style>\n",
       "<table border=\"1\" class=\"dataframe\">\n",
       "  <thead>\n",
       "    <tr style=\"text-align: right;\">\n",
       "      <th></th>\n",
       "      <th>CES0000000001</th>\n",
       "      <th>LNS14000000</th>\n",
       "      <th>LNS13327709</th>\n",
       "      <th>LNS12300060</th>\n",
       "      <th>CES0500000008</th>\n",
       "      <th>LNS12032197</th>\n",
       "      <th>LNS12032200</th>\n",
       "      <th>LNS12035019</th>\n",
       "      <th>LNS13025703</th>\n",
       "    </tr>\n",
       "    <tr>\n",
       "      <th>DATE</th>\n",
       "      <th></th>\n",
       "      <th></th>\n",
       "      <th></th>\n",
       "      <th></th>\n",
       "      <th></th>\n",
       "      <th></th>\n",
       "      <th></th>\n",
       "      <th></th>\n",
       "      <th></th>\n",
       "    </tr>\n",
       "  </thead>\n",
       "  <tbody>\n",
       "    <tr>\n",
       "      <th>1973-01-01</th>\n",
       "      <td>75621</td>\n",
       "      <td>4.9</td>\n",
       "      <td>NaN</td>\n",
       "      <td>69.7</td>\n",
       "      <td>4.03</td>\n",
       "      <td>2043</td>\n",
       "      <td>9701</td>\n",
       "      <td>79705</td>\n",
       "      <td>9.5</td>\n",
       "    </tr>\n",
       "    <tr>\n",
       "      <th>1973-02-01</th>\n",
       "      <td>76017</td>\n",
       "      <td>5.0</td>\n",
       "      <td>NaN</td>\n",
       "      <td>70.1</td>\n",
       "      <td>4.04</td>\n",
       "      <td>2182</td>\n",
       "      <td>10202</td>\n",
       "      <td>80497</td>\n",
       "      <td>8.4</td>\n",
       "    </tr>\n",
       "    <tr>\n",
       "      <th>1973-03-01</th>\n",
       "      <td>76285</td>\n",
       "      <td>4.9</td>\n",
       "      <td>NaN</td>\n",
       "      <td>70.2</td>\n",
       "      <td>4.06</td>\n",
       "      <td>2172</td>\n",
       "      <td>10303</td>\n",
       "      <td>80983</td>\n",
       "      <td>8.9</td>\n",
       "    </tr>\n",
       "    <tr>\n",
       "      <th>1973-04-01</th>\n",
       "      <td>76455</td>\n",
       "      <td>5.0</td>\n",
       "      <td>NaN</td>\n",
       "      <td>70.3</td>\n",
       "      <td>4.08</td>\n",
       "      <td>2150</td>\n",
       "      <td>10462</td>\n",
       "      <td>81152</td>\n",
       "      <td>7.5</td>\n",
       "    </tr>\n",
       "    <tr>\n",
       "      <th>1973-05-01</th>\n",
       "      <td>76646</td>\n",
       "      <td>4.9</td>\n",
       "      <td>NaN</td>\n",
       "      <td>70.4</td>\n",
       "      <td>4.10</td>\n",
       "      <td>2216</td>\n",
       "      <td>10412</td>\n",
       "      <td>81272</td>\n",
       "      <td>8.0</td>\n",
       "    </tr>\n",
       "    <tr>\n",
       "      <th>1973-06-01</th>\n",
       "      <td>76887</td>\n",
       "      <td>4.9</td>\n",
       "      <td>NaN</td>\n",
       "      <td>70.5</td>\n",
       "      <td>4.12</td>\n",
       "      <td>2543</td>\n",
       "      <td>10094</td>\n",
       "      <td>81676</td>\n",
       "      <td>7.5</td>\n",
       "    </tr>\n",
       "    <tr>\n",
       "      <th>1973-07-01</th>\n",
       "      <td>76911</td>\n",
       "      <td>4.8</td>\n",
       "      <td>NaN</td>\n",
       "      <td>70.7</td>\n",
       "      <td>4.15</td>\n",
       "      <td>2490</td>\n",
       "      <td>9915</td>\n",
       "      <td>81759</td>\n",
       "      <td>6.5</td>\n",
       "    </tr>\n",
       "    <tr>\n",
       "      <th>1973-08-01</th>\n",
       "      <td>77166</td>\n",
       "      <td>4.8</td>\n",
       "      <td>NaN</td>\n",
       "      <td>70.5</td>\n",
       "      <td>4.16</td>\n",
       "      <td>2444</td>\n",
       "      <td>10287</td>\n",
       "      <td>81779</td>\n",
       "      <td>7.7</td>\n",
       "    </tr>\n",
       "    <tr>\n",
       "      <th>1973-09-01</th>\n",
       "      <td>77276</td>\n",
       "      <td>4.8</td>\n",
       "      <td>NaN</td>\n",
       "      <td>70.7</td>\n",
       "      <td>4.19</td>\n",
       "      <td>2424</td>\n",
       "      <td>10620</td>\n",
       "      <td>82146</td>\n",
       "      <td>6.8</td>\n",
       "    </tr>\n",
       "    <tr>\n",
       "      <th>1973-10-01</th>\n",
       "      <td>77606</td>\n",
       "      <td>4.6</td>\n",
       "      <td>NaN</td>\n",
       "      <td>70.9</td>\n",
       "      <td>4.21</td>\n",
       "      <td>2424</td>\n",
       "      <td>10738</td>\n",
       "      <td>82563</td>\n",
       "      <td>8.0</td>\n",
       "    </tr>\n",
       "    <tr>\n",
       "      <th>1973-11-01</th>\n",
       "      <td>77912</td>\n",
       "      <td>4.8</td>\n",
       "      <td>NaN</td>\n",
       "      <td>71.0</td>\n",
       "      <td>4.23</td>\n",
       "      <td>2437</td>\n",
       "      <td>10695</td>\n",
       "      <td>82727</td>\n",
       "      <td>8.0</td>\n",
       "    </tr>\n",
       "    <tr>\n",
       "      <th>1973-12-01</th>\n",
       "      <td>78035</td>\n",
       "      <td>4.9</td>\n",
       "      <td>NaN</td>\n",
       "      <td>70.9</td>\n",
       "      <td>4.25</td>\n",
       "      <td>2571</td>\n",
       "      <td>10836</td>\n",
       "      <td>82743</td>\n",
       "      <td>7.4</td>\n",
       "    </tr>\n",
       "    <tr>\n",
       "      <th>1974-01-01</th>\n",
       "      <td>78104</td>\n",
       "      <td>5.1</td>\n",
       "      <td>NaN</td>\n",
       "      <td>71.1</td>\n",
       "      <td>4.26</td>\n",
       "      <td>2525</td>\n",
       "      <td>10559</td>\n",
       "      <td>82799</td>\n",
       "      <td>7.2</td>\n",
       "    </tr>\n",
       "    <tr>\n",
       "      <th>1974-02-01</th>\n",
       "      <td>78254</td>\n",
       "      <td>5.2</td>\n",
       "      <td>NaN</td>\n",
       "      <td>71.0</td>\n",
       "      <td>4.29</td>\n",
       "      <td>2673</td>\n",
       "      <td>10623</td>\n",
       "      <td>82930</td>\n",
       "      <td>7.1</td>\n",
       "    </tr>\n",
       "    <tr>\n",
       "      <th>1974-03-01</th>\n",
       "      <td>78296</td>\n",
       "      <td>5.1</td>\n",
       "      <td>NaN</td>\n",
       "      <td>70.9</td>\n",
       "      <td>4.31</td>\n",
       "      <td>2472</td>\n",
       "      <td>10678</td>\n",
       "      <td>83093</td>\n",
       "      <td>7.1</td>\n",
       "    </tr>\n",
       "    <tr>\n",
       "      <th>1974-04-01</th>\n",
       "      <td>78382</td>\n",
       "      <td>5.1</td>\n",
       "      <td>NaN</td>\n",
       "      <td>70.7</td>\n",
       "      <td>4.34</td>\n",
       "      <td>2377</td>\n",
       "      <td>10112</td>\n",
       "      <td>83087</td>\n",
       "      <td>7.6</td>\n",
       "    </tr>\n",
       "    <tr>\n",
       "      <th>1974-05-01</th>\n",
       "      <td>78547</td>\n",
       "      <td>5.1</td>\n",
       "      <td>NaN</td>\n",
       "      <td>71.0</td>\n",
       "      <td>4.39</td>\n",
       "      <td>2667</td>\n",
       "      <td>10613</td>\n",
       "      <td>83362</td>\n",
       "      <td>7.5</td>\n",
       "    </tr>\n",
       "    <tr>\n",
       "      <th>1974-06-01</th>\n",
       "      <td>78602</td>\n",
       "      <td>5.4</td>\n",
       "      <td>NaN</td>\n",
       "      <td>71.0</td>\n",
       "      <td>4.43</td>\n",
       "      <td>2577</td>\n",
       "      <td>10697</td>\n",
       "      <td>83555</td>\n",
       "      <td>7.4</td>\n",
       "    </tr>\n",
       "    <tr>\n",
       "      <th>1974-07-01</th>\n",
       "      <td>78635</td>\n",
       "      <td>5.5</td>\n",
       "      <td>NaN</td>\n",
       "      <td>71.2</td>\n",
       "      <td>4.45</td>\n",
       "      <td>2610</td>\n",
       "      <td>10840</td>\n",
       "      <td>83713</td>\n",
       "      <td>7.7</td>\n",
       "    </tr>\n",
       "    <tr>\n",
       "      <th>1974-08-01</th>\n",
       "      <td>78619</td>\n",
       "      <td>5.5</td>\n",
       "      <td>NaN</td>\n",
       "      <td>71.0</td>\n",
       "      <td>4.49</td>\n",
       "      <td>2745</td>\n",
       "      <td>10605</td>\n",
       "      <td>83608</td>\n",
       "      <td>7.7</td>\n",
       "    </tr>\n",
       "    <tr>\n",
       "      <th>1974-09-01</th>\n",
       "      <td>78611</td>\n",
       "      <td>5.9</td>\n",
       "      <td>NaN</td>\n",
       "      <td>70.8</td>\n",
       "      <td>4.53</td>\n",
       "      <td>2917</td>\n",
       "      <td>10510</td>\n",
       "      <td>83591</td>\n",
       "      <td>7.2</td>\n",
       "    </tr>\n",
       "    <tr>\n",
       "      <th>1974-10-01</th>\n",
       "      <td>78629</td>\n",
       "      <td>6.0</td>\n",
       "      <td>NaN</td>\n",
       "      <td>70.7</td>\n",
       "      <td>4.56</td>\n",
       "      <td>2975</td>\n",
       "      <td>10575</td>\n",
       "      <td>83564</td>\n",
       "      <td>7.2</td>\n",
       "    </tr>\n",
       "    <tr>\n",
       "      <th>1974-11-01</th>\n",
       "      <td>78261</td>\n",
       "      <td>6.6</td>\n",
       "      <td>NaN</td>\n",
       "      <td>70.4</td>\n",
       "      <td>4.57</td>\n",
       "      <td>3229</td>\n",
       "      <td>10615</td>\n",
       "      <td>83221</td>\n",
       "      <td>7.1</td>\n",
       "    </tr>\n",
       "    <tr>\n",
       "      <th>1974-12-01</th>\n",
       "      <td>77657</td>\n",
       "      <td>7.2</td>\n",
       "      <td>NaN</td>\n",
       "      <td>70.0</td>\n",
       "      <td>4.61</td>\n",
       "      <td>3347</td>\n",
       "      <td>10586</td>\n",
       "      <td>82783</td>\n",
       "      <td>8.1</td>\n",
       "    </tr>\n",
       "    <tr>\n",
       "      <th>1975-01-01</th>\n",
       "      <td>77297</td>\n",
       "      <td>8.1</td>\n",
       "      <td>NaN</td>\n",
       "      <td>69.4</td>\n",
       "      <td>4.61</td>\n",
       "      <td>3716</td>\n",
       "      <td>10637</td>\n",
       "      <td>82226</td>\n",
       "      <td>8.3</td>\n",
       "    </tr>\n",
       "    <tr>\n",
       "      <th>1975-02-01</th>\n",
       "      <td>76919</td>\n",
       "      <td>8.1</td>\n",
       "      <td>NaN</td>\n",
       "      <td>69.1</td>\n",
       "      <td>4.63</td>\n",
       "      <td>3655</td>\n",
       "      <td>10512</td>\n",
       "      <td>81895</td>\n",
       "      <td>9.7</td>\n",
       "    </tr>\n",
       "    <tr>\n",
       "      <th>1975-03-01</th>\n",
       "      <td>76649</td>\n",
       "      <td>8.6</td>\n",
       "      <td>NaN</td>\n",
       "      <td>69.0</td>\n",
       "      <td>4.66</td>\n",
       "      <td>3789</td>\n",
       "      <td>10543</td>\n",
       "      <td>81829</td>\n",
       "      <td>9.7</td>\n",
       "    </tr>\n",
       "    <tr>\n",
       "      <th>1975-04-01</th>\n",
       "      <td>76461</td>\n",
       "      <td>8.8</td>\n",
       "      <td>NaN</td>\n",
       "      <td>69.0</td>\n",
       "      <td>4.66</td>\n",
       "      <td>3827</td>\n",
       "      <td>10749</td>\n",
       "      <td>81874</td>\n",
       "      <td>11.9</td>\n",
       "    </tr>\n",
       "    <tr>\n",
       "      <th>1975-05-01</th>\n",
       "      <td>76623</td>\n",
       "      <td>9.0</td>\n",
       "      <td>NaN</td>\n",
       "      <td>68.9</td>\n",
       "      <td>4.68</td>\n",
       "      <td>3714</td>\n",
       "      <td>10500</td>\n",
       "      <td>81891</td>\n",
       "      <td>13.0</td>\n",
       "    </tr>\n",
       "    <tr>\n",
       "      <th>1975-06-01</th>\n",
       "      <td>76520</td>\n",
       "      <td>8.8</td>\n",
       "      <td>NaN</td>\n",
       "      <td>69.1</td>\n",
       "      <td>4.72</td>\n",
       "      <td>3514</td>\n",
       "      <td>11062</td>\n",
       "      <td>81987</td>\n",
       "      <td>15.8</td>\n",
       "    </tr>\n",
       "    <tr>\n",
       "      <th>...</th>\n",
       "      <td>...</td>\n",
       "      <td>...</td>\n",
       "      <td>...</td>\n",
       "      <td>...</td>\n",
       "      <td>...</td>\n",
       "      <td>...</td>\n",
       "      <td>...</td>\n",
       "      <td>...</td>\n",
       "      <td>...</td>\n",
       "    </tr>\n",
       "    <tr>\n",
       "      <th>2013-07-01</th>\n",
       "      <td>136391</td>\n",
       "      <td>7.3</td>\n",
       "      <td>13.8</td>\n",
       "      <td>76.0</td>\n",
       "      <td>20.15</td>\n",
       "      <td>7961</td>\n",
       "      <td>18730</td>\n",
       "      <td>142079</td>\n",
       "      <td>37.6</td>\n",
       "    </tr>\n",
       "    <tr>\n",
       "      <th>2013-08-01</th>\n",
       "      <td>136651</td>\n",
       "      <td>7.2</td>\n",
       "      <td>13.6</td>\n",
       "      <td>76.0</td>\n",
       "      <td>20.18</td>\n",
       "      <td>7677</td>\n",
       "      <td>19180</td>\n",
       "      <td>142154</td>\n",
       "      <td>38.6</td>\n",
       "    </tr>\n",
       "    <tr>\n",
       "      <th>2013-09-01</th>\n",
       "      <td>136852</td>\n",
       "      <td>7.2</td>\n",
       "      <td>13.5</td>\n",
       "      <td>76.0</td>\n",
       "      <td>20.21</td>\n",
       "      <td>7656</td>\n",
       "      <td>18680</td>\n",
       "      <td>142304</td>\n",
       "      <td>36.8</td>\n",
       "    </tr>\n",
       "    <tr>\n",
       "      <th>2013-10-01</th>\n",
       "      <td>137062</td>\n",
       "      <td>7.2</td>\n",
       "      <td>13.6</td>\n",
       "      <td>75.6</td>\n",
       "      <td>20.26</td>\n",
       "      <td>7844</td>\n",
       "      <td>18390</td>\n",
       "      <td>141411</td>\n",
       "      <td>35.9</td>\n",
       "    </tr>\n",
       "    <tr>\n",
       "      <th>2013-11-01</th>\n",
       "      <td>137283</td>\n",
       "      <td>6.9</td>\n",
       "      <td>13.1</td>\n",
       "      <td>76.1</td>\n",
       "      <td>20.31</td>\n",
       "      <td>7627</td>\n",
       "      <td>18484</td>\n",
       "      <td>142463</td>\n",
       "      <td>37.7</td>\n",
       "    </tr>\n",
       "    <tr>\n",
       "      <th>2013-12-01</th>\n",
       "      <td>137376</td>\n",
       "      <td>6.7</td>\n",
       "      <td>13.1</td>\n",
       "      <td>76.1</td>\n",
       "      <td>20.34</td>\n",
       "      <td>7711</td>\n",
       "      <td>18461</td>\n",
       "      <td>142561</td>\n",
       "      <td>37.1</td>\n",
       "    </tr>\n",
       "    <tr>\n",
       "      <th>2014-01-01</th>\n",
       "      <td>137550</td>\n",
       "      <td>6.6</td>\n",
       "      <td>12.7</td>\n",
       "      <td>76.4</td>\n",
       "      <td>20.39</td>\n",
       "      <td>7186</td>\n",
       "      <td>18836</td>\n",
       "      <td>142833</td>\n",
       "      <td>35.2</td>\n",
       "    </tr>\n",
       "    <tr>\n",
       "      <th>2014-02-01</th>\n",
       "      <td>137732</td>\n",
       "      <td>6.7</td>\n",
       "      <td>12.7</td>\n",
       "      <td>76.4</td>\n",
       "      <td>20.50</td>\n",
       "      <td>7189</td>\n",
       "      <td>18674</td>\n",
       "      <td>143027</td>\n",
       "      <td>36.4</td>\n",
       "    </tr>\n",
       "    <tr>\n",
       "      <th>2014-03-01</th>\n",
       "      <td>137993</td>\n",
       "      <td>6.7</td>\n",
       "      <td>12.7</td>\n",
       "      <td>76.6</td>\n",
       "      <td>20.48</td>\n",
       "      <td>7358</td>\n",
       "      <td>19050</td>\n",
       "      <td>143408</td>\n",
       "      <td>35.5</td>\n",
       "    </tr>\n",
       "    <tr>\n",
       "      <th>2014-04-01</th>\n",
       "      <td>138304</td>\n",
       "      <td>6.3</td>\n",
       "      <td>12.3</td>\n",
       "      <td>76.5</td>\n",
       "      <td>20.52</td>\n",
       "      <td>7387</td>\n",
       "      <td>18535</td>\n",
       "      <td>143518</td>\n",
       "      <td>35.4</td>\n",
       "    </tr>\n",
       "    <tr>\n",
       "      <th>2014-05-01</th>\n",
       "      <td>138556</td>\n",
       "      <td>6.3</td>\n",
       "      <td>12.1</td>\n",
       "      <td>76.4</td>\n",
       "      <td>20.55</td>\n",
       "      <td>7187</td>\n",
       "      <td>18855</td>\n",
       "      <td>143797</td>\n",
       "      <td>34.5</td>\n",
       "    </tr>\n",
       "    <tr>\n",
       "      <th>2014-06-01</th>\n",
       "      <td>138862</td>\n",
       "      <td>6.1</td>\n",
       "      <td>12.0</td>\n",
       "      <td>76.9</td>\n",
       "      <td>20.58</td>\n",
       "      <td>7324</td>\n",
       "      <td>19507</td>\n",
       "      <td>144090</td>\n",
       "      <td>32.9</td>\n",
       "    </tr>\n",
       "    <tr>\n",
       "      <th>2014-07-01</th>\n",
       "      <td>139058</td>\n",
       "      <td>6.2</td>\n",
       "      <td>12.1</td>\n",
       "      <td>76.7</td>\n",
       "      <td>20.62</td>\n",
       "      <td>7288</td>\n",
       "      <td>19363</td>\n",
       "      <td>144192</td>\n",
       "      <td>32.7</td>\n",
       "    </tr>\n",
       "    <tr>\n",
       "      <th>2014-08-01</th>\n",
       "      <td>139284</td>\n",
       "      <td>6.2</td>\n",
       "      <td>11.9</td>\n",
       "      <td>76.8</td>\n",
       "      <td>20.67</td>\n",
       "      <td>7093</td>\n",
       "      <td>19385</td>\n",
       "      <td>144296</td>\n",
       "      <td>31.3</td>\n",
       "    </tr>\n",
       "    <tr>\n",
       "      <th>2014-09-01</th>\n",
       "      <td>139568</td>\n",
       "      <td>5.9</td>\n",
       "      <td>11.7</td>\n",
       "      <td>76.8</td>\n",
       "      <td>20.68</td>\n",
       "      <td>6894</td>\n",
       "      <td>19266</td>\n",
       "      <td>144495</td>\n",
       "      <td>31.8</td>\n",
       "    </tr>\n",
       "    <tr>\n",
       "      <th>2014-10-01</th>\n",
       "      <td>139823</td>\n",
       "      <td>5.7</td>\n",
       "      <td>11.5</td>\n",
       "      <td>76.9</td>\n",
       "      <td>20.71</td>\n",
       "      <td>6925</td>\n",
       "      <td>19440</td>\n",
       "      <td>144979</td>\n",
       "      <td>32.0</td>\n",
       "    </tr>\n",
       "    <tr>\n",
       "      <th>2014-11-01</th>\n",
       "      <td>140130</td>\n",
       "      <td>5.8</td>\n",
       "      <td>11.4</td>\n",
       "      <td>76.9</td>\n",
       "      <td>20.77</td>\n",
       "      <td>6766</td>\n",
       "      <td>19594</td>\n",
       "      <td>145097</td>\n",
       "      <td>31.1</td>\n",
       "    </tr>\n",
       "    <tr>\n",
       "      <th>2014-12-01</th>\n",
       "      <td>140381</td>\n",
       "      <td>5.6</td>\n",
       "      <td>11.2</td>\n",
       "      <td>77.1</td>\n",
       "      <td>20.73</td>\n",
       "      <td>6717</td>\n",
       "      <td>19352</td>\n",
       "      <td>145216</td>\n",
       "      <td>32.0</td>\n",
       "    </tr>\n",
       "    <tr>\n",
       "      <th>2015-01-01</th>\n",
       "      <td>140592</td>\n",
       "      <td>5.7</td>\n",
       "      <td>11.3</td>\n",
       "      <td>77.1</td>\n",
       "      <td>20.81</td>\n",
       "      <td>6716</td>\n",
       "      <td>19411</td>\n",
       "      <td>145575</td>\n",
       "      <td>31.0</td>\n",
       "    </tr>\n",
       "    <tr>\n",
       "      <th>2015-02-01</th>\n",
       "      <td>140859</td>\n",
       "      <td>5.5</td>\n",
       "      <td>11.0</td>\n",
       "      <td>77.2</td>\n",
       "      <td>20.84</td>\n",
       "      <td>6607</td>\n",
       "      <td>19407</td>\n",
       "      <td>145654</td>\n",
       "      <td>30.7</td>\n",
       "    </tr>\n",
       "    <tr>\n",
       "      <th>2015-03-01</th>\n",
       "      <td>140937</td>\n",
       "      <td>5.5</td>\n",
       "      <td>10.9</td>\n",
       "      <td>77.2</td>\n",
       "      <td>20.88</td>\n",
       "      <td>6580</td>\n",
       "      <td>19435</td>\n",
       "      <td>145500</td>\n",
       "      <td>29.7</td>\n",
       "    </tr>\n",
       "    <tr>\n",
       "      <th>2015-04-01</th>\n",
       "      <td>141219</td>\n",
       "      <td>5.4</td>\n",
       "      <td>10.9</td>\n",
       "      <td>77.2</td>\n",
       "      <td>20.92</td>\n",
       "      <td>6540</td>\n",
       "      <td>19724</td>\n",
       "      <td>146090</td>\n",
       "      <td>29.2</td>\n",
       "    </tr>\n",
       "    <tr>\n",
       "      <th>2015-05-01</th>\n",
       "      <td>141545</td>\n",
       "      <td>5.5</td>\n",
       "      <td>10.8</td>\n",
       "      <td>77.2</td>\n",
       "      <td>20.99</td>\n",
       "      <td>6524</td>\n",
       "      <td>19544</td>\n",
       "      <td>146457</td>\n",
       "      <td>28.7</td>\n",
       "    </tr>\n",
       "    <tr>\n",
       "      <th>2015-06-01</th>\n",
       "      <td>141736</td>\n",
       "      <td>5.3</td>\n",
       "      <td>10.4</td>\n",
       "      <td>77.4</td>\n",
       "      <td>21.01</td>\n",
       "      <td>6258</td>\n",
       "      <td>20215</td>\n",
       "      <td>146272</td>\n",
       "      <td>26.2</td>\n",
       "    </tr>\n",
       "    <tr>\n",
       "      <th>2015-07-01</th>\n",
       "      <td>141992</td>\n",
       "      <td>5.2</td>\n",
       "      <td>10.3</td>\n",
       "      <td>77.1</td>\n",
       "      <td>21.03</td>\n",
       "      <td>6126</td>\n",
       "      <td>19425</td>\n",
       "      <td>146371</td>\n",
       "      <td>26.2</td>\n",
       "    </tr>\n",
       "    <tr>\n",
       "      <th>2015-08-01</th>\n",
       "      <td>142156</td>\n",
       "      <td>5.1</td>\n",
       "      <td>10.2</td>\n",
       "      <td>77.2</td>\n",
       "      <td>21.10</td>\n",
       "      <td>6301</td>\n",
       "      <td>19495</td>\n",
       "      <td>146832</td>\n",
       "      <td>27.8</td>\n",
       "    </tr>\n",
       "    <tr>\n",
       "      <th>2015-09-01</th>\n",
       "      <td>142244</td>\n",
       "      <td>5.0</td>\n",
       "      <td>10.0</td>\n",
       "      <td>77.2</td>\n",
       "      <td>21.10</td>\n",
       "      <td>5932</td>\n",
       "      <td>19699</td>\n",
       "      <td>146559</td>\n",
       "      <td>26.6</td>\n",
       "    </tr>\n",
       "    <tr>\n",
       "      <th>2015-10-01</th>\n",
       "      <td>142595</td>\n",
       "      <td>5.0</td>\n",
       "      <td>9.8</td>\n",
       "      <td>77.2</td>\n",
       "      <td>21.20</td>\n",
       "      <td>5747</td>\n",
       "      <td>19862</td>\n",
       "      <td>146827</td>\n",
       "      <td>26.9</td>\n",
       "    </tr>\n",
       "    <tr>\n",
       "      <th>2015-11-01</th>\n",
       "      <td>142859</td>\n",
       "      <td>5.0</td>\n",
       "      <td>9.9</td>\n",
       "      <td>77.4</td>\n",
       "      <td>21.21</td>\n",
       "      <td>6048</td>\n",
       "      <td>19726</td>\n",
       "      <td>147174</td>\n",
       "      <td>25.9</td>\n",
       "    </tr>\n",
       "    <tr>\n",
       "      <th>2015-12-01</th>\n",
       "      <td>143093</td>\n",
       "      <td>5.0</td>\n",
       "      <td>9.9</td>\n",
       "      <td>77.4</td>\n",
       "      <td>21.25</td>\n",
       "      <td>5901</td>\n",
       "      <td>19880</td>\n",
       "      <td>147676</td>\n",
       "      <td>26.8</td>\n",
       "    </tr>\n",
       "  </tbody>\n",
       "</table>\n",
       "<p>516 rows × 9 columns</p>\n",
       "</div>"
      ],
      "text/plain": [
       "            CES0000000001  LNS14000000  LNS13327709  LNS12300060  \\\n",
       "DATE                                                               \n",
       "1973-01-01          75621          4.9          NaN         69.7   \n",
       "1973-02-01          76017          5.0          NaN         70.1   \n",
       "1973-03-01          76285          4.9          NaN         70.2   \n",
       "1973-04-01          76455          5.0          NaN         70.3   \n",
       "1973-05-01          76646          4.9          NaN         70.4   \n",
       "1973-06-01          76887          4.9          NaN         70.5   \n",
       "1973-07-01          76911          4.8          NaN         70.7   \n",
       "1973-08-01          77166          4.8          NaN         70.5   \n",
       "1973-09-01          77276          4.8          NaN         70.7   \n",
       "1973-10-01          77606          4.6          NaN         70.9   \n",
       "1973-11-01          77912          4.8          NaN         71.0   \n",
       "1973-12-01          78035          4.9          NaN         70.9   \n",
       "1974-01-01          78104          5.1          NaN         71.1   \n",
       "1974-02-01          78254          5.2          NaN         71.0   \n",
       "1974-03-01          78296          5.1          NaN         70.9   \n",
       "1974-04-01          78382          5.1          NaN         70.7   \n",
       "1974-05-01          78547          5.1          NaN         71.0   \n",
       "1974-06-01          78602          5.4          NaN         71.0   \n",
       "1974-07-01          78635          5.5          NaN         71.2   \n",
       "1974-08-01          78619          5.5          NaN         71.0   \n",
       "1974-09-01          78611          5.9          NaN         70.8   \n",
       "1974-10-01          78629          6.0          NaN         70.7   \n",
       "1974-11-01          78261          6.6          NaN         70.4   \n",
       "1974-12-01          77657          7.2          NaN         70.0   \n",
       "1975-01-01          77297          8.1          NaN         69.4   \n",
       "1975-02-01          76919          8.1          NaN         69.1   \n",
       "1975-03-01          76649          8.6          NaN         69.0   \n",
       "1975-04-01          76461          8.8          NaN         69.0   \n",
       "1975-05-01          76623          9.0          NaN         68.9   \n",
       "1975-06-01          76520          8.8          NaN         69.1   \n",
       "...                   ...          ...          ...          ...   \n",
       "2013-07-01         136391          7.3         13.8         76.0   \n",
       "2013-08-01         136651          7.2         13.6         76.0   \n",
       "2013-09-01         136852          7.2         13.5         76.0   \n",
       "2013-10-01         137062          7.2         13.6         75.6   \n",
       "2013-11-01         137283          6.9         13.1         76.1   \n",
       "2013-12-01         137376          6.7         13.1         76.1   \n",
       "2014-01-01         137550          6.6         12.7         76.4   \n",
       "2014-02-01         137732          6.7         12.7         76.4   \n",
       "2014-03-01         137993          6.7         12.7         76.6   \n",
       "2014-04-01         138304          6.3         12.3         76.5   \n",
       "2014-05-01         138556          6.3         12.1         76.4   \n",
       "2014-06-01         138862          6.1         12.0         76.9   \n",
       "2014-07-01         139058          6.2         12.1         76.7   \n",
       "2014-08-01         139284          6.2         11.9         76.8   \n",
       "2014-09-01         139568          5.9         11.7         76.8   \n",
       "2014-10-01         139823          5.7         11.5         76.9   \n",
       "2014-11-01         140130          5.8         11.4         76.9   \n",
       "2014-12-01         140381          5.6         11.2         77.1   \n",
       "2015-01-01         140592          5.7         11.3         77.1   \n",
       "2015-02-01         140859          5.5         11.0         77.2   \n",
       "2015-03-01         140937          5.5         10.9         77.2   \n",
       "2015-04-01         141219          5.4         10.9         77.2   \n",
       "2015-05-01         141545          5.5         10.8         77.2   \n",
       "2015-06-01         141736          5.3         10.4         77.4   \n",
       "2015-07-01         141992          5.2         10.3         77.1   \n",
       "2015-08-01         142156          5.1         10.2         77.2   \n",
       "2015-09-01         142244          5.0         10.0         77.2   \n",
       "2015-10-01         142595          5.0          9.8         77.2   \n",
       "2015-11-01         142859          5.0          9.9         77.4   \n",
       "2015-12-01         143093          5.0          9.9         77.4   \n",
       "\n",
       "            CES0500000008  LNS12032197  LNS12032200  LNS12035019  LNS13025703  \n",
       "DATE                                                                           \n",
       "1973-01-01           4.03         2043         9701        79705          9.5  \n",
       "1973-02-01           4.04         2182        10202        80497          8.4  \n",
       "1973-03-01           4.06         2172        10303        80983          8.9  \n",
       "1973-04-01           4.08         2150        10462        81152          7.5  \n",
       "1973-05-01           4.10         2216        10412        81272          8.0  \n",
       "1973-06-01           4.12         2543        10094        81676          7.5  \n",
       "1973-07-01           4.15         2490         9915        81759          6.5  \n",
       "1973-08-01           4.16         2444        10287        81779          7.7  \n",
       "1973-09-01           4.19         2424        10620        82146          6.8  \n",
       "1973-10-01           4.21         2424        10738        82563          8.0  \n",
       "1973-11-01           4.23         2437        10695        82727          8.0  \n",
       "1973-12-01           4.25         2571        10836        82743          7.4  \n",
       "1974-01-01           4.26         2525        10559        82799          7.2  \n",
       "1974-02-01           4.29         2673        10623        82930          7.1  \n",
       "1974-03-01           4.31         2472        10678        83093          7.1  \n",
       "1974-04-01           4.34         2377        10112        83087          7.6  \n",
       "1974-05-01           4.39         2667        10613        83362          7.5  \n",
       "1974-06-01           4.43         2577        10697        83555          7.4  \n",
       "1974-07-01           4.45         2610        10840        83713          7.7  \n",
       "1974-08-01           4.49         2745        10605        83608          7.7  \n",
       "1974-09-01           4.53         2917        10510        83591          7.2  \n",
       "1974-10-01           4.56         2975        10575        83564          7.2  \n",
       "1974-11-01           4.57         3229        10615        83221          7.1  \n",
       "1974-12-01           4.61         3347        10586        82783          8.1  \n",
       "1975-01-01           4.61         3716        10637        82226          8.3  \n",
       "1975-02-01           4.63         3655        10512        81895          9.7  \n",
       "1975-03-01           4.66         3789        10543        81829          9.7  \n",
       "1975-04-01           4.66         3827        10749        81874         11.9  \n",
       "1975-05-01           4.68         3714        10500        81891         13.0  \n",
       "1975-06-01           4.72         3514        11062        81987         15.8  \n",
       "...                   ...          ...          ...          ...          ...  \n",
       "2013-07-01          20.15         7961        18730       142079         37.6  \n",
       "2013-08-01          20.18         7677        19180       142154         38.6  \n",
       "2013-09-01          20.21         7656        18680       142304         36.8  \n",
       "2013-10-01          20.26         7844        18390       141411         35.9  \n",
       "2013-11-01          20.31         7627        18484       142463         37.7  \n",
       "2013-12-01          20.34         7711        18461       142561         37.1  \n",
       "2014-01-01          20.39         7186        18836       142833         35.2  \n",
       "2014-02-01          20.50         7189        18674       143027         36.4  \n",
       "2014-03-01          20.48         7358        19050       143408         35.5  \n",
       "2014-04-01          20.52         7387        18535       143518         35.4  \n",
       "2014-05-01          20.55         7187        18855       143797         34.5  \n",
       "2014-06-01          20.58         7324        19507       144090         32.9  \n",
       "2014-07-01          20.62         7288        19363       144192         32.7  \n",
       "2014-08-01          20.67         7093        19385       144296         31.3  \n",
       "2014-09-01          20.68         6894        19266       144495         31.8  \n",
       "2014-10-01          20.71         6925        19440       144979         32.0  \n",
       "2014-11-01          20.77         6766        19594       145097         31.1  \n",
       "2014-12-01          20.73         6717        19352       145216         32.0  \n",
       "2015-01-01          20.81         6716        19411       145575         31.0  \n",
       "2015-02-01          20.84         6607        19407       145654         30.7  \n",
       "2015-03-01          20.88         6580        19435       145500         29.7  \n",
       "2015-04-01          20.92         6540        19724       146090         29.2  \n",
       "2015-05-01          20.99         6524        19544       146457         28.7  \n",
       "2015-06-01          21.01         6258        20215       146272         26.2  \n",
       "2015-07-01          21.03         6126        19425       146371         26.2  \n",
       "2015-08-01          21.10         6301        19495       146832         27.8  \n",
       "2015-09-01          21.10         5932        19699       146559         26.6  \n",
       "2015-10-01          21.20         5747        19862       146827         26.9  \n",
       "2015-11-01          21.21         6048        19726       147174         25.9  \n",
       "2015-12-01          21.25         5901        19880       147676         26.8  \n",
       "\n",
       "[516 rows x 9 columns]"
      ]
     },
     "execution_count": 7,
     "metadata": {},
     "output_type": "execute_result"
    }
   ],
   "source": [
    "dft"
   ]
  },
  {
   "cell_type": "code",
   "execution_count": null,
   "metadata": {
    "collapsed": true
   },
   "outputs": [],
   "source": []
  },
  {
   "cell_type": "code",
   "execution_count": null,
   "metadata": {
    "collapsed": true
   },
   "outputs": [],
   "source": []
  },
  {
   "cell_type": "markdown",
   "metadata": {},
   "source": [
    "#### Use BLS text files to look up series IDs"
   ]
  },
  {
   "cell_type": "code",
   "execution_count": null,
   "metadata": {
    "collapsed": true
   },
   "outputs": [],
   "source": [
    "ln_series = 'https://download.bls.gov/pub/time.series/ln/ln.series'\n",
    "ln = pd.read_table(ln_series, sep=r'\\s*\\t', engine='python')"
   ]
  },
  {
   "cell_type": "code",
   "execution_count": 21,
   "metadata": {},
   "outputs": [
    {
     "data": {
      "text/html": [
       "<div>\n",
       "<style scoped>\n",
       "    .dataframe tbody tr th:only-of-type {\n",
       "        vertical-align: middle;\n",
       "    }\n",
       "\n",
       "    .dataframe tbody tr th {\n",
       "        vertical-align: top;\n",
       "    }\n",
       "\n",
       "    .dataframe thead th {\n",
       "        text-align: right;\n",
       "    }\n",
       "</style>\n",
       "<table border=\"1\" class=\"dataframe\">\n",
       "  <thead>\n",
       "    <tr style=\"text-align: right;\">\n",
       "      <th></th>\n",
       "      <th>series_id</th>\n",
       "      <th>series_title</th>\n",
       "    </tr>\n",
       "  </thead>\n",
       "  <tbody>\n",
       "    <tr>\n",
       "      <th>915</th>\n",
       "      <td>LNS14000006</td>\n",
       "      <td>(Seas) Unemployment Rate - Black or African Am...</td>\n",
       "    </tr>\n",
       "    <tr>\n",
       "      <th>917</th>\n",
       "      <td>LNS14000007</td>\n",
       "      <td>(Seas) Unemployment Rate - Black or African Am...</td>\n",
       "    </tr>\n",
       "    <tr>\n",
       "      <th>919</th>\n",
       "      <td>LNS14000008</td>\n",
       "      <td>(Seas) Unemployment Rate - Black or African Am...</td>\n",
       "    </tr>\n",
       "    <tr>\n",
       "      <th>935</th>\n",
       "      <td>LNS14000018</td>\n",
       "      <td>(Seas) Unemployment Rate - 16-19 yrs., Black o...</td>\n",
       "    </tr>\n",
       "    <tr>\n",
       "      <th>937</th>\n",
       "      <td>LNS14000019</td>\n",
       "      <td>(Seas) Unemployment Rate - 16-19 yrs., Black o...</td>\n",
       "    </tr>\n",
       "    <tr>\n",
       "      <th>939</th>\n",
       "      <td>LNS14000020</td>\n",
       "      <td>(Seas) Unemployment Rate - 16-19 yrs., Black o...</td>\n",
       "    </tr>\n",
       "    <tr>\n",
       "      <th>959</th>\n",
       "      <td>LNS14000030</td>\n",
       "      <td>(Seas) Unemployment Rate - 20 yrs. &amp; over, Bla...</td>\n",
       "    </tr>\n",
       "    <tr>\n",
       "      <th>961</th>\n",
       "      <td>LNS14000031</td>\n",
       "      <td>(Seas) Unemployment Rate - 20 yrs. &amp; over, Bla...</td>\n",
       "    </tr>\n",
       "    <tr>\n",
       "      <th>963</th>\n",
       "      <td>LNS14000032</td>\n",
       "      <td>(Seas) Unemployment Rate - 20 yrs. &amp; over, Bla...</td>\n",
       "    </tr>\n",
       "  </tbody>\n",
       "</table>\n",
       "</div>"
      ],
      "text/plain": [
       "       series_id                                       series_title\n",
       "915  LNS14000006  (Seas) Unemployment Rate - Black or African Am...\n",
       "917  LNS14000007  (Seas) Unemployment Rate - Black or African Am...\n",
       "919  LNS14000008  (Seas) Unemployment Rate - Black or African Am...\n",
       "935  LNS14000018  (Seas) Unemployment Rate - 16-19 yrs., Black o...\n",
       "937  LNS14000019  (Seas) Unemployment Rate - 16-19 yrs., Black o...\n",
       "939  LNS14000020  (Seas) Unemployment Rate - 16-19 yrs., Black o...\n",
       "959  LNS14000030  (Seas) Unemployment Rate - 20 yrs. & over, Bla...\n",
       "961  LNS14000031  (Seas) Unemployment Rate - 20 yrs. & over, Bla...\n",
       "963  LNS14000032  (Seas) Unemployment Rate - 20 yrs. & over, Bla..."
      ]
     },
     "execution_count": 21,
     "metadata": {},
     "output_type": "execute_result"
    }
   ],
   "source": [
    "ln[(ln['series_title'].str.contains('Unemployment Rate')) & \n",
    "   (ln['series_title'].str.contains('Black')) & \n",
    "   (ln['periodicity_code'] == 'M') & \n",
    "   (ln['seasonal'] == 'S')][['series_id', 'series_title']]"
   ]
  },
  {
   "cell_type": "code",
   "execution_count": null,
   "metadata": {
    "collapsed": true
   },
   "outputs": [],
   "source": []
  },
  {
   "cell_type": "code",
   "execution_count": null,
   "metadata": {
    "collapsed": true
   },
   "outputs": [],
   "source": []
  },
  {
   "cell_type": "code",
   "execution_count": null,
   "metadata": {
    "collapsed": true
   },
   "outputs": [],
   "source": []
  },
  {
   "cell_type": "code",
   "execution_count": null,
   "metadata": {
    "collapsed": true
   },
   "outputs": [],
   "source": []
  },
  {
   "cell_type": "code",
   "execution_count": null,
   "metadata": {
    "collapsed": true
   },
   "outputs": [],
   "source": []
  },
  {
   "cell_type": "code",
   "execution_count": null,
   "metadata": {
    "collapsed": true
   },
   "outputs": [],
   "source": []
  },
  {
   "cell_type": "code",
   "execution_count": 15,
   "metadata": {
    "collapsed": true
   },
   "outputs": [],
   "source": [
    "ln_series = 'https://download.bls.gov/pub/time.series/ln/ln.series'\n",
    "ln = pd.read_table(ln_series, sep=r'\\s*\\t', engine='python')"
   ]
  },
  {
   "cell_type": "code",
   "execution_count": null,
   "metadata": {
    "collapsed": true
   },
   "outputs": [],
   "source": [
    "ce['series_id'].str"
   ]
  },
  {
   "cell_type": "code",
   "execution_count": 9,
   "metadata": {
    "collapsed": true
   },
   "outputs": [],
   "source": [
    "ce_series = 'https://download.bls.gov/pub/time.series/ce/ce.series'\n",
    "ln_series = 'https://download.bls.gov/pub/time.series/ln/ln.series'"
   ]
  },
  {
   "cell_type": "code",
   "execution_count": null,
   "metadata": {
    "collapsed": true
   },
   "outputs": [],
   "source": [
    "s[0][1]"
   ]
  },
  {
   "cell_type": "code",
   "execution_count": null,
   "metadata": {
    "collapsed": true
   },
   "outputs": [],
   "source": [
    "d = {}\n",
    "for i in ['ln', 'ce']:\n",
    "    url = f'https://download.bls.gov/pub/time.series/{i}/{i}.series'\n",
    "    t = pd.read_table(url, sep=r'\\s*\\t', engine='python')\n",
    "    t = t[t['series_id'].isin([i[1] for i in s])].set_index('series_id')['series_title']\n",
    "    for k, v in t.items(): d[k] = v"
   ]
  },
  {
   "cell_type": "code",
   "execution_count": null,
   "metadata": {
    "collapsed": true
   },
   "outputs": [],
   "source": [
    "t[t['series_id'].isin([i[1] for i in s])].set_index('series_id')['series_title']"
   ]
  },
  {
   "cell_type": "code",
   "execution_count": null,
   "metadata": {
    "collapsed": true
   },
   "outputs": [],
   "source": [
    "    \n",
    "ce_series = 'https://download.bls.gov/pub/time.series/ce/ce.series'\n",
    "ln_series = 'https://download.bls.gov/pub/time.series/ln/ln.series'\n",
    "ce = pd.read_table(ce_series, sep=r'\\s*\\t', engine='python')[['series_id', 'series_title']]\n",
    "ln = pd.read_table(ln_series, sep=r'\\s*\\t', engine='python')[['series_id', 'series_title']]\n",
    "\n",
    "ce[ce['series_id'].isin([i[1] for i in s])].append(ln[ln['series_id'].isin([i[1] for i in s])])"
   ]
  },
  {
   "cell_type": "code",
   "execution_count": null,
   "metadata": {
    "collapsed": true
   },
   "outputs": [],
   "source": [
    "ce['series_id'][0]"
   ]
  },
  {
   "cell_type": "code",
   "execution_count": null,
   "metadata": {
    "collapsed": true
   },
   "outputs": [],
   "source": [
    "ce[ce['series_id'].isin([i[1] for i in s])].append(ln[ln['series_id'].isin([i[1] for i in s])])"
   ]
  },
  {
   "cell_type": "code",
   "execution_count": null,
   "metadata": {
    "collapsed": true
   },
   "outputs": [],
   "source": [
    "ce['series_id'][0]"
   ]
  },
  {
   "cell_type": "code",
   "execution_count": null,
   "metadata": {
    "collapsed": true
   },
   "outputs": [],
   "source": [
    "ce.iloc[0]['series_title']"
   ]
  },
  {
   "cell_type": "code",
   "execution_count": null,
   "metadata": {
    "collapsed": true
   },
   "outputs": [],
   "source": [
    "ce"
   ]
  },
  {
   "cell_type": "code",
   "execution_count": null,
   "metadata": {
    "collapsed": true
   },
   "outputs": [],
   "source": []
  },
  {
   "cell_type": "code",
   "execution_count": null,
   "metadata": {
    "collapsed": true
   },
   "outputs": [],
   "source": [
    "df['ahe'] = df['CES0500000008'].rolling(3).sum().pct_change(3)\n",
    "df['ahe'] = ((((df['ahe']+1)**4)-1)*100).round(1) # annualize"
   ]
  },
  {
   "cell_type": "code",
   "execution_count": null,
   "metadata": {
    "collapsed": true
   },
   "outputs": [],
   "source": [
    "(((df['CES0500000008'].rolling(3).sum().pct_change(3)+1)**4)-1)*100 "
   ]
  },
  {
   "cell_type": "code",
   "execution_count": null,
   "metadata": {
    "collapsed": true
   },
   "outputs": [],
   "source": [
    "df['ahe3'] = agr(df['CES0500000008'])\n",
    "df['ahe2'] = (df['CES0500000008'].pct_change(12) * 100).round(1)\n",
    "\n",
    "df[['ahe2', 'ahe3']].tail()"
   ]
  },
  {
   "cell_type": "code",
   "execution_count": null,
   "metadata": {
    "collapsed": true
   },
   "outputs": [],
   "source": []
  },
  {
   "cell_type": "code",
   "execution_count": null,
   "metadata": {
    "collapsed": true
   },
   "outputs": [],
   "source": [
    "d"
   ]
  },
  {
   "cell_type": "code",
   "execution_count": null,
   "metadata": {
    "collapsed": true
   },
   "outputs": [],
   "source": [
    "cpi.columns = ['cpi']"
   ]
  },
  {
   "cell_type": "code",
   "execution_count": null,
   "metadata": {
    "collapsed": true
   },
   "outputs": [],
   "source": [
    "cpi"
   ]
  },
  {
   "cell_type": "code",
   "execution_count": null,
   "metadata": {
    "collapsed": true
   },
   "outputs": [],
   "source": []
  },
  {
   "cell_type": "code",
   "execution_count": null,
   "metadata": {
    "collapsed": true
   },
   "outputs": [],
   "source": []
  },
  {
   "cell_type": "code",
   "execution_count": null,
   "metadata": {
    "collapsed": true
   },
   "outputs": [],
   "source": []
  },
  {
   "cell_type": "code",
   "execution_count": null,
   "metadata": {
    "collapsed": true
   },
   "outputs": [],
   "source": []
  },
  {
   "cell_type": "code",
   "execution_count": null,
   "metadata": {
    "collapsed": true
   },
   "outputs": [],
   "source": []
  },
  {
   "cell_type": "code",
   "execution_count": null,
   "metadata": {
    "collapsed": true
   },
   "outputs": [],
   "source": []
  },
  {
   "cell_type": "code",
   "execution_count": null,
   "metadata": {
    "collapsed": true
   },
   "outputs": [],
   "source": []
  },
  {
   "cell_type": "code",
   "execution_count": null,
   "metadata": {
    "collapsed": true
   },
   "outputs": [],
   "source": [
    "cpi = pdr(['CPIAUCSL'], 'fred', rng[0], pd.to_datetime('2017-12-31'))"
   ]
  },
  {
   "cell_type": "code",
   "execution_count": null,
   "metadata": {
    "collapsed": true
   },
   "outputs": [],
   "source": [
    "cpi"
   ]
  },
  {
   "cell_type": "code",
   "execution_count": null,
   "metadata": {
    "collapsed": true
   },
   "outputs": [],
   "source": [
    "df = df.join(cpi.pct_change(12) * 100)"
   ]
  },
  {
   "cell_type": "code",
   "execution_count": null,
   "metadata": {
    "collapsed": true
   },
   "outputs": [],
   "source": [
    "df['ahe2'] = df['CES0500000008'].pct_change(12) * 100"
   ]
  },
  {
   "cell_type": "code",
   "execution_count": null,
   "metadata": {
    "collapsed": true
   },
   "outputs": [],
   "source": []
  },
  {
   "cell_type": "code",
   "execution_count": null,
   "metadata": {
    "collapsed": true
   },
   "outputs": [],
   "source": [
    "%matplotlib inline\n",
    "df.loc['1995-01-01':,['LNS14000000', 'LNS13327709']].plot()"
   ]
  },
  {
   "cell_type": "code",
   "execution_count": null,
   "metadata": {
    "collapsed": true
   },
   "outputs": [],
   "source": [
    "df.loc['1995-01-01':,'LNS12300060'].plot()"
   ]
  },
  {
   "cell_type": "code",
   "execution_count": null,
   "metadata": {
    "collapsed": true
   },
   "outputs": [],
   "source": [
    "df.loc['1995-01-01':,['ahe2', 'ahe', 'CWSR0000SA0']].plot()"
   ]
  },
  {
   "cell_type": "code",
   "execution_count": null,
   "metadata": {
    "collapsed": true
   },
   "outputs": [],
   "source": [
    "df.loc['1994-01-01':,['ptnec', 'ptec']].rolling(12).mean().plot()"
   ]
  },
  {
   "cell_type": "code",
   "execution_count": null,
   "metadata": {
    "collapsed": true
   },
   "outputs": [],
   "source": [
    "df.loc['1995-01-01':,'payroll'].plot()"
   ]
  },
  {
   "cell_type": "code",
   "execution_count": null,
   "metadata": {
    "collapsed": true
   },
   "outputs": [],
   "source": []
  },
  {
   "cell_type": "code",
   "execution_count": null,
   "metadata": {
    "collapsed": true
   },
   "outputs": [],
   "source": []
  },
  {
   "cell_type": "code",
   "execution_count": null,
   "metadata": {
    "collapsed": true
   },
   "outputs": [],
   "source": []
  },
  {
   "cell_type": "code",
   "execution_count": null,
   "metadata": {
    "collapsed": true
   },
   "outputs": [],
   "source": []
  },
  {
   "cell_type": "code",
   "execution_count": null,
   "metadata": {
    "collapsed": true
   },
   "outputs": [],
   "source": [
    "df = df_prev.append(df)"
   ]
  },
  {
   "cell_type": "code",
   "execution_count": null,
   "metadata": {
    "collapsed": true
   },
   "outputs": [],
   "source": [
    "(df['CES0500000003'].rolling(3).mean().pct_change(3)\n",
    "             .add(1).pow(4).subtract(1).multiply(100).round(1))"
   ]
  },
  {
   "cell_type": "code",
   "execution_count": null,
   "metadata": {
    "collapsed": true
   },
   "outputs": [],
   "source": [
    "df_prev.columns = [s_id for name, s_id in s]"
   ]
  },
  {
   "cell_type": "code",
   "execution_count": null,
   "metadata": {
    "collapsed": true
   },
   "outputs": [],
   "source": [
    "df_prev"
   ]
  },
  {
   "cell_type": "code",
   "execution_count": null,
   "metadata": {
    "collapsed": true
   },
   "outputs": [],
   "source": []
  },
  {
   "cell_type": "code",
   "execution_count": null,
   "metadata": {
    "collapsed": true
   },
   "outputs": [],
   "source": []
  },
  {
   "cell_type": "code",
   "execution_count": null,
   "metadata": {
    "collapsed": true
   },
   "outputs": [],
   "source": []
  },
  {
   "cell_type": "code",
   "execution_count": null,
   "metadata": {
    "collapsed": true
   },
   "outputs": [],
   "source": [
    "df"
   ]
  },
  {
   "cell_type": "code",
   "execution_count": null,
   "metadata": {
    "collapsed": true
   },
   "outputs": [],
   "source": []
  },
  {
   "cell_type": "code",
   "execution_count": null,
   "metadata": {
    "collapsed": true
   },
   "outputs": [],
   "source": []
  },
  {
   "cell_type": "code",
   "execution_count": null,
   "metadata": {
    "collapsed": true
   },
   "outputs": [],
   "source": [
    "pd.to_datetime(['1973-01-01', '2015-12-31'])[0]"
   ]
  },
  {
   "cell_type": "code",
   "execution_count": null,
   "metadata": {
    "collapsed": true
   },
   "outputs": [],
   "source": []
  },
  {
   "cell_type": "code",
   "execution_count": null,
   "metadata": {
    "collapsed": true
   },
   "outputs": [],
   "source": []
  },
  {
   "cell_type": "code",
   "execution_count": null,
   "metadata": {
    "collapsed": true
   },
   "outputs": [],
   "source": []
  },
  {
   "cell_type": "code",
   "execution_count": null,
   "metadata": {
    "collapsed": true
   },
   "outputs": [],
   "source": []
  },
  {
   "cell_type": "code",
   "execution_count": null,
   "metadata": {
    "collapsed": true
   },
   "outputs": [],
   "source": []
  },
  {
   "cell_type": "markdown",
   "metadata": {},
   "source": [
    "### Turn json data into a pandas dataframe"
   ]
  },
  {
   "cell_type": "code",
   "execution_count": null,
   "metadata": {
    "collapsed": true
   },
   "outputs": [],
   "source": [
    "# Build dataframe df from the API results, p\n",
    "df = pd.DataFrame() # Empty dataframe to fill with values\n",
    "for s in p: df[s['seriesID']] = pd.Series(index = idx, \n",
    "        data = [i['value'] for i in s['data']]\n",
    "        ).astype(float).iloc[::-1]"
   ]
  },
  {
   "cell_type": "markdown",
   "metadata": {},
   "source": [
    "### Calculate series for graphs"
   ]
  },
  {
   "cell_type": "code",
   "execution_count": null,
   "metadata": {
    "collapsed": true
   },
   "outputs": [],
   "source": []
  },
  {
   "cell_type": "code",
   "execution_count": null,
   "metadata": {
    "collapsed": true
   },
   "outputs": [],
   "source": [
    "print(f\"Latest: {idx[0]:%B %Y}\") "
   ]
  },
  {
   "cell_type": "code",
   "execution_count": null,
   "metadata": {
    "collapsed": true
   },
   "outputs": [],
   "source": []
  },
  {
   "cell_type": "code",
   "execution_count": null,
   "metadata": {
    "collapsed": true
   },
   "outputs": [],
   "source": []
  },
  {
   "cell_type": "code",
   "execution_count": null,
   "metadata": {
    "collapsed": true
   },
   "outputs": [],
   "source": []
  },
  {
   "cell_type": "code",
   "execution_count": null,
   "metadata": {
    "collapsed": true
   },
   "outputs": [],
   "source": []
  },
  {
   "cell_type": "code",
   "execution_count": null,
   "metadata": {
    "collapsed": true
   },
   "outputs": [],
   "source": [
    "today = datetime.datetime.now()\n",
    "print(f'Cell run: {today:%b %d, %Y}')"
   ]
  },
  {
   "cell_type": "code",
   "execution_count": null,
   "metadata": {
    "collapsed": true
   },
   "outputs": [],
   "source": [
    "['{} {}'.format(i['period'], i['year']) for i in r]"
   ]
  },
  {
   "cell_type": "code",
   "execution_count": null,
   "metadata": {
    "collapsed": true
   },
   "outputs": [],
   "source": [
    "idx = pd.to_datetime([f\"{i['period']} {i['year']}\" for i in p[0]['data']])"
   ]
  },
  {
   "cell_type": "code",
   "execution_count": null,
   "metadata": {
    "collapsed": true
   },
   "outputs": [],
   "source": [
    "dd = {}\n",
    "for x, y in s:\n",
    "    if \n",
    "    dd[x]\n",
    "    data = {param['seriesid'][0]: [float(i['value']) for i in r]}"
   ]
  },
  {
   "cell_type": "code",
   "execution_count": null,
   "metadata": {
    "collapsed": true
   },
   "outputs": [],
   "source": [
    "# Empty dictionary to fill with values\n",
    "dd = {}\n",
    "\n",
    "# Build a pandas series from the API results, p\n",
    "for s in p:\n",
    "    dd[s['seriesID']] = pd.Series(index = idx, \n",
    "        data = [i['value'] for i in s['data']]\n",
    "        ).astype(float).iloc[::-1]\n",
    "\n",
    "# Combine series into one pandas dataframe\n",
    "df = pd.DataFrame(dd)"
   ]
  },
  {
   "cell_type": "code",
   "execution_count": null,
   "metadata": {
    "collapsed": true
   },
   "outputs": [],
   "source": [
    "p"
   ]
  },
  {
   "cell_type": "code",
   "execution_count": null,
   "metadata": {
    "collapsed": true
   },
   "outputs": [],
   "source": []
  },
  {
   "cell_type": "code",
   "execution_count": null,
   "metadata": {
    "collapsed": true
   },
   "outputs": [],
   "source": [
    "# List comprehensions - clean json data and covert the \n",
    "# date, value, and footnote into pandas dataframe columns\n",
    "dates = ['{} {}'.format(i['period'], i['year']) for i in r]\n",
    "index = pd.to_datetime(dates)\n",
    "data = {param['seriesid'][0]: [float(i['value']) for i in r]}\n",
    "# .iloc[::-1] reverses the sorting/order of the dataframe\n",
    "df = pd.DataFrame(index=index, data=data).iloc[::-1]"
   ]
  },
  {
   "cell_type": "code",
   "execution_count": null,
   "metadata": {
    "collapsed": true
   },
   "outputs": [],
   "source": []
  },
  {
   "cell_type": "code",
   "execution_count": null,
   "metadata": {
    "collapsed": true
   },
   "outputs": [],
   "source": []
  },
  {
   "cell_type": "code",
   "execution_count": null,
   "metadata": {
    "collapsed": true
   },
   "outputs": [],
   "source": []
  },
  {
   "cell_type": "code",
   "execution_count": null,
   "metadata": {
    "collapsed": true
   },
   "outputs": [],
   "source": []
  }
 ],
 "metadata": {
  "kernelspec": {
   "display_name": "Python 3",
   "language": "python",
   "name": "python3"
  },
  "language_info": {
   "codemirror_mode": {
    "name": "ipython",
    "version": 3
   },
   "file_extension": ".py",
   "mimetype": "text/x-python",
   "name": "python",
   "nbconvert_exporter": "python",
   "pygments_lexer": "ipython3",
   "version": "3.6.6"
  }
 },
 "nbformat": 4,
 "nbformat_minor": 2
}
