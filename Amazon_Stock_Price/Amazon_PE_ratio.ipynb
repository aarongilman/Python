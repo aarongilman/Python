{
 "cells": [
  {
   "cell_type": "markdown",
   "metadata": {},
   "source": [
    "## Obtaining financial data for Amazon\n",
    "\n",
    "TO DO:\n",
    "\n",
    "~~1. Restore the list of indicators and the query to select EPS~~\n",
    "2. Find underlying EPS figures -- earnings after dividends and number of shares outstanding.\n",
    "3. Look at current trends around PE\n",
    "4. If PE hits 20, how much will earnings be?\n",
    "5. Possible to find the current short interest?\n"
   ]
  },
  {
   "cell_type": "code",
   "execution_count": 2,
   "metadata": {
    "collapsed": true
   },
   "outputs": [],
   "source": [
    "import requests\n",
    "import config\n",
    "import pandas as pd\n",
    "from StringIO import StringIO"
   ]
  },
  {
   "cell_type": "markdown",
   "metadata": {},
   "source": [
    "#### Company list"
   ]
  },
  {
   "cell_type": "code",
   "execution_count": 2,
   "metadata": {
    "collapsed": true
   },
   "outputs": [],
   "source": [
    "base = 'https://api.usfundamentals.com/v1/'\n",
    "param = 'companies/xbrl?&format=json&token={}'.format(config.us_fun_key)"
   ]
  },
  {
   "cell_type": "code",
   "execution_count": 3,
   "metadata": {
    "collapsed": true
   },
   "outputs": [],
   "source": [
    "r = requests.get('{}{}'.format(base, param)).json()"
   ]
  },
  {
   "cell_type": "code",
   "execution_count": 4,
   "metadata": {
    "collapsed": true
   },
   "outputs": [],
   "source": [
    "companies = pd.DataFrame(r).set_index('name_latest')['company_id'].to_dict()"
   ]
  },
  {
   "cell_type": "markdown",
   "metadata": {},
   "source": [
    "### Earnings per share"
   ]
  },
  {
   "cell_type": "code",
   "execution_count": 5,
   "metadata": {
    "collapsed": true
   },
   "outputs": [],
   "source": [
    "base = 'https://api.usfundamentals.com/v1/indicators/xbrl?'\n",
    "param = 'companies=1018724&frequency=q&token={}'.format(config.us_fun_key)\n",
    "#ind = 'indicators=EarningsPerShareDiluted&'\n",
    "#param = '{}companies=1018724&frequency=q&token={}'.format(ind, config.us_fun_key)"
   ]
  },
  {
   "cell_type": "code",
   "execution_count": 6,
   "metadata": {
    "collapsed": true
   },
   "outputs": [],
   "source": [
    "r = requests.get('{}{}'.format(base, param))"
   ]
  },
  {
   "cell_type": "markdown",
   "metadata": {},
   "source": [
    "#### List of Amazon Indicators"
   ]
  },
  {
   "cell_type": "code",
   "execution_count": 7,
   "metadata": {},
   "outputs": [],
   "source": [
    "indicators = pd.read_csv(StringIO(r.text))['indicator_id'].unique()\n",
    "#indicators"
   ]
  },
  {
   "cell_type": "code",
   "execution_count": 8,
   "metadata": {
    "collapsed": true
   },
   "outputs": [],
   "source": [
    "inds = ['EarningsPerShareDiluted', 'WeightedAverageNumberOfDilutedSharesOutstanding', 'NetIncomeLoss']"
   ]
  },
  {
   "cell_type": "code",
   "execution_count": 9,
   "metadata": {},
   "outputs": [],
   "source": [
    "df = pd.read_csv(StringIO(r.text)).query('indicator_id == @inds')\n",
    "df = df.set_index(['company_id', 'indicator_id']).T\n",
    "df['date'] = df.index.map(lambda x: pd.Period(x).end_time.date())\n",
    "df.columns = ['EPS', 'Profit', 'Shares', 'date']\n",
    "df = df.set_index('date')\n",
    "\n",
    "# Trailing 12 months EPS\n",
    "df['EPS_TTM'] = df['EPS'].rolling(4).sum()"
   ]
  },
  {
   "cell_type": "markdown",
   "metadata": {},
   "source": [
    "### Stock price history"
   ]
  },
  {
   "cell_type": "code",
   "execution_count": 10,
   "metadata": {
    "collapsed": true
   },
   "outputs": [],
   "source": [
    "base = 'https://www.quandl.com/api/v3/datatables/WIKI/PRICES.json?'\n",
    "param = 'ticker=AMZN&qopts.columns=date,close&api_key={}'.format(config.quandl_key)"
   ]
  },
  {
   "cell_type": "code",
   "execution_count": 11,
   "metadata": {
    "collapsed": true
   },
   "outputs": [],
   "source": [
    "r2 = requests.get('{}{}'.format(base, param)).json()"
   ]
  },
  {
   "cell_type": "code",
   "execution_count": 12,
   "metadata": {
    "collapsed": true
   },
   "outputs": [],
   "source": [
    "df2 = pd.DataFrame(r2['datatable']['data']).set_index(0)\n",
    "df2.columns = ['Price']\n",
    "\n",
    "# Fill in missing date values with last available price\n",
    "idx = pd.date_range(df2.index[0], df2.index[-1])\n",
    "df2.index = pd.DatetimeIndex(df2.index)\n",
    "df2 = df2.reindex(idx, fill_value=None).fillna(method='ffill')"
   ]
  },
  {
   "cell_type": "markdown",
   "metadata": {},
   "source": [
    "#### Merge price and fundamentals data"
   ]
  },
  {
   "cell_type": "code",
   "execution_count": 13,
   "metadata": {},
   "outputs": [],
   "source": [
    "df = df.merge(df2, left_index=True, right_index=True, how='left')\n",
    "df['PE_ratio'] = df['Price'] / df['EPS_TTM']"
   ]
  },
  {
   "cell_type": "code",
   "execution_count": 14,
   "metadata": {},
   "outputs": [],
   "source": [
    "df.to_csv('Amazon_Fundamentals.csv')"
   ]
  },
  {
   "cell_type": "code",
   "execution_count": 15,
   "metadata": {},
   "outputs": [
    {
     "data": {
      "text/html": [
       "<div>\n",
       "<table border=\"1\" class=\"dataframe\">\n",
       "  <thead>\n",
       "    <tr style=\"text-align: right;\">\n",
       "      <th></th>\n",
       "      <th>EPS</th>\n",
       "      <th>Profit</th>\n",
       "      <th>Shares</th>\n",
       "      <th>EPS_TTM</th>\n",
       "      <th>Price</th>\n",
       "      <th>PE_ratio</th>\n",
       "    </tr>\n",
       "    <tr>\n",
       "      <th>date</th>\n",
       "      <th></th>\n",
       "      <th></th>\n",
       "      <th></th>\n",
       "      <th></th>\n",
       "      <th></th>\n",
       "      <th></th>\n",
       "    </tr>\n",
       "  </thead>\n",
       "  <tbody>\n",
       "    <tr>\n",
       "      <th>2011-03-31</th>\n",
       "      <td>0.44</td>\n",
       "      <td>201000000.0</td>\n",
       "      <td>459000000.0</td>\n",
       "      <td>NaN</td>\n",
       "      <td>180.130</td>\n",
       "      <td>NaN</td>\n",
       "    </tr>\n",
       "    <tr>\n",
       "      <th>2011-06-30</th>\n",
       "      <td>0.41</td>\n",
       "      <td>191000000.0</td>\n",
       "      <td>460000000.0</td>\n",
       "      <td>NaN</td>\n",
       "      <td>204.490</td>\n",
       "      <td>NaN</td>\n",
       "    </tr>\n",
       "    <tr>\n",
       "      <th>2011-09-30</th>\n",
       "      <td>0.14</td>\n",
       "      <td>63000000.0</td>\n",
       "      <td>461000000.0</td>\n",
       "      <td>NaN</td>\n",
       "      <td>216.230</td>\n",
       "      <td>NaN</td>\n",
       "    </tr>\n",
       "    <tr>\n",
       "      <th>2011-12-31</th>\n",
       "      <td>0.38</td>\n",
       "      <td>176000000.0</td>\n",
       "      <td>-919000000.0</td>\n",
       "      <td>1.37</td>\n",
       "      <td>173.100</td>\n",
       "      <td>126.350365</td>\n",
       "    </tr>\n",
       "    <tr>\n",
       "      <th>2012-03-31</th>\n",
       "      <td>0.28</td>\n",
       "      <td>130000000.0</td>\n",
       "      <td>460000000.0</td>\n",
       "      <td>1.21</td>\n",
       "      <td>202.510</td>\n",
       "      <td>167.363636</td>\n",
       "    </tr>\n",
       "    <tr>\n",
       "      <th>2012-06-30</th>\n",
       "      <td>0.01</td>\n",
       "      <td>7000000.0</td>\n",
       "      <td>458000000.0</td>\n",
       "      <td>0.81</td>\n",
       "      <td>228.350</td>\n",
       "      <td>281.913580</td>\n",
       "    </tr>\n",
       "    <tr>\n",
       "      <th>2012-09-30</th>\n",
       "      <td>-0.60</td>\n",
       "      <td>-274000000.0</td>\n",
       "      <td>460000000.0</td>\n",
       "      <td>0.07</td>\n",
       "      <td>254.320</td>\n",
       "      <td>3633.142857</td>\n",
       "    </tr>\n",
       "    <tr>\n",
       "      <th>2012-12-31</th>\n",
       "      <td>0.22</td>\n",
       "      <td>98000000.0</td>\n",
       "      <td>-925000000.0</td>\n",
       "      <td>-0.09</td>\n",
       "      <td>250.870</td>\n",
       "      <td>-2787.444444</td>\n",
       "    </tr>\n",
       "    <tr>\n",
       "      <th>2013-03-31</th>\n",
       "      <td>0.18</td>\n",
       "      <td>82000000.0</td>\n",
       "      <td>463000000.0</td>\n",
       "      <td>-0.19</td>\n",
       "      <td>266.490</td>\n",
       "      <td>-1402.578947</td>\n",
       "    </tr>\n",
       "    <tr>\n",
       "      <th>2013-06-30</th>\n",
       "      <td>-0.02</td>\n",
       "      <td>-7000000.0</td>\n",
       "      <td>456000000.0</td>\n",
       "      <td>-0.22</td>\n",
       "      <td>277.690</td>\n",
       "      <td>-1262.227273</td>\n",
       "    </tr>\n",
       "    <tr>\n",
       "      <th>2013-09-30</th>\n",
       "      <td>-0.09</td>\n",
       "      <td>-41000000.0</td>\n",
       "      <td>457000000.0</td>\n",
       "      <td>0.29</td>\n",
       "      <td>312.640</td>\n",
       "      <td>1078.068966</td>\n",
       "    </tr>\n",
       "    <tr>\n",
       "      <th>2013-12-31</th>\n",
       "      <td>0.52</td>\n",
       "      <td>240000000.0</td>\n",
       "      <td>-911000000.0</td>\n",
       "      <td>0.59</td>\n",
       "      <td>398.790</td>\n",
       "      <td>675.915254</td>\n",
       "    </tr>\n",
       "    <tr>\n",
       "      <th>2014-03-31</th>\n",
       "      <td>0.23</td>\n",
       "      <td>108000000.0</td>\n",
       "      <td>468000000.0</td>\n",
       "      <td>0.64</td>\n",
       "      <td>336.365</td>\n",
       "      <td>525.570312</td>\n",
       "    </tr>\n",
       "    <tr>\n",
       "      <th>2014-06-30</th>\n",
       "      <td>-0.27</td>\n",
       "      <td>-126000000.0</td>\n",
       "      <td>461000000.0</td>\n",
       "      <td>0.39</td>\n",
       "      <td>324.780</td>\n",
       "      <td>832.769231</td>\n",
       "    </tr>\n",
       "    <tr>\n",
       "      <th>2014-09-30</th>\n",
       "      <td>-0.95</td>\n",
       "      <td>-437000000.0</td>\n",
       "      <td>463000000.0</td>\n",
       "      <td>-0.47</td>\n",
       "      <td>322.440</td>\n",
       "      <td>-686.042553</td>\n",
       "    </tr>\n",
       "    <tr>\n",
       "      <th>2014-12-31</th>\n",
       "      <td>0.47</td>\n",
       "      <td>214000000.0</td>\n",
       "      <td>-930000000.0</td>\n",
       "      <td>-0.52</td>\n",
       "      <td>310.350</td>\n",
       "      <td>-596.826923</td>\n",
       "    </tr>\n",
       "    <tr>\n",
       "      <th>2015-03-31</th>\n",
       "      <td>-0.12</td>\n",
       "      <td>-57000000.0</td>\n",
       "      <td>465000000.0</td>\n",
       "      <td>-0.87</td>\n",
       "      <td>372.100</td>\n",
       "      <td>-427.701149</td>\n",
       "    </tr>\n",
       "    <tr>\n",
       "      <th>2015-06-30</th>\n",
       "      <td>0.19</td>\n",
       "      <td>92000000.0</td>\n",
       "      <td>476000000.0</td>\n",
       "      <td>-0.41</td>\n",
       "      <td>434.090</td>\n",
       "      <td>-1058.756098</td>\n",
       "    </tr>\n",
       "    <tr>\n",
       "      <th>2015-09-30</th>\n",
       "      <td>0.17</td>\n",
       "      <td>79000000.0</td>\n",
       "      <td>478000000.0</td>\n",
       "      <td>0.71</td>\n",
       "      <td>511.670</td>\n",
       "      <td>720.661972</td>\n",
       "    </tr>\n",
       "    <tr>\n",
       "      <th>2015-12-31</th>\n",
       "      <td>1.01</td>\n",
       "      <td>482000000.0</td>\n",
       "      <td>-942000000.0</td>\n",
       "      <td>1.25</td>\n",
       "      <td>675.890</td>\n",
       "      <td>540.712000</td>\n",
       "    </tr>\n",
       "    <tr>\n",
       "      <th>2016-03-31</th>\n",
       "      <td>1.07</td>\n",
       "      <td>513000000.0</td>\n",
       "      <td>481000000.0</td>\n",
       "      <td>2.44</td>\n",
       "      <td>593.640</td>\n",
       "      <td>243.295082</td>\n",
       "    </tr>\n",
       "    <tr>\n",
       "      <th>2016-06-30</th>\n",
       "      <td>1.78</td>\n",
       "      <td>857000000.0</td>\n",
       "      <td>483000000.0</td>\n",
       "      <td>4.03</td>\n",
       "      <td>715.620</td>\n",
       "      <td>177.573201</td>\n",
       "    </tr>\n",
       "    <tr>\n",
       "      <th>2016-09-30</th>\n",
       "      <td>0.52</td>\n",
       "      <td>252000000.0</td>\n",
       "      <td>485000000.0</td>\n",
       "      <td>4.38</td>\n",
       "      <td>837.310</td>\n",
       "      <td>191.166667</td>\n",
       "    </tr>\n",
       "    <tr>\n",
       "      <th>2016-12-31</th>\n",
       "      <td>1.53</td>\n",
       "      <td>749000000.0</td>\n",
       "      <td>-965000000.0</td>\n",
       "      <td>4.90</td>\n",
       "      <td>749.870</td>\n",
       "      <td>153.034694</td>\n",
       "    </tr>\n",
       "    <tr>\n",
       "      <th>2017-03-31</th>\n",
       "      <td>1.48</td>\n",
       "      <td>724000000.0</td>\n",
       "      <td>490000000.0</td>\n",
       "      <td>5.31</td>\n",
       "      <td>886.540</td>\n",
       "      <td>166.956685</td>\n",
       "    </tr>\n",
       "  </tbody>\n",
       "</table>\n",
       "</div>"
      ],
      "text/plain": [
       "             EPS       Profit       Shares  EPS_TTM    Price     PE_ratio\n",
       "date                                                                     \n",
       "2011-03-31  0.44  201000000.0  459000000.0      NaN  180.130          NaN\n",
       "2011-06-30  0.41  191000000.0  460000000.0      NaN  204.490          NaN\n",
       "2011-09-30  0.14   63000000.0  461000000.0      NaN  216.230          NaN\n",
       "2011-12-31  0.38  176000000.0 -919000000.0     1.37  173.100   126.350365\n",
       "2012-03-31  0.28  130000000.0  460000000.0     1.21  202.510   167.363636\n",
       "2012-06-30  0.01    7000000.0  458000000.0     0.81  228.350   281.913580\n",
       "2012-09-30 -0.60 -274000000.0  460000000.0     0.07  254.320  3633.142857\n",
       "2012-12-31  0.22   98000000.0 -925000000.0    -0.09  250.870 -2787.444444\n",
       "2013-03-31  0.18   82000000.0  463000000.0    -0.19  266.490 -1402.578947\n",
       "2013-06-30 -0.02   -7000000.0  456000000.0    -0.22  277.690 -1262.227273\n",
       "2013-09-30 -0.09  -41000000.0  457000000.0     0.29  312.640  1078.068966\n",
       "2013-12-31  0.52  240000000.0 -911000000.0     0.59  398.790   675.915254\n",
       "2014-03-31  0.23  108000000.0  468000000.0     0.64  336.365   525.570312\n",
       "2014-06-30 -0.27 -126000000.0  461000000.0     0.39  324.780   832.769231\n",
       "2014-09-30 -0.95 -437000000.0  463000000.0    -0.47  322.440  -686.042553\n",
       "2014-12-31  0.47  214000000.0 -930000000.0    -0.52  310.350  -596.826923\n",
       "2015-03-31 -0.12  -57000000.0  465000000.0    -0.87  372.100  -427.701149\n",
       "2015-06-30  0.19   92000000.0  476000000.0    -0.41  434.090 -1058.756098\n",
       "2015-09-30  0.17   79000000.0  478000000.0     0.71  511.670   720.661972\n",
       "2015-12-31  1.01  482000000.0 -942000000.0     1.25  675.890   540.712000\n",
       "2016-03-31  1.07  513000000.0  481000000.0     2.44  593.640   243.295082\n",
       "2016-06-30  1.78  857000000.0  483000000.0     4.03  715.620   177.573201\n",
       "2016-09-30  0.52  252000000.0  485000000.0     4.38  837.310   191.166667\n",
       "2016-12-31  1.53  749000000.0 -965000000.0     4.90  749.870   153.034694\n",
       "2017-03-31  1.48  724000000.0  490000000.0     5.31  886.540   166.956685"
      ]
     },
     "execution_count": 15,
     "metadata": {},
     "output_type": "execute_result"
    }
   ],
   "source": [
    "df"
   ]
  },
  {
   "cell_type": "code",
   "execution_count": 9,
   "metadata": {
    "collapsed": true
   },
   "outputs": [],
   "source": [
    "import matplotlib\n",
    "import matplotlib.pyplot as plt"
   ]
  },
  {
   "cell_type": "code",
   "execution_count": 30,
   "metadata": {},
   "outputs": [],
   "source": [
    "df = pd.read_csv('Amazon_Fundamentals.csv')\n",
    "df['q'] = [pd.to_datetime(df['date'][x]).quarter for x, y in df.iterrows()]\n",
    "df['y'] = [pd.to_datetime(df['date'][x]).year for x, y in df.iterrows()]"
   ]
  },
  {
   "cell_type": "code",
   "execution_count": 34,
   "metadata": {},
   "outputs": [],
   "source": [
    "df['yq'] = ['{} Q{}'.format(df['y'][x], df['q'][x]) for x, y in df.iterrows()]"
   ]
  },
  {
   "cell_type": "code",
   "execution_count": 38,
   "metadata": {},
   "outputs": [],
   "source": [
    "df = df.set_index('yq')['Profit'].divide(1000000)"
   ]
  },
  {
   "cell_type": "code",
   "execution_count": 42,
   "metadata": {},
   "outputs": [
    {
     "data": {
      "image/png": "[encoded data removed]",
      "text/plain": [
       "<matplotlib.figure.Figure at 0xe4d5ba8>"
      ]
     },
     "metadata": {},
     "output_type": "display_data"
    }
   ],
   "source": [
    "%matplotlib inline\n",
    "matplotlib.rc('axes',edgecolor='white')\n",
    "plt.rc('axes', axisbelow=True)\n",
    "df.plot(figsize=(9, 5), kind='bar', title='Amazon net income, USD millions')\n",
    "plt.axhline(0, color='lightgray', lw=2)\n",
    "plt.xlabel('Source: U.S. Stocks Fundamentals')\n",
    "plt.tight_layout()\n",
    "plt.savefig('AMZN_NI.png')"
   ]
  }
 ],
 "metadata": {
  "kernelspec": {
   "display_name": "Python 3",
   "language": "python",
   "name": "python3"
  },
  "language_info": {
   "codemirror_mode": {
    "name": "ipython",
    "version": 3
   },
   "file_extension": ".py",
   "mimetype": "text/x-python",
   "name": "python",
   "nbconvert_exporter": "python",
   "pygments_lexer": "ipython3",
   "version": "3.6.6"
  }
 },
 "nbformat": 4,
 "nbformat_minor": 2
}
