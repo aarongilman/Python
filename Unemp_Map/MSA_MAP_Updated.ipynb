{
 "cells": [
  {
   "cell_type": "markdown",
   "metadata": {},
   "source": [
    "## U.S. Unemployment Rate Change by Metropolitan Statistical Area (MSA)\n",
    "\n",
    "Created by Brian Dew (brianwdew@gmail.com), February 6, 2017.\n",
    "\n",
    "The goal of this notebook is to create a U.S. map that shows how unemployment rates are changing in different local areas.\n",
    "\n",
    "See https://www.bls.gov/lau/ for advance release information.\n",
    "\n",
    "https://download.bls.gov/pub/time.series/la/la.areamaps (list of codes of all local areas)\n",
    "\n",
    "http://gis.stackexchange.com/questions/198530/plotting-us-cities-on-a-map-with-matplotlib-and-basemap\n",
    "\n",
    "http://stackoverflow.com/questions/39742305/how-to-use-basemap-python-to-plot-us-with-50-states\n",
    "\n",
    "This folder on GitHub (https://github.com/bdecon/Python/Unemp_Map) contains four files needed to make the code work:\n",
    "1. MSA.csv - contains the names, codes, and locations for metropolitan statistical areas\n",
    "2. st99_d00.dbf - one of the files used for drawing state shapes\n",
    "3. st99_d00.shp - main state shapefile\n",
    "4. st99_d00.shx - final file for drawing state shapes\n",
    "\n",
    "### Obtaining the city locations and their unemployment rate change values\n",
    "\n",
    "First, we load the pandas and matplotlib libraries that will allow us to work with data and map it. The second step is to load both the data that do not change (city names, codes, and locations) and the data that do change (BLS unemployment rate estimates). The third step is to combine the two datasets."
   ]
  },
  {
   "cell_type": "code",
   "execution_count": 1,
   "metadata": {
    "collapsed": true
   },
   "outputs": [],
   "source": [
    "# Import libraries and sign in to plotly\n",
    "import pandas as pd\n",
    "import config   # File that contains api key\n",
    "import plotly.plotly as py\n",
    "from plotly.graph_objs import *\n",
    "py.sign_in('bdew', config.plotly_key)"
   ]
  },
  {
   "cell_type": "code",
   "execution_count": 2,
   "metadata": {
    "collapsed": true
   },
   "outputs": [],
   "source": [
    "# MSA.csv contains city names, their BLS codes (Metropolitan \n",
    "# MTAs/NECTAs only), and their latitude and longitude\n",
    "MSA = pd.read_csv('MSA.csv')\n",
    "\n",
    "# BLS flat file contains the unemployment rate by month since 2015\n",
    "url = 'https://download.bls.gov/pub/time.series/la/la.data.0.CurrentU15-19'\n",
    "df = pd.read_table(url, sep='\\s+', na_values=['-'])"
   ]
  },
  {
   "cell_type": "code",
   "execution_count": 3,
   "metadata": {
    "collapsed": true
   },
   "outputs": [],
   "source": [
    "# Take only the unemployment data for MSAs and only monthly series \n",
    "df = df[df['series_id'].isin(MSA['fullcode']) & (df['period'] != 'M13')]\n",
    "df.loc[:,'date'] = pd.to_datetime([f'{i[1]}-{i[2][1:]}-01' for i in df.values])\n",
    "\n",
    "# Calculate the change over the same month, previous year\n",
    "df['value_ch'] = df['value'].diff(periods=12)\n",
    "df = df.groupby(['series_id']).tail(1)\n",
    "df.rename(columns={'series_id':'fullcode'}, inplace=True)\n",
    "\n",
    "# Take the date for use in chart title\n",
    "date = df['date'].iloc[0].strftime('%B %Y')\n",
    "\n",
    "# Combine the two datasets and show 2 rows to verify \n",
    "unemp_list = df.merge(MSA, on='fullcode')\n",
    "unemp_list = unemp_list.reindex(columns=[*unemp_list.columns.tolist(), 'color', 'size'])\n",
    "\n",
    "# Shorten MSA names for chart labels\n",
    "unemp_list.loc[:,'MSA'] = unemp_list['area_code'].str.replace(\n",
    "    'Metropolitan Statistical Area', 'MSA')"
   ]
  },
  {
   "cell_type": "code",
   "execution_count": 8,
   "metadata": {},
   "outputs": [],
   "source": [
    "# From the change in unemployment rate, mark increases red, decreases green,\n",
    "#   no change is gray. Circle size is absolute value of change times 10 plus 2. \n",
    "for i, r in unemp_list.iterrows():\n",
    "    if r['value_ch'] > 0:\n",
    "        values = ['#FF0000', abs(r[6])*10+2, f'▲{r[6]:0.1f}']\n",
    "        unemp_list.at[i, ['color', 'size']] = values[0:2]\n",
    "    if r['value_ch'] < 0:\n",
    "        values = ['#32CD32', abs(r[6])*10+2, f'▼{r[6]:0.1f}']\n",
    "        unemp_list.at[i, ['color', 'size']] = values[0:2]        \n",
    "    if r['value_ch'] == 0:        \n",
    "        values = ['#696969', 3, 'unchanged']\n",
    "        unemp_list.at[i, ['color', 'size']] = values[0:2]         \n",
    "    # Create a text column for plotly hover labels\n",
    "    unemp_list.at[i,'text'] = f'{r[13]}<br>{date} Rate: {r[3]}% ({values[2]})'"
   ]
  },
  {
   "cell_type": "markdown",
   "metadata": {},
   "source": [
    "### Save the results as an html table"
   ]
  },
  {
   "cell_type": "code",
   "execution_count": 9,
   "metadata": {
    "collapsed": true
   },
   "outputs": [],
   "source": [
    "# generate html table with data\n",
    "table = unemp_list[['MSA', 'value', 'value_ch']]\n",
    "table.columns = ['Metropolitan Statistical Area (MSA) Name', 'Unemp. rate', 'One-year change']\n",
    "table = table.sort_values('One-year change').drop_duplicates() \n",
    "# Sortable css class allows for js script to sort each column\n",
    "# https://www.kryogenix.org/code/browser/sorttable/\n",
    "table.to_html('C:/Working/bdecon.github.io/Dash/unemp_table.html', border=0, \n",
    "              index=False, classes='sortable')"
   ]
  },
  {
   "cell_type": "markdown",
   "metadata": {},
   "source": [
    "### Create a map with Plotly to show the changes"
   ]
  },
  {
   "cell_type": "code",
   "execution_count": 10,
   "metadata": {
    "collapsed": true
   },
   "outputs": [],
   "source": [
    "trace1 = {\n",
    "  \"geo\": \"geo\", \n",
    "  \"hoverinfo\": \"text\", \n",
    "  \"lat\": unemp_list['latitude'], \n",
    "  \"lon\": unemp_list['longitude'], \n",
    "  \"marker\": {\n",
    "    \"color\": unemp_list['color'], \n",
    "    \"line\": {\n",
    "      \"color\": \"#202020\", \n",
    "      \"width\": 0.8\n",
    "    }, \n",
    "    \"opacity\": 0.5, \n",
    "    \"size\": unemp_list['size'], \n",
    "    \"symbol\": \"circle\"\n",
    "  }, \n",
    "  \"mode\": \"markers\", \n",
    "  \"name\": \"Unemployment Rate Change by Metro Area\", \n",
    "  \"opacity\": 1, \n",
    "  \"showlegend\": True, \n",
    "  \"text\": unemp_list['text'], \n",
    "  \"type\": \"scattergeo\", \n",
    "  \"visible\": True\n",
    "}\n",
    "data = Data([trace1])\n",
    "layout = {\n",
    "  \"annotations\": [\n",
    "    {\n",
    "      \"x\": 0.05, \n",
    "      \"y\": 0.925, \n",
    "      \"align\": \"left\", \n",
    "      \"font\": {\"size\": 14}, \n",
    "      \"showarrow\": False, \n",
    "      \"text\": \"<b>Change in Unemployment Rate by Metropolitan Statistical Area (MSA)</b><br><i>Change over level in same month of previous year, as of {}</i>\".format(date), \n",
    "      \"xref\": \"x\", \n",
    "      \"yref\": \"y\"\n",
    "    }, \n",
    "    {\n",
    "      \"x\": 0.05, \n",
    "      \"y\": 0.0725, \n",
    "      \"align\": \"left\", \n",
    "      \"showarrow\": False, \n",
    "      \"text\": \"Hover to see details. Green is decrease in unemployment rate, red is increase. Circle size shows amount of change.  <br><b>Source:</b> U.S. Bureau of Labor Statistics, Local Area Unemployment Statistics\", \n",
    "      \"xref\": \"x\", \n",
    "      \"yref\": \"y\"\n",
    "    }\n",
    "  ], \n",
    "  \"autosize\": True, \n",
    "  \"dragmode\": \"zoom\", \n",
    "  \"geo\": {\n",
    "    \"bgcolor\": \"#fff\", \n",
    "    \"countrycolor\": \"#808080\", \n",
    "    \"countrywidth\": 0.7, \n",
    "    \"domain\": {\n",
    "      \"x\": [0, 1.1], \n",
    "      \"y\": [0, 1.1]\n",
    "    }, \n",
    "    \"lataxis\": {\n",
    "      \"dtick\": 10, \n",
    "      \"range\": [20, 80], \n",
    "      \"showgrid\": False, \n",
    "      \"tick0\": 20\n",
    "    }, \n",
    "    \"lonaxis\": {\n",
    "      \"dtick\": 30, \n",
    "      \"range\": [-180, -50], \n",
    "      \"showgrid\": False, \n",
    "      \"tick0\": -180\n",
    "    }, \n",
    "    \"projection\": {\n",
    "      \"scale\": 1.03, \n",
    "      \"type\": \"albers usa\"\n",
    "    }, \n",
    "    \"resolution\": 50, \n",
    "    \"scope\": \"usa\", \n",
    "    \"showcountries\": False, \n",
    "    \"showlakes\": False, \n",
    "    \"showland\": False, \n",
    "    \"showrivers\": False, \n",
    "    \"showsubunits\": True, \n",
    "    \"subunitcolor\": \"#808080\", \n",
    "    \"subunitwidth\": 0.7\n",
    "  }, \n",
    "  \"hidesources\": False, \n",
    "  \"hovermode\": \"closest\", \n",
    "  \"paper_bgcolor\": \"#fff\", \n",
    "  \"separators\": \".,\", \n",
    "  \"showlegend\": False, \n",
    "  \"smith\": False, \n",
    "  \"xaxis\": {\n",
    "    \"showgrid\": False, \n",
    "    \"zeroline\": False\n",
    "  }, \n",
    "  \"yaxis\": {\n",
    "    \"showgrid\": False, \n",
    "    \"zeroline\": False\n",
    "  },\n",
    "  \"margin\": {\n",
    "    \"r\": 0, \n",
    "    \"t\": 0, \n",
    "    \"b\": 0, \n",
    "    \"l\": 0\n",
    "  },\n",
    "}\n",
    "fig = Figure(data=data, layout=layout)\n",
    "plot_url = py.plot(fig, filename='MSA_Map')"
   ]
  },
  {
   "cell_type": "code",
   "execution_count": null,
   "metadata": {
    "collapsed": true
   },
   "outputs": [],
   "source": []
  },
  {
   "cell_type": "code",
   "execution_count": null,
   "metadata": {
    "collapsed": true
   },
   "outputs": [],
   "source": []
  },
  {
   "cell_type": "code",
   "execution_count": null,
   "metadata": {
    "collapsed": true
   },
   "outputs": [],
   "source": []
  }
 ],
 "metadata": {
  "kernelspec": {
   "display_name": "Python 3",
   "language": "python",
   "name": "python3"
  },
  "language_info": {
   "codemirror_mode": {
    "name": "ipython",
    "version": 3
   },
   "file_extension": ".py",
   "mimetype": "text/x-python",
   "name": "python",
   "nbconvert_exporter": "python",
   "pygments_lexer": "ipython3",
   "version": "3.6.6"
  }
 },
 "nbformat": 4,
 "nbformat_minor": 2
}
