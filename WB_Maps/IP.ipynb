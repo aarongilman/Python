{
 "cells": [
  {
   "cell_type": "code",
   "execution_count": 2,
   "metadata": {},
   "outputs": [],
   "source": [
    "import matplotlib as mpl\n",
    "import matplotlib.pyplot as plt\n",
    "import numpy as np\n",
    "import pandas as pd\n",
    "\n",
    "from geonamescache import GeonamesCache\n",
    "from matplotlib.patches import Polygon\n",
    "from matplotlib.collections import PatchCollection\n",
    "from mpl_toolkits.basemap import Basemap\n",
    "\n",
    "filename = 'wbip.csv'\n",
    "shapefile = 'shp/countries/ne_10m_admin_0_countries_lakes'\n",
    "num_colors = 9\n",
    "yearrange = ['2005', '2006', '2007', '2008', '2009', '2010', '2011', '2012', '2013', '2014']\n",
    "\n",
    "#cols = ['Country Name', 'Country Code', year]\n",
    "#title = 'Youth Unemployment in {}, (Percentage of Total Labor Force)'.format(year)\n",
    "\n",
    "#description = '''\n",
    "#Youth unemployment refers to the share of the labor force ages 15-24 without work but available for and seeking employment. Source: worldbank.org'''.strip()"
   ]
  },
  {
   "cell_type": "code",
   "execution_count": 3,
   "metadata": {
    "collapsed": true
   },
   "outputs": [],
   "source": [
    "gc = GeonamesCache()\n",
    "iso3_codes = list(gc.get_dataset_by_key(gc.get_countries(), 'iso3').keys())"
   ]
  },
  {
   "cell_type": "code",
   "execution_count": 4,
   "metadata": {},
   "outputs": [
    {
     "ename": "NameError",
     "evalue": "name 'cols' is not defined",
     "output_type": "error",
     "traceback": [
      "\u001b[1;31m---------------------------------------------------------------------------\u001b[0m",
      "\u001b[1;31mNameError\u001b[0m                                 Traceback (most recent call last)",
      "\u001b[1;32m<ipython-input-4-be8020b85a0f>\u001b[0m in \u001b[0;36m<module>\u001b[1;34m()\u001b[0m\n\u001b[1;32m----> 1\u001b[1;33m \u001b[0mdf\u001b[0m \u001b[1;33m=\u001b[0m \u001b[0mpd\u001b[0m\u001b[1;33m.\u001b[0m\u001b[0mread_csv\u001b[0m\u001b[1;33m(\u001b[0m\u001b[0mfilename\u001b[0m\u001b[1;33m,\u001b[0m \u001b[0mskiprows\u001b[0m\u001b[1;33m=\u001b[0m\u001b[1;36m4\u001b[0m\u001b[1;33m,\u001b[0m \u001b[0musecols\u001b[0m\u001b[1;33m=\u001b[0m\u001b[0mcols\u001b[0m\u001b[1;33m)\u001b[0m\u001b[1;33m\u001b[0m\u001b[0m\n\u001b[0m\u001b[0;32m      2\u001b[0m \u001b[0mdf\u001b[0m\u001b[1;33m.\u001b[0m\u001b[0mset_index\u001b[0m\u001b[1;33m(\u001b[0m\u001b[1;34m'Country Code'\u001b[0m\u001b[1;33m,\u001b[0m \u001b[0minplace\u001b[0m\u001b[1;33m=\u001b[0m\u001b[0mTrue\u001b[0m\u001b[1;33m)\u001b[0m\u001b[1;33m\u001b[0m\u001b[0m\n\u001b[0;32m      3\u001b[0m \u001b[0mdf\u001b[0m \u001b[1;33m=\u001b[0m \u001b[0mdf\u001b[0m\u001b[1;33m.\u001b[0m\u001b[0mix\u001b[0m\u001b[1;33m[\u001b[0m\u001b[0miso3_codes\u001b[0m\u001b[1;33m]\u001b[0m\u001b[1;33m.\u001b[0m\u001b[0mdropna\u001b[0m\u001b[1;33m(\u001b[0m\u001b[1;33m)\u001b[0m \u001b[1;31m# Filter out non-countries and missing values.\u001b[0m\u001b[1;33m\u001b[0m\u001b[0m\n",
      "\u001b[1;31mNameError\u001b[0m: name 'cols' is not defined"
     ]
    }
   ],
   "source": [
    "df = pd.read_csv(filename, skiprows=4, usecols=cols)\n",
    "df.set_index('Country Code', inplace=True)\n",
    "df = df.ix[iso3_codes].dropna() # Filter out non-countries and missing values."
   ]
  },
  {
   "cell_type": "code",
   "execution_count": null,
   "metadata": {},
   "outputs": [],
   "source": [
    "values = df[year]\n",
    "cm = plt.get_cmap('Greens')\n",
    "scheme = cm(1.*np.arange(num_colors)/num_colors)\n",
    "bins = np.linspace(values.min(), values.max(), num_colors)\n",
    "df['bin'] = np.digitize(values, bins) - 1\n",
    "df.sort_values('bin', ascending=False).head(5)"
   ]
  },
  {
   "cell_type": "code",
   "execution_count": 5,
   "metadata": {
    "scrolled": true
   },
   "outputs": [],
   "source": [
    "for year in yearrange:\n",
    "\n",
    "    cols = ['Country Name', 'Country Code', year]\n",
    "    title = 'Youth Unemployment in {}, (Percentage of Total Labor Force)'.format(year)\n",
    "\n",
    "    description = '''\n",
    "    Intellectual Property Data IMF from worldbank.org'''.strip()\n",
    "\n",
    "    df = pd.read_csv(filename, skiprows=4, usecols=cols)\n",
    "    df.set_index('Country Code', inplace=True)\n",
    "    df = df.ix[iso3_codes].dropna() # Filter out non-countries and missing values.\n",
    "\n",
    "    values = df[year]\n",
    "    cm = plt.get_cmap('Reds')\n",
    "    scheme = cm(1.*np.arange(num_colors)/num_colors)\n",
    "    bins = np.linspace(values.min(), values.max(), num_colors)\n",
    "    df['bin'] = np.digitize(values, bins) - 1\n",
    "    df.sort_values('bin', ascending=False).head(5)\n",
    "\n",
    "\n",
    "    mpl.style.use('seaborn-white')\n",
    "    fig = plt.figure(figsize=(22, 12))\n",
    "\n",
    "    ax = fig.add_subplot(111, axisbg='w', frame_on=False)\n",
    "    fig.suptitle('Intellectual Property Receipts in {}'.format(year), fontsize=30, y=.95)\n",
    "\n",
    "    m = Basemap(lon_0=0, projection='robin')\n",
    "    m.drawmapboundary(color='#ffffff')\n",
    "\n",
    "    m.readshapefile(shapefile, 'units', linewidth=0)\n",
    "    for info, shape in zip(m.units_info, m.units):\n",
    "        iso3 = info['ADM0_A3']\n",
    "        if iso3 not in df.index:\n",
    "            color = '#dddddd'\n",
    "        else:\n",
    "            color = scheme[df.ix[iso3]['bin']]\n",
    "\n",
    "        patches = [Polygon(np.array(shape), True)]\n",
    "        pc = PatchCollection(patches, edgecolor='#7c7c7c', lw=.2, alpha=1.)\n",
    "        pc.set_facecolor(color)\n",
    "        ax.add_collection(pc)\n",
    "\n",
    "    # Cover up Antarctica so legend can be placed over it.\n",
    "    ax.axhspan(0, 1000 * 1800, facecolor='w', edgecolor='w', zorder=2)\n",
    "\n",
    "    # Draw color legend.\n",
    "    ax_legend = fig.add_axes([0.35, 0.14, 0.3, 0.03], zorder=3)\n",
    "    cmap = mpl.colors.ListedColormap(scheme)\n",
    "    cb = mpl.colorbar.ColorbarBase(ax_legend, cmap=cmap, ticks=bins, boundaries=bins, orientation='horizontal')\n",
    "    cb.ax.set_xticklabels([str(round(i, 1)) for i in bins])\n",
    "#    cb.set_clim(0, 80)\n",
    "\n",
    "    # Set the map footer.\n",
    "    plt.annotate(description.decode('utf-8'), xy=(-.5, -2), size=14, xycoords='axes fraction')\n",
    "\n",
    "    plt.savefig('ip_' + year + '.png', bbox_inches='tight', pad_inches=.2, dpi=100)\n",
    "    \n",
    "    pass"
   ]
  },
  {
   "cell_type": "code",
   "execution_count": 6,
   "metadata": {},
   "outputs": [],
   "source": [
    "from images2gif import writeGif\n",
    "from PIL import Image\n",
    "import os\n",
    "\n",
    "file_names = sorted((fn for fn in os.listdir('.') if fn.endswith('.png')))\n",
    "\n",
    "images = [Image.open(fn) for fn in file_names]\n",
    "\n",
    "filename = \"ip.GIF\"\n",
    "writeGif(filename, images, duration=1)"
   ]
  }
 ],
 "metadata": {
  "kernelspec": {
   "display_name": "Python 3",
   "language": "python",
   "name": "python3"
  },
  "language_info": {
   "codemirror_mode": {
    "name": "ipython",
    "version": 3
   },
   "file_extension": ".py",
   "mimetype": "text/x-python",
   "name": "python",
   "nbconvert_exporter": "python",
   "pygments_lexer": "ipython3",
   "version": "3.6.6"
  }
 },
 "nbformat": 4,
 "nbformat_minor": 1
}
