{
 "cells": [
  {
   "cell_type": "code",
   "execution_count": 1,
   "metadata": {
    "collapsed": true
   },
   "outputs": [],
   "source": [
    "import matplotlib as mpl\n",
    "import matplotlib.pyplot as plt\n",
    "import numpy as np\n",
    "import pandas as pd\n",
    "\n",
    "from geonamescache import GeonamesCache\n",
    "from matplotlib.patches import Polygon\n",
    "from matplotlib.collections import PatchCollection\n",
    "from mpl_toolkits.basemap import Basemap"
   ]
  },
  {
   "cell_type": "code",
   "execution_count": 2,
   "metadata": {},
   "outputs": [],
   "source": [
    "gc = GeonamesCache()\n",
    "iso3_codes = list(gc.get_dataset_by_key(gc.get_countries(), 'iso3').keys())\n",
    "\n",
    "filename = 'extdebt.csv'\n",
    "shapefile = 'shp/countries/ne_110m_admin_0_countries_lakes'"
   ]
  },
  {
   "cell_type": "code",
   "execution_count": 3,
   "metadata": {},
   "outputs": [],
   "source": [
    "df = pd.read_csv(filename, skiprows=4)\n",
    "df.set_index('Country Code', inplace=True)"
   ]
  },
  {
   "cell_type": "code",
   "execution_count": 4,
   "metadata": {},
   "outputs": [
    {
     "name": "stderr",
     "output_type": "stream",
     "text": [
      "c:\\users\\bdew\\anaconda2\\lib\\site-packages\\matplotlib\\cbook.py:136: MatplotlibDeprecationWarning: The axisbg attribute was deprecated in version 2.0. Use facecolor instead.\n",
      "  warnings.warn(message, mplDeprecation, stacklevel=1)\n",
      "c:\\users\\bdew\\anaconda2\\lib\\site-packages\\mpl_toolkits\\basemap\\__init__.py:1623: MatplotlibDeprecationWarning: The get_axis_bgcolor function was deprecated in version 2.0. Use get_facecolor instead.\n",
      "  fill_color = ax.get_axis_bgcolor()\n",
      "c:\\users\\bdew\\anaconda2\\lib\\site-packages\\ipykernel\\__main__.py:22: DeprecationWarning: \n",
      ".ix is deprecated. Please use\n",
      ".loc for label based indexing or\n",
      ".iloc for positional indexing\n",
      "\n",
      "See the documentation here:\n",
      "http://pandas.pydata.org/pandas-docs/stable/indexing.html#deprecate_ix\n"
     ]
    }
   ],
   "source": [
    "num_colors = 9\n",
    "values = df['2010']\n",
    "cm = plt.get_cmap('Blues')\n",
    "scheme = cm(1.*np.arange(num_colors)/num_colors)\n",
    "bins = np.linspace(values.min(), values.max(), num_colors)\n",
    "df['bin'] = np.digitize(values, bins) - 1\n",
    "mpl.style.use('seaborn-white')\n",
    "fig = plt.figure(figsize=(11, 6))\n",
    "\n",
    "ax = fig.add_subplot(111, axisbg='w', frame_on=False)\n",
    "fig.suptitle('Test', fontsize=30, y=.95)\n",
    "\n",
    "m = Basemap(lon_0=0, projection='robin')\n",
    "m.drawmapboundary(color='#ffffff')\n",
    "\n",
    "m.readshapefile(shapefile, 'units', linewidth=0)\n",
    "for info, shape in zip(m.units_info, m.units):\n",
    "    iso3 = info['adm0_a3']\n",
    "    if iso3 not in df.index:\n",
    "        color = '#dddddd'\n",
    "    else:\n",
    "        color = scheme[df.ix[iso3]['bin']]\n",
    "\n",
    "    patches = [Polygon(np.array(shape), True)]\n",
    "    pc = PatchCollection(patches, edgecolor='#7c7c7c', lw=.2, alpha=1.)\n",
    "    pc.set_facecolor(color)\n",
    "    ax.add_collection(pc)\n",
    "\n",
    "plt.savefig('test.png', bbox_inches='tight', pad_inches=.2, dpi=200)"
   ]
  }
 ],
 "metadata": {
  "kernelspec": {
   "display_name": "Python 3",
   "language": "python",
   "name": "python3"
  },
  "language_info": {
   "codemirror_mode": {
    "name": "ipython",
    "version": 3
   },
   "file_extension": ".py",
   "mimetype": "text/x-python",
   "name": "python",
   "nbconvert_exporter": "python",
   "pygments_lexer": "ipython3",
   "version": "3.6.6"
  }
 },
 "nbformat": 4,
 "nbformat_minor": 1
}
