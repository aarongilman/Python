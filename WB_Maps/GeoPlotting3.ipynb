{
 "cells": [
  {
   "cell_type": "code",
   "execution_count": 1,
   "metadata": {},
   "outputs": [
    {
     "ename": "NameError",
     "evalue": "name 'year' is not defined",
     "output_type": "error",
     "traceback": [
      "\u001b[0;31m---------------------------------------------------------------------------\u001b[0m",
      "\u001b[0;31mNameError\u001b[0m                                 Traceback (most recent call last)",
      "\u001b[0;32m<ipython-input-1-e98f1d34a647>\u001b[0m in \u001b[0;36m<module>\u001b[0;34m()\u001b[0m\n\u001b[1;32m     14\u001b[0m \u001b[0myearrange\u001b[0m \u001b[1;33m=\u001b[0m \u001b[1;33m[\u001b[0m\u001b[1;34m'1991'\u001b[0m\u001b[1;33m,\u001b[0m \u001b[1;34m'1992'\u001b[0m\u001b[1;33m,\u001b[0m \u001b[1;34m'1993'\u001b[0m\u001b[1;33m,\u001b[0m \u001b[1;34m'1994'\u001b[0m\u001b[1;33m,\u001b[0m \u001b[1;34m'1995'\u001b[0m\u001b[1;33m,\u001b[0m \u001b[1;34m'1996'\u001b[0m\u001b[1;33m,\u001b[0m \u001b[1;34m'1997'\u001b[0m\u001b[1;33m,\u001b[0m \u001b[1;34m'1998'\u001b[0m\u001b[1;33m,\u001b[0m \u001b[1;34m'1999'\u001b[0m\u001b[1;33m,\u001b[0m \u001b[1;34m'2000'\u001b[0m\u001b[1;33m,\u001b[0m \u001b[1;34m'2001'\u001b[0m\u001b[1;33m,\u001b[0m \u001b[1;34m'2002'\u001b[0m\u001b[1;33m,\u001b[0m \u001b[1;34m'2003'\u001b[0m\u001b[1;33m,\u001b[0m \u001b[1;34m'2004'\u001b[0m\u001b[1;33m,\u001b[0m \u001b[1;34m'2005'\u001b[0m\u001b[1;33m,\u001b[0m \u001b[1;34m'2006'\u001b[0m\u001b[1;33m,\u001b[0m \u001b[1;34m'2007'\u001b[0m\u001b[1;33m,\u001b[0m \u001b[1;34m'2008'\u001b[0m\u001b[1;33m,\u001b[0m \u001b[1;34m'2009'\u001b[0m\u001b[1;33m,\u001b[0m \u001b[1;34m'2010'\u001b[0m\u001b[1;33m,\u001b[0m \u001b[1;34m'2011'\u001b[0m\u001b[1;33m,\u001b[0m \u001b[1;34m'2012'\u001b[0m\u001b[1;33m,\u001b[0m \u001b[1;34m'2013'\u001b[0m\u001b[1;33m,\u001b[0m \u001b[1;34m'2014'\u001b[0m\u001b[1;33m]\u001b[0m\u001b[1;33m\u001b[0m\u001b[0m\n\u001b[1;32m     15\u001b[0m \u001b[1;33m\u001b[0m\u001b[0m\n\u001b[0;32m---> 16\u001b[0;31m \u001b[0mcols\u001b[0m \u001b[1;33m=\u001b[0m \u001b[1;33m[\u001b[0m\u001b[1;34m'Country Name'\u001b[0m\u001b[1;33m,\u001b[0m \u001b[1;34m'Country Code'\u001b[0m\u001b[1;33m,\u001b[0m \u001b[0myear\u001b[0m\u001b[1;33m]\u001b[0m\u001b[1;33m\u001b[0m\u001b[0m\n\u001b[0m\u001b[1;32m     17\u001b[0m \u001b[0mtitle\u001b[0m \u001b[1;33m=\u001b[0m \u001b[1;34m'Youth Unemployment in {}, (Percentage of Total Labor Force)'\u001b[0m\u001b[1;33m.\u001b[0m\u001b[0mformat\u001b[0m\u001b[1;33m(\u001b[0m\u001b[0myear\u001b[0m\u001b[1;33m)\u001b[0m\u001b[1;33m\u001b[0m\u001b[0m\n\u001b[1;32m     18\u001b[0m \u001b[1;33m\u001b[0m\u001b[0m\n",
      "\u001b[0;31mNameError\u001b[0m: name 'year' is not defined"
     ]
    }
   ],
   "source": [
    "import matplotlib as mpl\n",
    "import matplotlib.pyplot as plt\n",
    "import numpy as np\n",
    "import pandas as pd\n",
    "\n",
    "from geonamescache import GeonamesCache\n",
    "from matplotlib.patches import Polygon\n",
    "from matplotlib.collections import PatchCollection\n",
    "from mpl_toolkits.basemap import Basemap\n",
    "\n",
    "filename = 'wbdata2.csv'\n",
    "shapefile = 'shp/countries/ne_10m_admin_0_countries_lakes'\n",
    "num_colors = 9\n",
    "yearrange = ['1991', '1992', '1993', '1994', '1995', '1996', '1997', '1998', '1999', '2000', '2001', '2002', '2003', '2004', '2005', '2006', '2007', '2008', '2009', '2010', '2011', '2012', '2013', '2014']\n",
    "\n",
    "cols = ['Country Name', 'Country Code', year]\n",
    "title = 'Youth Unemployment in {}, (Percentage of Total Labor Force)'.format(year)\n",
    "\n",
    "description = '''\n",
    "Youth unemployment refers to the share of the labor force ages 15-24 without work but available for and seeking employment. Source: worldbank.org'''.strip()"
   ]
  },
  {
   "cell_type": "code",
   "execution_count": null,
   "metadata": {
    "collapsed": true
   },
   "outputs": [],
   "source": [
    "gc = GeonamesCache()\n",
    "iso3_codes = list(gc.get_dataset_by_key(gc.get_countries(), 'iso3').keys())"
   ]
  },
  {
   "cell_type": "code",
   "execution_count": null,
   "metadata": {},
   "outputs": [],
   "source": [
    "df = pd.read_csv(filename, skiprows=4, usecols=cols)\n",
    "df.set_index('Country Code', inplace=True)\n",
    "df = df.ix[iso3_codes].dropna() # Filter out non-countries and missing values."
   ]
  },
  {
   "cell_type": "code",
   "execution_count": null,
   "metadata": {},
   "outputs": [],
   "source": [
    "values = df[year]\n",
    "cm = plt.get_cmap('Reds')\n",
    "scheme = cm(1.*np.arange(num_colors)/num_colors)\n",
    "bins = np.linspace(values.min(), values.max(), num_colors)\n",
    "df['bin'] = np.digitize(values, bins) - 1\n",
    "df.sort_values('bin', ascending=False).head(5)"
   ]
  },
  {
   "cell_type": "code",
   "execution_count": null,
   "metadata": {
    "scrolled": true
   },
   "outputs": [],
   "source": [
    "for year in yearrange:\n",
    "\n",
    "    cols = ['Country Name', 'Country Code', year]\n",
    "    title = 'Youth Unemployment in {}, (Percentage of Total Labor Force)'.format(year)\n",
    "\n",
    "    description = '''\n",
    "    Youth unemployment refers to the share of the labor force ages 15-24 without work but available for and seeking employment. Source: worldbank.org'''.strip()\n",
    "\n",
    "    df = pd.read_csv(filename, skiprows=4, usecols=cols)\n",
    "    df.set_index('Country Code', inplace=True)\n",
    "    df = df.ix[iso3_codes].dropna() # Filter out non-countries and missing values.\n",
    "\n",
    "    values = df[year]\n",
    "    cm = plt.get_cmap('Reds')\n",
    "    scheme = cm(1.*np.arange(num_colors)/num_colors)\n",
    "    bins = np.linspace(values.min(), values.max(), num_colors)\n",
    "    df['bin'] = np.digitize(values, bins) - 1\n",
    "    df.sort_values('bin', ascending=False).head(5)\n",
    "\n",
    "\n",
    "    mpl.style.use('seaborn-white')\n",
    "    fig = plt.figure(figsize=(22, 12))\n",
    "\n",
    "    ax = fig.add_subplot(111, axisbg='w', frame_on=False)\n",
    "    fig.suptitle('Youth Unemployment Rate by Country in {}'.format(year), fontsize=30, y=.95)\n",
    "\n",
    "    m = Basemap(lon_0=0, projection='robin')\n",
    "    m.drawmapboundary(color='#ffffff')\n",
    "\n",
    "    m.readshapefile(shapefile, 'units', linewidth=0)\n",
    "    for info, shape in zip(m.units_info, m.units):\n",
    "        iso3 = info['ADM0_A3']\n",
    "        if iso3 not in df.index:\n",
    "            color = '#dddddd'\n",
    "        else:\n",
    "            color = scheme[df.ix[iso3]['bin']]\n",
    "\n",
    "        patches = [Polygon(np.array(shape), True)]\n",
    "        pc = PatchCollection(patches, edgecolor='#7c7c7c', lw=.2, alpha=1.)\n",
    "        pc.set_facecolor(color)\n",
    "        ax.add_collection(pc)\n",
    "\n",
    "    # Cover up Antarctica so legend can be placed over it.\n",
    "    ax.axhspan(0, 1000 * 1800, facecolor='w', edgecolor='w', zorder=2)\n",
    "\n",
    "    # Draw color legend.\n",
    "    ax_legend = fig.add_axes([0.35, 0.14, 0.3, 0.03], zorder=3)\n",
    "    cmap = mpl.colors.ListedColormap(scheme)\n",
    "    cb = mpl.colorbar.ColorbarBase(ax_legend, cmap=cmap, ticks=bins, boundaries=bins, orientation='horizontal')\n",
    "    cb.ax.set_xticklabels([str(round(i, 1)) for i in bins])\n",
    "    cb.set_clim(0, 80)\n",
    "\n",
    "    # Set the map footer.\n",
    "    plt.annotate(description.decode('utf-8'), xy=(-.5, -2), size=14, xycoords='axes fraction')\n",
    "\n",
    "    plt.savefig('unemp_' + year + '.png', bbox_inches='tight', pad_inches=.2, dpi=100)\n",
    "    plt.clf()\n",
    "    pass"
   ]
  },
  {
   "cell_type": "code",
   "execution_count": null,
   "metadata": {},
   "outputs": [],
   "source": [
    "from images2gif import writeGif\n",
    "from PIL import Image\n",
    "import os\n",
    "\n",
    "file_names = sorted((fn for fn in os.listdir('.') if fn.endswith('.png')))\n",
    "\n",
    "images = [Image.open(fn) for fn in file_names]\n",
    "\n",
    "filename = \"youthunemp.GIF\"\n",
    "writeGif(filename, images, duration=1)"
   ]
  }
 ],
 "metadata": {
  "kernelspec": {
   "display_name": "Python 3",
   "language": "python",
   "name": "python3"
  },
  "language_info": {
   "codemirror_mode": {
    "name": "ipython",
    "version": 3
   },
   "file_extension": ".py",
   "mimetype": "text/x-python",
   "name": "python",
   "nbconvert_exporter": "python",
   "pygments_lexer": "ipython3",
   "version": "3.6.6"
  }
 },
 "nbformat": 4,
 "nbformat_minor": 1
}
